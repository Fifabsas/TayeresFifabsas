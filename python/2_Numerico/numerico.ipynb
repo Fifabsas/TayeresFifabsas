{
  "cells": [
    {
      "cell_type": "markdown",
      "metadata": {
        "id": "Y7JgKfzlPBrr"
      },
      "source": [
        "![taller_python](https://github.com/fifabsas/talleresfifabsas/blob/master/python/2_Numerico/fig/logo_fifa.png?raw=true)"
      ]
    },
    {
      "cell_type": "markdown",
      "metadata": {
        "id": "os_60KoG9612"
      },
      "source": [
        "# Taller de Python Capítulo 2:  Numérico y Laboratorio\n",
        "[Link al notebook en Google Colaboratory](https://drive.google.com/file/d/1yEKwDqog33Er6GNpxxXHSoz2Wh7HhIe4/view?usp=sharing)"
      ]
    },
    {
      "cell_type": "markdown",
      "metadata": {
        "id": "w5EORpIB961-"
      },
      "source": [
        "## Nuestra motivación para hoy\n",
        "De la última clase, tenemos herramientas básicas de Python que tienen muchisimas aplicaciones. Hoy vamos a ver como se puede usar Python para analizar datos de una caida libre. Digamos que en su laboratorio adquirieron los datos de la posición de una pelotita en distintos tiempos, luego de haberla soltado a una altura de 100 metros. Ahora, quieren cargar estos datos a un programa de Python, visualizarlos, y obtener el valor de la gravedad $g$.\n",
        "\n",
        "Vamos a ver algunas herramientas que nos permitirán llevar esto a cabo."
      ]
    },
    {
      "cell_type": "markdown",
      "metadata": {
        "id": "jTt04ORN961_"
      },
      "source": [
        "---\n",
        "\n",
        "## _Bibliotecas_\n",
        "Ya hemos visto la vez anterior que Python tiene varias funciones que vienen \"de fábrica\" como `help()`, `print()` así también como operaciones básicas entre números como sumar, restar, etc; también vimos que nosotros podemos crear nustras propias funciones para que hagan lo que necesitemos usando la palabra clave `def nombre_funcion`. Si uno necesita siempre realizar las mismas operaciones, reutilizará la misma función en todos sus códigos.\n",
        "\n",
        "Por ejemplo: Supongamos que uno quiere calcular `cos(x)`. Python no viene por defecto con esa operación, uno debería crear un algoritmo (es decir, una serie de acciones) que calcule el valor del cos de x (cosa que puede ser no trivial), pero es _obvio_ que alguien ya lo hizo antes, alguien ya pensó el algoritmo, lo escribió, y lo utiliza diariamente, si esta persona subió su código a internet, todos podemos aprovechar y utilizarlo sin preocuparnos en cómo hizo esta persona!! Solamente hay que decirle a Python _donde_ es que está guardado esta función. **Esta posibilidad de usar algoritmos de otros es fundamental en la programación, porque es lo que permite que nuestro problema se limite solamente a entender cómo llamar a estos algoritmos ya pensados y no tener que pensarlos cada vez**.\n",
        "\n",
        "Vamos entonces a decirle a Python que, además de sus operaciones de fábrica, queremos ampliar nuestro abanico de operaciones matemáticas en todas las opciones que aparecen dentro de la biblioteca \"math\" (una biblioteca es, tal como sugiere el nombre, un archivo con un montón de funciones, objetos y demás).\n"
      ]
    },
    {
      "cell_type": "code",
      "execution_count": null,
      "metadata": {
        "id": "AJQnKcwW962B"
      },
      "outputs": [],
      "source": [
        "import math  # Importo a mi programa todo lo que este contenido dentro del archivo \"math\""
      ]
    },
    {
      "cell_type": "markdown",
      "metadata": {
        "id": "swNFXCSM962D"
      },
      "source": [
        "Con esta linea Python entiende que queremos que traiga todo lo que está dentro del archivo \"math\"\n",
        "\n",
        "###### <span style='color:red'>OJO:</span> No todas las bibliotecas vienen instaladas por defecto, si queremos usar una muy rara es probable que tengamos que instalarla nosotros. Las que vamos a utilizar en el curso ya vienen instaladas por Google en Colaboratory o fueron instaladas automaticamente por Anaconda en su computadora.\n",
        "\n",
        "Macanudo, ahora que Python trajo esa biblioteca, nosotros podemos acceder a su contenido usando la sintaxis ```math.lo_que_haya_dentro_de_math``` por ejemplo, ```math.cos()```"
      ]
    },
    {
      "cell_type": "code",
      "execution_count": null,
      "metadata": {
        "id": "iGzP4335962E",
        "colab": {
          "base_uri": "https://localhost:8080/"
        },
        "outputId": "aebbc3ce-1efd-4f44-d32f-6cdf0c943825"
      },
      "outputs": [
        {
          "output_type": "execute_result",
          "data": {
            "text/plain": [
              "1.0"
            ]
          },
          "metadata": {},
          "execution_count": 6
        }
      ],
      "source": [
        "math.cos(0)"
      ]
    },
    {
      "cell_type": "markdown",
      "metadata": {
        "id": "Qvu3D0aN962F"
      },
      "source": [
        "Hay una infinidad de bibliotecas o librerías dando vueltas por internet. Muchas veces el problema que queremos solucionar se reduce simplemente a encontrar la librería que tenga la funcionalidad correcta.\n",
        "\n",
        "Ahora continuaremos usando una muy utilizada en nuestro ámbito, la querídisima NumPy."
      ]
    },
    {
      "cell_type": "markdown",
      "metadata": {
        "id": "Z_Zz58m6962G"
      },
      "source": [
        "## _NumPy_ : vectores, matrices y tablas de datos\n",
        "\n",
        "NumPy (NUMeric PYthon) es **LA** biblioteca para operar sobre vectores de números. Además de contener un nuevo [tipo de dato](http://docs.scipy.org/doc/numpy/reference/arrays.ndarray.html) que nos va a ser muy útil para representar vectores y matrices, nos provee de un arsenal de [funciones de todo tipo](https://docs.scipy.org/doc/numpy/reference/routines.html).\n",
        "\n",
        "Vamos a empezar por importar la bliblioteca _numpy_. La sintaxis típica de eso era `import biblio as nombre`:"
      ]
    },
    {
      "cell_type": "code",
      "execution_count": null,
      "metadata": {
        "id": "ejBOu9HQ962H",
        "colab": {
          "base_uri": "https://localhost:8080/"
        },
        "outputId": "2dedacfc-05ec-4602-f466-f93d62e22b5a"
      },
      "outputs": [
        {
          "output_type": "stream",
          "name": "stdout",
          "text": [
            "El numero e = 2.718281828459045\n",
            "O el numero Pi = 3.141592653589793\n"
          ]
        }
      ],
      "source": [
        "import numpy as np  # con eso voy a poder acceder a las funciones de numpy a través de np.función()\n",
        "\n",
        "# Por ejemplo\n",
        "print(f\"El numero e = {np.e}\")\n",
        "print(f\"O el numero Pi = {np.pi}\")"
      ]
    },
    {
      "cell_type": "code",
      "source": [
        "# Podemos calcular senos y cosenos de numeros igual que con math!\n",
        "print(np.sin(np.pi))  # casi cero! guarda con los floats!"
      ],
      "metadata": {
        "id": "8BjIa881S-i_",
        "colab": {
          "base_uri": "https://localhost:8080/"
        },
        "outputId": "b3a3b6a4-0911-4d45-dc0e-95f21642bf5b"
      },
      "execution_count": null,
      "outputs": [
        {
          "output_type": "stream",
          "name": "stdout",
          "text": [
            "1.2246467991473532e-16\n"
          ]
        }
      ]
    },
    {
      "cell_type": "markdown",
      "metadata": {
        "id": "lSksN2iI962J"
      },
      "source": [
        "Todo eso está muy bien, pero lo importante de _numpy_ son los arrays numéricos, que van a ser como una lista de números pero con muchos esteroides. Los arrays numéricos nos van a servir para representar vectores (el objeto matemático de \"la tira de números\", no el físico) o columnas/tablas de datos (el objeto oriyinezco o de laboratorio).\n",
        "\n",
        "> (Ojo, los arrays no son vectores, aunque pueden comportarse como tales en muchos sentidos)\n",
        "\n",
        "La idea es que es parecido a una lista: son muchos números juntos en la misma variable y están indexados (los puedo llamar de a uno dando la posición dentro de la variable). La gran diferencia con las listas de Python es que los arrays de _numpy_ operan de la forma que todos queremos:\n",
        "1. Si sumamos o restamos dos arrays, se suman componente a componente.\n",
        "2. Si multiplicamos o dividimos dos arrays, se multiplican o dividen componente a componente.\n",
        "\n",
        "Veamos ejemplos usando la función `np.array` para crear arrays básicos."
      ]
    },
    {
      "cell_type": "code",
      "execution_count": null,
      "metadata": {
        "id": "WJ71p4br962K",
        "colab": {
          "base_uri": "https://localhost:8080/"
        },
        "outputId": "b40573c2-c2bf-49c0-c460-40b119313905"
      },
      "outputs": [
        {
          "output_type": "stream",
          "name": "stdout",
          "text": [
            "ARRAYS:\n",
            "[1 2 3 4] + [5 6 7 8] =  [ 6  8 10 12]\n",
            "[1 2 3 4] * [5 6 7 8] = [ 5 12 21 32]\n"
          ]
        }
      ],
      "source": [
        "array_1 = np.array([1, 2, 3, 4])\n",
        "array_2 = np.array([5, 6, 7, 8])\n",
        "\n",
        "print(\"ARRAYS:\")\n",
        "print(f\"{array_1} + {array_2} =  {array_1 + array_2}\")\n",
        "print(f\"{array_1} * {array_2} = {array_1*array_2}\")"
      ]
    },
    {
      "cell_type": "markdown",
      "source": [
        "En el caso de las listas esto era muy molesto"
      ],
      "metadata": {
        "id": "EZaEuuZETcp7"
      }
    },
    {
      "cell_type": "code",
      "source": [
        "lista_1 = [1, 2, 3, 4]\n",
        "lista_2 = [5, 6, 7, 8]\n",
        "\n",
        "print(\"LISTAS:\")\n",
        "print(f\"{lista_2} + {lista_1} = {lista_1 + lista_2}\")  # sumar concatena\n",
        "# print(lista_1 * lista_2) # esto ni siquiera se puede hacer!"
      ],
      "metadata": {
        "id": "rG7OAnYTTcLg",
        "colab": {
          "base_uri": "https://localhost:8080/"
        },
        "outputId": "a7579d0a-478a-4cee-9fe9-35adade15d7b"
      },
      "execution_count": null,
      "outputs": [
        {
          "output_type": "stream",
          "name": "stdout",
          "text": [
            "LISTAS:\n",
            "[5, 6, 7, 8] + [1, 2, 3, 4] = [1, 2, 3, 4, 5, 6, 7, 8]\n"
          ]
        }
      ]
    },
    {
      "cell_type": "markdown",
      "metadata": {
        "id": "a5yhuml3962L"
      },
      "source": [
        "Y al igual que con las listas, uno puede acceder a elementos específicos de un array con su índice:"
      ]
    },
    {
      "cell_type": "code",
      "execution_count": null,
      "metadata": {
        "id": "RmKdobbT962M",
        "colab": {
          "base_uri": "https://localhost:8080/"
        },
        "outputId": "63ee22e3-2c42-418e-ce3f-d9e6ea83b63d"
      },
      "outputs": [
        {
          "output_type": "stream",
          "name": "stdout",
          "text": [
            "1 2 3 4\n",
            "8\n"
          ]
        }
      ],
      "source": [
        "print(array_1[0], array_1[1], array_1[2], array_1[3])\n",
        "\n",
        "# Y más o menos vale todo lo que valía con listas\n",
        "print(array_2[-1])  # agarro al último elemento de b"
      ]
    },
    {
      "cell_type": "markdown",
      "metadata": {
        "id": "_95ieRhV962M"
      },
      "source": [
        "También podemos iterar sobre ellos con _for_ , de las mismas formas que habíamos visto para iterar listas."
      ]
    },
    {
      "cell_type": "code",
      "execution_count": null,
      "metadata": {
        "id": "bcLrdFKg962N",
        "colab": {
          "base_uri": "https://localhost:8080/"
        },
        "outputId": "b3517353-2ce4-445f-f749-1282f48a3758"
      },
      "outputs": [
        {
          "output_type": "stream",
          "name": "stdout",
          "text": [
            "array_1:\n",
            "1\n",
            "2\n",
            "3\n",
            "4\n",
            "\n",
            "array_2:\n",
            "5\n",
            "6\n",
            "7\n",
            "8\n"
          ]
        }
      ],
      "source": [
        "# Aca itero sobre los ELEMENTOS de array_1\n",
        "print(\"array_1:\")\n",
        "for num in array_1:\n",
        "    print(num)\n",
        "\n",
        "print()\n",
        "\n",
        "# Aca itero sobre los INDICES de array_2\n",
        "print(\"array_2:\")\n",
        "for j in range(len(array_2)):\n",
        "    print(array_2[j])"
      ]
    },
    {
      "cell_type": "markdown",
      "metadata": {
        "id": "vOQhszEc962N"
      },
      "source": [
        "#### Arrays de dos dimensiones\n",
        "\n",
        "Para crear *arrays* de dos dimensiones (o más), podemos aplicar la función `np.array` sobre una *lista de listas*:"
      ]
    },
    {
      "cell_type": "code",
      "execution_count": null,
      "metadata": {
        "id": "Y7rWNeSB962O",
        "colab": {
          "base_uri": "https://localhost:8080/"
        },
        "outputId": "2b3d0564-d8b3-462f-fa22-6feca9cf47a7"
      },
      "outputs": [
        {
          "output_type": "stream",
          "name": "stdout",
          "text": [
            "[[1 2 3]\n",
            " [4 5 6]\n",
            " [7 8 9]]\n"
          ]
        }
      ],
      "source": [
        "# Cada lista corresponde a una fila de la matriz\n",
        "\n",
        "M = np.array([[1, 2, 3], [4, 5, 6], [7, 8, 9]])\n",
        "\n",
        "print(M)"
      ]
    },
    {
      "cell_type": "markdown",
      "source": [
        "Aca hacer M[0] dara la primer FILA de la matrix."
      ],
      "metadata": {
        "id": "E9IC_cd3gn2O"
      }
    },
    {
      "cell_type": "code",
      "source": [
        "print(M[0])"
      ],
      "metadata": {
        "id": "OHdX7Lt5gqBE",
        "colab": {
          "base_uri": "https://localhost:8080/"
        },
        "outputId": "f6feb64a-bbf8-428d-b3d9-770d2ad673c6"
      },
      "execution_count": null,
      "outputs": [
        {
          "output_type": "stream",
          "name": "stdout",
          "text": [
            "[1 2 3]\n"
          ]
        }
      ]
    },
    {
      "cell_type": "markdown",
      "source": [
        "Si queremos sacar la primer componente habra que hacer M[0, 0]"
      ],
      "metadata": {
        "id": "XPwPCK3TgxUF"
      }
    },
    {
      "cell_type": "code",
      "source": [
        "print(M[0, 0])"
      ],
      "metadata": {
        "id": "OWesiGfdgx12",
        "colab": {
          "base_uri": "https://localhost:8080/"
        },
        "outputId": "25f34830-6cdf-4f45-a7cf-fda80f667c94"
      },
      "execution_count": null,
      "outputs": [
        {
          "output_type": "stream",
          "name": "stdout",
          "text": [
            "1\n"
          ]
        }
      ]
    },
    {
      "cell_type": "markdown",
      "metadata": {
        "id": "c5CUGdHb962P"
      },
      "source": [
        "Para facilitar la vida del usuario _numpy_ viene con un montón de rutinas de creación de arrays típicos. En particular, matrices típicas como las identidades o de todos elementos iguales a 1 o 0 y arrays con cierta cantidad de elementos entre dos números (muy útil para crear dominios para gráficos).\n",
        "\n",
        "Veamos ejemplos de esos:"
      ]
    },
    {
      "cell_type": "code",
      "execution_count": null,
      "metadata": {
        "id": "bUQe_D5K962P",
        "colab": {
          "base_uri": "https://localhost:8080/"
        },
        "outputId": "41669f6c-ceea-4e4a-c07c-f986e96bfb14"
      },
      "outputs": [
        {
          "output_type": "stream",
          "name": "stdout",
          "text": [
            "Numero de puntos fijo: [0.         0.11111111 0.22222222 0.33333333 0.44444444 0.55555556\n",
            " 0.66666667 0.77777778 0.88888889 1.        ]\n"
          ]
        }
      ],
      "source": [
        "# N = 11 puntos en el rango [0, 1] con 1/(N-1) de espaciamiento\n",
        "\n",
        "equi_linspace = np.linspace(0, 1, 10)\n",
        "\n",
        "print(f'Numero de puntos fijo: {equi_linspace}')"
      ]
    },
    {
      "cell_type": "code",
      "source": [
        "#  Elijo el paso entre [0, 1), lo que me da\n",
        "#  {0, paso, 2*paso, ... n*paso} siempre que n*paso<1\n",
        "\n",
        "equi_arange = np.arange(0, 1, 0.1)\n",
        "\n",
        "print(f'Paso entre puntos fijo: {equi_arange}')"
      ],
      "metadata": {
        "id": "BPjEtNLzhHjz",
        "colab": {
          "base_uri": "https://localhost:8080/"
        },
        "outputId": "cf737f22-9fb3-4628-d199-399d4f8907c2"
      },
      "execution_count": null,
      "outputs": [
        {
          "output_type": "stream",
          "name": "stdout",
          "text": [
            "Paso entre puntos fijo: [0.  0.1 0.2 0.3 0.4 0.5 0.6 0.7 0.8 0.9]\n"
          ]
        }
      ]
    },
    {
      "cell_type": "markdown",
      "source": [
        "Otros ejemplos"
      ],
      "metadata": {
        "id": "phT_hxAsjEcj"
      }
    },
    {
      "cell_type": "code",
      "execution_count": null,
      "metadata": {
        "id": "UFnRtdHb962P",
        "colab": {
          "base_uri": "https://localhost:8080/"
        },
        "outputId": "7cd5735a-eb4d-4110-a4e6-f46fd7aec295"
      },
      "outputs": [
        {
          "output_type": "stream",
          "name": "stdout",
          "text": [
            "Matriz identidad:\n",
            "[[1. 0. 0.]\n",
            " [0. 1. 0.]\n",
            " [0. 0. 1.]]\n",
            "\n",
            "Matriz de ceros:\n",
            "[[0. 0. 0. 0.]\n",
            " [0. 0. 0. 0.]\n",
            " [0. 0. 0. 0.]\n",
            " [0. 0. 0. 0.]]\n",
            "\n",
            "Matriz de unos:\n",
            "[[1. 1. 1.]\n",
            " [1. 1. 1.]]\n",
            "\n",
            "Identidad corrida:\n",
            "[[0. 1. 0. 0. 0.]\n",
            " [0. 0. 1. 0. 0.]\n",
            " [0. 0. 0. 1. 0.]\n",
            " [0. 0. 0. 0. 1.]\n",
            " [0. 0. 0. 0. 0.]]\n",
            "\n",
            "Matriz con diagonal cualquiera:\n",
            "[[1 0 0 0]\n",
            " [0 2 0 0]\n",
            " [0 0 3 0]\n",
            " [0 0 0 4]]\n"
          ]
        }
      ],
      "source": [
        "# Matriz identidad de 3x3\n",
        "identidad = np.identity(3)\n",
        "print(f'Matriz identidad:\\n{identidad}')\n",
        "print()\n",
        "\n",
        "# Matriz de todos 0 de 4x4\n",
        "ceros = np.zeros((4, 4))\n",
        "print(f'Matriz de ceros:\\n{ceros}')\n",
        "print()\n",
        "\n",
        "# Matriz de todos 1 de 2x3\n",
        "unos = np.ones((2,3))\n",
        "print(f'Matriz de unos:\\n{unos}')\n",
        "print()\n",
        "\n",
        "# Matriz con diagonal corrida de 5x5\n",
        "ojos = np.eye(5, k=1)\n",
        "print(f'Identidad corrida:\\n{ojos}')\n",
        "print()\n",
        "\n",
        "# Matriz con la diagonal que yo le doy\n",
        "diagonal = np.diag([1, 2, 3, 4])\n",
        "print(f'Matriz con diagonal cualquiera:\\n{diagonal}')"
      ]
    },
    {
      "cell_type": "markdown",
      "metadata": {
        "id": "UCsbhv9z962Q"
      },
      "source": [
        "Y antes de seguir, algo que siempre puede ser útil: los arrays tienen ciertas propiedades como su _shape_ (de cuánto por cuánto) y el _dtype_ (qué tipo de cosas tiene adentro). Podemos acceder a estos datos de la siguiente manera:"
      ]
    },
    {
      "cell_type": "code",
      "execution_count": null,
      "metadata": {
        "id": "grSCuJxV962Q",
        "colab": {
          "base_uri": "https://localhost:8080/"
        },
        "outputId": "e071d5ba-2585-4b32-cfe5-2bdf80efcb8a"
      },
      "outputs": [
        {
          "output_type": "stream",
          "name": "stdout",
          "text": [
            "float64\n"
          ]
        }
      ],
      "source": [
        "# Array de 1000 elementos\n",
        "x = np.linspace(0, 10, 1000)\n",
        "\n",
        "# ¿De qué tipos son los elementos de x?\n",
        "print(x.dtype)  # Ojo, sin paréntesis"
      ]
    },
    {
      "cell_type": "code",
      "source": [
        "# Matriz llena de 0 de 40x100\n",
        "ceros = np.zeros((40, 100))\n",
        "\n",
        "# De qué tamaño es la matriz\n",
        "print(ceros.shape)"
      ],
      "metadata": {
        "id": "kCMWPo-gku6p",
        "colab": {
          "base_uri": "https://localhost:8080/"
        },
        "outputId": "43882b65-08ab-409b-80e8-d7e2f2c2f2ae"
      },
      "execution_count": null,
      "outputs": [
        {
          "output_type": "stream",
          "name": "stdout",
          "text": [
            "(40, 100)\n"
          ]
        }
      ]
    },
    {
      "cell_type": "markdown",
      "metadata": {
        "id": "Ccs3GpRG962T"
      },
      "source": [
        "---\n",
        "\n",
        "### Ejercicio 0\n",
        "\n",
        "Vamos a crear los valores de tiempo y posición que uno espera para una caida libre. Para esto, vamos a necesitar un array de valores 10 equiespaciados para el tiempo $t$, desde 0 hasta 3 segundos, y luego obtener la posición en metros mediante la ecuación:\n",
        "\n",
        "$$y(t) = y_0 - \\frac{g}{2}t^2$$\n",
        "\n",
        "Donde asumimos velocidad inicial nula, $g = 9.81 \\mathrm{\\frac{m}{s^2}}$ e $y_0 = 100\\; \\mathrm{m}$. Llamar las variables de tiempo $t$ e $y$ como ```t_teorico``` e ```y_teorico``` respectivamente.\n",
        "\n",
        "Mas adelante compararemos estos valores con otros medidos en el laboratorio.\n",
        "\n",
        "**Recordar que podemos aplicar operaciones matemáticas a los _arrays_**\n",
        "\n",
        "---\n"
      ]
    },
    {
      "cell_type": "markdown",
      "metadata": {
        "id": "6E7_LMjRqycH"
      },
      "source": [
        "## Llevando los datos a Python\n",
        "Muchas veces estamos acostumbrados a guardar los datos en hojas de Excel o en las Hoja de Cálculo de Drive. Python puede leer estas hojas utilizando las librerías adecuadas, pero es más sencillo, y es mejor práctica, exportar estos archivos en CSV para luego leerlos desde ahí.\n",
        "\n",
        "##### Por qué CSV\n",
        "* El formato **CSV (Comma Separated Values)** es abierto y un estándar a la hora de guardar datos de tipo fila o columna. Guardar los datos en Excel o Drive no está mal, pero se dificulta a la hora de pasarle los archivos a un/a colega, los CSV los puede abrir cualquiera! Inclusive, se pueden abrir Excel y Drive si se busca visualizarlo mejor.\n",
        "* Con pocos datos no hay problemas de _lag_ o *crasheos*, pero si son muchos datos: _\"Microsoft Excel dejó de responder\"_ .$^1$\n",
        "\n",
        "\n",
        "Acá una imagen de cómo descargar los archivos de Drive en CSV y de cómo se ven una vez en la compu. Es solo un archivo de texto con valores separados con comas, nada místico.\n",
        "\n",
        "![](fig/export_drive_calc_to_csv.gif)\n",
        "\n",
        "$\\scriptsize\\text{1. Para archivos muchos muuuchos datos inclusive los CSV se pueden quedar corto, y para estos casos existen formatos específicos que dependen de la naturaleza de los datos.}$"
      ]
    },
    {
      "cell_type": "markdown",
      "metadata": {
        "id": "KmP_7wBqqycI"
      },
      "source": [
        "Una vez tenemos el archivo que descargamos podemos leerlo desde Python utilizando numpy. En este caso, la linea es\n",
        "```python\n",
        "data = np.loadtxt('nombre_del_archivo.csv', delimiter=',', skiprows=1, unpack=True)\n",
        "```\n",
        "\n",
        "Desglosemos esto por argumentos:\n",
        "1. El primer argumento es ubicación del archivo con la ruta respecto del archivo de Python. En este caso tenemos ambos archivos en la misma carpeta por lo que es solo el nombre.\n",
        "2. El segundo argumento, _delimiter_, recibe un _string_ que le indica a Python cómo están separados los valores en nuestro archivo. En este caso es por comas porque son archivos CSV.\n",
        "3. El tercer argumento es más opcional, y nos permite evitar que Python lea algunas lineas del archivo. En nuestro caso pusimos *1* ya que queremos evitar que lea la primera linea, que dice _\"VAR 1, VAR 2\"_.\n",
        "4. Por qué `unpack=True`\n",
        "\n",
        "    `np.loadtxt()` por defecto te da los valores exactamente como están en el CSV, por lo que en este caso nos daría 2 columnas de datos con 20 filas. Utilizando `unpack=True` trasponemos los datos para pasar las columnas a filas, de modo que la primera fila (`data[0]`) sean los datos de _VAR 1_ y la segunda fila (`data[1]`) sean los valores de _VAR 2_. Acá el código utilizando `unpack=True` y sin utilizarlo\n",
        "    \n",
        "    También podríamos importarlo sin usar el `unpack=True` y luego usar `data = np.transpose(data)`"
      ]
    },
    {
      "cell_type": "code",
      "execution_count": null,
      "metadata": {
        "colab": {
          "base_uri": "https://localhost:8080/"
        },
        "outputId": "7723e692-7056-47ce-b778-813257af42a4",
        "id": "NORDN2qbqycI"
      },
      "outputs": [
        {
          "output_type": "stream",
          "name": "stdout",
          "text": [
            "Data sin unpack:\n",
            " [[ 0.    1.93  1.  ]\n",
            " [ 1.58  1.67  1.  ]\n",
            " [ 3.16  1.3   1.  ]\n",
            " [ 4.74  0.63  1.  ]\n",
            " [ 6.32  1.26  1.  ]\n",
            " [ 7.89  2.38  1.  ]\n",
            " [ 9.47  2.91  1.  ]\n",
            " [11.05  2.36  1.  ]\n",
            " [12.63  3.93  1.  ]\n",
            " [14.21  4.8   1.  ]\n",
            " [15.79  4.83  1.  ]\n",
            " [17.37  5.17  1.  ]\n",
            " [18.95  6.21  1.  ]\n",
            " [20.53  7.94  1.  ]\n",
            " [22.11  9.12  1.  ]\n",
            " [23.68 11.09  1.  ]\n",
            " [25.26 12.57  1.  ]\n",
            " [26.84 14.28  1.  ]\n",
            " [28.42 17.1   1.  ]\n",
            " [30.   20.56  1.  ]]\n",
            "Primera columna:\n",
            "[0.   1.93 1.  ]\n"
          ]
        }
      ],
      "source": [
        "data = np.loadtxt('data_exp.csv', delimiter=',', skiprows=1)\n",
        "\n",
        "print(f\"Data sin unpack:\\n {data}\")\n",
        "\n",
        "print(f'Primera columna:\\n{data[0]}')"
      ]
    },
    {
      "cell_type": "code",
      "source": [
        "data = np.loadtxt('data_exp.csv', delimiter=',', skiprows=1, unpack=True)\n",
        "\n",
        "print(f\"\\nData con unpack:\\n {data}\")\n",
        "\n",
        "print(f'Primera columna:\\n{data[0]}')"
      ],
      "metadata": {
        "colab": {
          "base_uri": "https://localhost:8080/"
        },
        "outputId": "63a1967a-d1e8-4f45-bf36-dd98f2749dc2",
        "id": "gsqqUxYSqycJ"
      },
      "execution_count": null,
      "outputs": [
        {
          "output_type": "stream",
          "name": "stdout",
          "text": [
            "\n",
            "Data con unpack:\n",
            " [[ 0.    1.58  3.16  4.74  6.32  7.89  9.47 11.05 12.63 14.21 15.79 17.37\n",
            "  18.95 20.53 22.11 23.68 25.26 26.84 28.42 30.  ]\n",
            " [ 1.93  1.67  1.3   0.63  1.26  2.38  2.91  2.36  3.93  4.8   4.83  5.17\n",
            "   6.21  7.94  9.12 11.09 12.57 14.28 17.1  20.56]\n",
            " [ 1.    1.    1.    1.    1.    1.    1.    1.    1.    1.    1.    1.\n",
            "   1.    1.    1.    1.    1.    1.    1.    1.  ]]\n",
            "Primera columna:\n",
            "[ 0.    1.58  3.16  4.74  6.32  7.89  9.47 11.05 12.63 14.21 15.79 17.37\n",
            " 18.95 20.53 22.11 23.68 25.26 26.84 28.42 30.  ]\n"
          ]
        }
      ]
    },
    {
      "cell_type": "markdown",
      "metadata": {
        "id": "uYoXx7Tc962T"
      },
      "source": [
        "---\n",
        "\n",
        "### Ejercicio 1\n",
        "\n",
        "Ahora vamos a cargar los datos guardados en el laboratorio, utilizando un .csv y las funcionalidades de Numpy. Guardar el tiempo y la posición en dos variables ```t_labo``` e ```y_labo```.\n",
        "\n",
        "Para cargar el archivo se pueden seguir los siguientes pasos:\n",
        "1. Descargar el archivo en este [link](https://raw.githubusercontent.com/fifabsas/talleresfifabsas/master/python/2_Numerico/data_caida_libre.csv). Pueden hacerlo con click derecho -> \"Guardar como...\"\n",
        "2. Importen el archivo data_caida_libre.csv a Python (miren el archivo para ver cuántas filas tienen que saltarse)\n"
      ]
    },
    {
      "cell_type": "markdown",
      "metadata": {
        "id": "b3UEu1FY962T"
      },
      "source": [
        "---\n",
        "## Graficar funciones"
      ]
    },
    {
      "cell_type": "markdown",
      "metadata": {
        "id": "bCKr_oN7962U"
      },
      "source": [
        "A lo largo de nuestras carreras, y de la vida, nos encontramos con información que queremos **graficar**, como por ejemplo la posición en el tiempo de la pelota que cae. Vamos a ver que con la ayuda de la biblioteca [`matplotlib`](https://matplotlib.org/) esto no es nada complicado.\n",
        "\n",
        "Esta librería es muy grande, por lo que tiene divididas sus funciones en distintos módulos. Para lo que vamos a ver en esta segunda parte nos alcanza con la sublibrería ```pyplot```. Una de las formas de importar esta librería es:\n",
        "```python\n",
        "import matplotlib.pyplot as plt\n",
        "```"
      ]
    },
    {
      "cell_type": "markdown",
      "metadata": {
        "id": "Yz7M358E962U"
      },
      "source": [
        "Podemos usar esta librería en conjunto con ```numpy``` para graficar las funciones que querramos.\n",
        "\n",
        "Veamos un ejemplo, grafiquemos la función $f(x) = \\sin(x)\\sin(20x)$ entre $0$ y $2\\pi$ (no tienen por qué entender la función, es solo el logo de [Arctic Monkeys](https://c1.staticflickr.com/7/6126/5933658807_601e0b1751_b.jpg))"
      ]
    },
    {
      "cell_type": "code",
      "execution_count": null,
      "metadata": {
        "id": "Ehsyy74X962V",
        "colab": {
          "base_uri": "https://localhost:8080/",
          "height": 430
        },
        "outputId": "78ead178-875c-4555-bc3f-9be5f1c252e4"
      },
      "outputs": [
        {
          "output_type": "display_data",
          "data": {
            "text/plain": [
              "<Figure size 640x480 with 1 Axes>"
            ],
            "image/png": "[encoded data removed]"
          },
          "metadata": {}
        }
      ],
      "source": [
        "import numpy as np\n",
        "import matplotlib.pyplot as plt\n",
        "\n",
        "# Definimos la función\n",
        "def f(x):\n",
        "    return np.sin(x)*np.sin(20*x)\n",
        "\n",
        "# Definimos el dominio y la imagen\n",
        "x = np.linspace(0, 2*np.pi, 500)\n",
        "y = f(x)\n",
        "\n",
        "# Graficamos la función\n",
        "plt.plot(x, y)\n",
        "plt.show()"
      ]
    },
    {
      "cell_type": "markdown",
      "metadata": {
        "id": "wVzheD-v962V"
      },
      "source": [
        "Desglosemos el código que acabamos de escribir:\n",
        "* Primero escribimos la función que queremos graficar.\n",
        "* Luego, definimos nuestro dominio `x` y nuestra imagen `y`.\n",
        "* Y por último usamos la función de `plot` de `matplotlib.pyplot` para graficar `y` en función de `x`.\n",
        "\n",
        "**Aclaración 1: plt.show():**\n",
        "Si bien esta linea no es siempre necesaria en los notebooks (como google Colab), su propósito es \"cerrar\" la figura y mostrarla.\n",
        "\n",
        "**Aclaración 2:** `y` no es una función. Sino que es un _array_ que contiene los números que resultan de aplicarle `f` a cada uno de los valores de `x`. Lo que vemos arriba parece ser una _función continua_ pero en realidad es un conjunto de punto unidos con una línea. Para visualizar mejor esto podemos hacer un gráfico que muestre explícitamente los puntos que forman el gráfico:\n"
      ]
    },
    {
      "cell_type": "code",
      "execution_count": null,
      "metadata": {
        "id": "wV8EmrWB962W",
        "colab": {
          "base_uri": "https://localhost:8080/"
        },
        "outputId": "c271c18a-9580-4fe6-ff94-6393c1735e82"
      },
      "outputs": [
        {
          "output_type": "display_data",
          "data": {
            "text/plain": [
              "<Figure size 640x480 with 1 Axes>"
            ],
            "image/png": "[encoded data removed]"
          },
          "metadata": {}
        }
      ],
      "source": [
        "plt.plot(x, y, '.-')\n",
        "plt.show()"
      ]
    },
    {
      "cell_type": "markdown",
      "metadata": {
        "id": "UK7dME4T962W"
      },
      "source": [
        "#### Qué hace plt.plot()?\n",
        "Esta función que parece mágica lo único que hace es tomar los vectores que le damos como inputs y graficar un punto en cada par de coordenadas $(x,y)$. Además, por defecto une estos puntos con lineas rectas. Por lo tanto, para que la función pueda hacer su trabajo, es necesario que los _array_ ```x``` e ```y``` tengan la misma longitud. Para dejar claro este concepto veamos un ejemplo con pocos puntos escritos a mano:"
      ]
    },
    {
      "cell_type": "code",
      "execution_count": null,
      "metadata": {
        "id": "X3vFYJl1962X",
        "colab": {
          "base_uri": "https://localhost:8080/"
        },
        "outputId": "73a40e09-398e-4550-f677-9d8275d4ed70"
      },
      "outputs": [
        {
          "output_type": "display_data",
          "data": {
            "text/plain": [
              "<Figure size 640x480 with 1 Axes>"
            ],
            "image/png": "[encoded data removed]"
          },
          "metadata": {}
        }
      ],
      "source": [
        "coords_en_x = np.array([0, 2, 6, 8,  10])\n",
        "coords_en_y = np.array([2, 4, 6, 14, 14])\n",
        "\n",
        "plt.plot(coords_en_x, coords_en_y, 'o:r')\n",
        "plt.grid()  # Esto me deja poner una grilla detrás!\n",
        "plt.show()"
      ]
    },
    {
      "cell_type": "markdown",
      "metadata": {
        "id": "lglTUHTn962X"
      },
      "source": [
        "Vemos que los puntos que se grafican son los $(x,y)$ = $\\{(0,2);\\,(2,4);\\,(6,6);\\,(8,14);\\,(10,14)\\}$"
      ]
    },
    {
      "cell_type": "markdown",
      "metadata": {
        "id": "JIYzGyRw962X"
      },
      "source": [
        "### Dar formato y estética a los gráficos\n",
        "En los gráficos anteriores cuando usamos `plt.plot` agregamos un término opcional para cambiar el color y la forma en la que se muestran los puntos que graficamos. Si usamos `help(plt.plot)` vemos que este argumento opcional es el _[fmt]_ y que toma distintos _strings_ con los que se puede cambiar la forma en que se ve el gráfico. La estructura general es\n",
        "```python\n",
        "fmt = '[color][marker][line]'\n",
        "```\n",
        "donde _marker_ hace referencia a la forma de los puntitos y _line_ hace referencia a la forma de la linea.\n",
        "\n",
        "Los _strings_ válidos son un montón y los pueden ver en la documentación usando el _help_ o en la [documentación online](https://matplotlib.org/3.2.1/api/_as_gen/matplotlib.pyplot.plot.html) de la función.\n",
        "\n",
        "Acá dejamos algunas de las opciones para que se den una idea:\n",
        "* **color:** 'r' (rojo), 'b' (azul), 'g' (verde), 'm' (magenta), etc\n",
        "* **marker:** '.' (puntito chiquito), 'o' (punto grande), '^' (triángulo), '*' (estrella), etc\n",
        "* **line:** '-' (sólida), '--' (de a rayas), ':' (de a puntos)"
      ]
    },
    {
      "cell_type": "markdown",
      "source": [
        "<img src=\"https://matplotlib.org/stable/_images/sphx_glr_named_colors_003_2_00x.png\" alt=\"colores_matplotlib\" width=\"600\" height=\"600\">"
      ],
      "metadata": {
        "id": "jBpAdMwPq28m"
      }
    },
    {
      "cell_type": "markdown",
      "source": [
        "#### Título, labels y grid\n",
        "Veamos también algunas funciones que nos permiten agregar información a la figura sobre la que estamos trabajando. Veamos un ejemplo con la función de los [Arctic Monkeys](https://qph.fs.quoracdn.net/main-qimg-69d69b537bb5e7e3f21e44c36781a10d)."
      ],
      "metadata": {
        "id": "EgQ5ky3bihUg"
      }
    },
    {
      "cell_type": "code",
      "execution_count": null,
      "metadata": {
        "id": "z2-xCQeY962Y",
        "colab": {
          "base_uri": "https://localhost:8080/",
          "height": 480
        },
        "outputId": "0bfb8c80-fbf6-49f2-e955-e8accc3abb92"
      },
      "outputs": [
        {
          "output_type": "display_data",
          "data": {
            "text/plain": [
              "<Figure size 640x480 with 1 Axes>"
            ],
            "image/png": "[encoded data removed]"
          },
          "metadata": {}
        }
      ],
      "source": [
        "import numpy as np\n",
        "import matplotlib.pyplot as plt\n",
        "\n",
        "# Definimos la función\n",
        "def f(x):\n",
        "    return np.sin(x)*np.sin(20*x)\n",
        "\n",
        "# Definimos el dominio y la imagen\n",
        "x = np.linspace(0, 2*np.pi, 500)\n",
        "y = f(x)\n",
        "\n",
        "# Graficamos la función con linea sólida y le ponemos una etiqueta\n",
        "plt.plot(x, y, '-', label='Arctic Monkeys')\n",
        "\n",
        "# Agregamos título y etiquetamos los ejes\n",
        "plt.title('Logo de los Arctic Monkeys', fontsize=16)\n",
        "plt.xlabel('Eje de $\\hat x$')\n",
        "plt.ylabel('Eje de $\\hat y$')\n",
        "\n",
        "plt.grid()\n",
        "plt.legend(loc=\"upper right\")\n",
        "plt.show()"
      ]
    },
    {
      "cell_type": "markdown",
      "metadata": {
        "id": "dphh2LbZ962Y"
      },
      "source": [
        "La mayoría de las funciones son bastante descriptivas. Veamos solo algunas aclaraciones:\n",
        "* El _fontsize_ en el ```plt.title``` es un argumento opcional y también se puede utilizar en el ```plt.xlabel``` o ```plt.ylabel``` por ejemplo.\n",
        "* El ```plt.grid()``` agrega una grid si no exite y la elimina si existe. Si se quiere forzar a que aparezca se puede utilizar ```plt.grid(True)```\n",
        "* El ```plt.legend()``` es el que permite que se muestren los labels asociados a las lineas (en este caso es el \"Arctic Monkeys\"). Esta función tiene algunos parámetros opcionales que pueden probar como el _fontsize_ o el _loc_. (ver ```help(plt.legend)```)\n",
        "* Podemos usar $\\LaTeX$ en los labels!"
      ]
    },
    {
      "cell_type": "markdown",
      "metadata": {
        "id": "ooQ8-irSJPmC"
      },
      "source": [
        "Aca abajo dejamos una figura con los nombres de las distintas partes de una figura para que tengan a mano a la hora de googlear como cambiar cada parte. (fuente: [este libro hermoso](https://www.labri.fr/perso/nrougier/scientific-visualization.html))\n",
        "\n",
        "<img src=\"https://pbs.twimg.com/media/Cr5jxB-UkAAmvBn?format=jpg&name=medium\" alt=\"Milanesa\" width=\"600\" height=\"600\">"
      ]
    },
    {
      "cell_type": "markdown",
      "metadata": {
        "id": "edwV5lcH962Z"
      },
      "source": [
        "---\n",
        "### Ejercicio 2\n",
        "\n",
        "En la misma figura:\n",
        "* Graficar los datos cargados en las variables ```t_teorico``` e ```y_teorico```. Etiquetar los datos como 'Teorico'.\n",
        "* Graficar los datos cargados en las variables ```t_labo``` e ```y_labo```. Etiquetar los datos como 'Laboratorio'.\n",
        "* Agregar la leyenda, etiquetar los ejes y poner\n",
        "un título (pueden usar $\\LaTeX$ si conocen la syntaxis)\n",
        "\n",
        "---"
      ]
    },
    {
      "cell_type": "markdown",
      "metadata": {
        "id": "6QWAxhWX962Z"
      },
      "source": [
        "### Hacer ajustes\n",
        "\n",
        "Vamos a levantar nuevamente unos datos para graficarlos igual que lo hacíamos antes."
      ]
    },
    {
      "cell_type": "code",
      "execution_count": null,
      "metadata": {
        "id": "4bUI5T2x962Z"
      },
      "outputs": [],
      "source": [
        "import numpy as np\n",
        "import matplotlib.pyplot as plt\n",
        "\n",
        "# Importamos los datos\n",
        "data = np.loadtxt('data_exp.csv', delimiter=',', skiprows=1, unpack=True)\n",
        "\n",
        "# Los ponemos en variables\n",
        "tiempo = data[0]\n",
        "num_conejos = data[1]\n",
        "err_num_conejos = data[2]\n",
        "\n",
        "# O lo que es lo mismo\n",
        "tiempo, num_conejos, err_num_conejos = data"
      ]
    },
    {
      "cell_type": "code",
      "source": [
        "# Graficamos los datos crudos\n",
        "plt.plot(tiempo, num_conejos, 'ok', label='Datos')\n",
        "\n",
        "# Labels, grilla, leyenda y show\n",
        "plt.xlabel(\"Tiempo\")\n",
        "plt.ylabel(\"Número de conejos\")\n",
        "plt.grid()\n",
        "plt.legend()\n",
        "plt.show()"
      ],
      "metadata": {
        "id": "86bRsQNApOK9",
        "colab": {
          "base_uri": "https://localhost:8080/"
        },
        "outputId": "42671624-3c09-4cf2-aa8a-32d9f19745fb"
      },
      "execution_count": null,
      "outputs": [
        {
          "output_type": "display_data",
          "data": {
            "text/plain": [
              "<Figure size 640x480 with 1 Axes>"
            ],
            "image/png": "[encoded data removed]"
          },
          "metadata": {}
        }
      ]
    },
    {
      "cell_type": "markdown",
      "metadata": {
        "id": "mgs3Wau4962a"
      },
      "source": [
        "Los datos parecen tener un comportamiento exponencial. Queremos ver que tan exponencial es su distribución realizando un ajuste. Realizamos un ajuste primero definiendo la función que queremos comparar a los datos, $f$, con los parametros libres que nos interesa determinar,\n",
        "$$\n",
        "\\text{variable dependiente} = f(\\text{variable independiente}, \\text{parametros a determinar}).\n",
        "$$\n",
        "\n",
        "En este caso, vamos a intentar con:\n",
        "$$\n",
        "f(t, A, C) = Ae^{Ct}\n",
        "$$\n",
        "\n",
        "Luego, para realizar un ajuste podemos usar la función ```curve_fit()``` que nos ofrece la librería/sublibrería ```scipy.optimize```. Veamos cómo funciona con un ejemplo:"
      ]
    },
    {
      "cell_type": "code",
      "execution_count": null,
      "metadata": {
        "id": "KtuTMK_vDXh5",
        "colab": {
          "base_uri": "https://localhost:8080/"
        },
        "outputId": "81ca3e60-d1d8-442c-a15b-403ccea04288"
      },
      "outputs": [
        {
          "output_type": "stream",
          "name": "stdout",
          "text": [
            "Parámetros óptimos para A y C (popt): [0.97349007 0.10119234]\n",
            "\n",
            "Matriz de covariancia de popt (pcov):\n",
            "[[ 4.92276135e-03 -1.89187395e-04]\n",
            " [-1.89187395e-04  7.51566964e-06]]\n"
          ]
        }
      ],
      "source": [
        "# Importo la función desde la librería\n",
        "from scipy.optimize import curve_fit\n",
        "\n",
        "# Declaro la función con la que quiero ajustar con parámetros genéricos\n",
        "def f_ajuste(t, A, C):\n",
        "    exponencial = A*np.exp(C*t)\n",
        "    return exponencial\n",
        "\n",
        "# Utilizo curve_fit() para el ajuste\n",
        "popt, pcov = curve_fit(f_ajuste, tiempo, num_conejos, sigma = err_num_conejos)\n",
        "\n",
        "# Imprimo en pantalla los valores de popt y pcov\n",
        "print(f'Parámetros óptimos para A y C (popt): {popt}')\n",
        "print(f'\\nMatriz de covariancia de popt (pcov):\\n{pcov}')"
      ]
    },
    {
      "cell_type": "code",
      "execution_count": null,
      "metadata": {
        "id": "jPwdMZAGDoGW",
        "colab": {
          "base_uri": "https://localhost:8080/"
        },
        "outputId": "86c0ac04-df9f-44c5-8b1a-f33165546c97"
      },
      "outputs": [
        {
          "output_type": "display_data",
          "data": {
            "text/plain": [
              "<Figure size 640x480 with 1 Axes>"
            ],
            "image/png": "[encoded data removed]"
          },
          "metadata": {}
        }
      ],
      "source": [
        "# Graficamos los DATOS con el error asociado\n",
        "plt.errorbar(tiempo, num_conejos, yerr=err_num_conejos, fmt='ok', label='Datos',\n",
        "             capsize=2, capthick=1)\n",
        "\n",
        "\n",
        "# Graficamos el AJUSTE\n",
        "A, C = popt\n",
        "# Variables finas para evaluar la funcion en más puntos que los medidos\n",
        "x_ajuste = np.linspace(min(tiempo), max(tiempo), 1000)\n",
        "y_ajuste = f_ajuste(x_ajuste, A, C)\n",
        "\n",
        "plt.plot(x_ajuste, y_ajuste, '-r', label='Ajuste')\n",
        "\n",
        "\n",
        "# Labels, grilla, leyenda y show\n",
        "plt.xlabel(\"Tiempo\")\n",
        "plt.ylabel(\"Número de conejos\")\n",
        "plt.grid()\n",
        "plt.legend()\n",
        "plt.show()"
      ]
    },
    {
      "cell_type": "markdown",
      "metadata": {
        "id": "L0-YsLe1962a"
      },
      "source": [
        "##### Vemos que arriba la función recibe cinco inputs (3 obligatorios y 2 opcionales):\n",
        "* `f`: **El primer argumento es la función _modelo_ con la que queremos ajustar.**\n",
        "    \n",
        "    La función modelo tiene que tener como primer parámetro la variable independiente (que corresponde por ejemplo al eje $\\hat x$). Luego se usan los otros parámetros para poner las constantes que queremos hallar (en nuestro caso `A` y `C`).\n",
        "\n",
        "\n",
        "* `xdata, ydata`: **Los otros dos argumentos son nuestros datos**\n",
        "\n",
        "    Estos son los datos crudos, los que usamos para visualizarlos normalmente.\n",
        "    \n",
        "* `sigma`: **El error asociado a cada valor en** `ydata`\n",
        "    \n",
        "    Es un parámetro opcional, para que el ajuste considere el error en la variable $y$.\n",
        "\n",
        "\n",
        "##### Outputs de `curve_fit()`\n",
        "* `popt`: **Parámetros Óptimos (`array 1D` de numpy)**\n",
        "    \n",
        "    Vemos que `curve_fit()` nos devuelve como primer parámetro una lista con los valores óptimos para nuestro ajuste. En este caso son dos porque en la función modelo pusimos dos constantes (`A` y `C`). Estos valores vienen ordenados del mismo modo que están en la función modelo por lo que `popt[0]` es el `A` óptimo y `popt[1]` es el `C` óptimo.\n",
        "\n",
        "\n",
        "* `pcov`: **Covarianza de los Parámetros (`array 2D` de numpy)**\n",
        "    \n",
        "    Esta es la matriz de covarianza de los resultados que nos da `popt`. Esta matriz nos da una idea de cuál es el error de este ajuste y de cuán ligados están estos errores entre sí. No es el objetivo del curso dar una clase de estadísitica, pero si conocemos que las variables son independientes podemos obtener el error de nuestros parámetros de ajuste como la raíz cuadrada de la covarianza. Para este ejemplo sería\n",
        "    ```python\n",
        "    err_A = np.sqrt(pcov[0,0])\n",
        "    err_C = np.sqrt(pcov[1,1])\n",
        "    ```\n",
        "    o\n",
        "    ```python\n",
        "    err_A, err_C = np.sqrt(np.diag(pcov))\n",
        "    ```\n",
        "\n",
        "**Una cosita más:** En este caso pusimos `var_x_ajuste = var_x` al momento de graficar, lo que implica que nuestro grafico del ajuste tiene 20 puntos (los mismos que `var_x`), pero como conocemos la función podríamos hacer un linspace del estilo `np.linspace(min(var_x), max(var_x), 1000)` para tener una mejor densidad de puntos. Esto esta bueno para hacer que los gráficos se vean menos acartonados, pero SOLAMENTE se puede usar a la hora de graficar."
      ]
    },
    {
      "cell_type": "markdown",
      "metadata": {
        "id": "ITpYWJC3962b"
      },
      "source": [
        "#### Barras de error\n",
        "\n",
        "* Si queremos poner barras de error a nuestro gráfico podemos usar ```plt.errorbar()```, que funciona de forma muy similar a ```plt.plot()``` pero nos permite dar un array con los errores o un error constante para todos.\n",
        "\n",
        "#### Guardar un gráfico\n",
        "Una vez tenemos un gráfico podemos guardarlo en el mismo directorio donde tenemos el archivo con el que estamos trabajando utilizando la linea\n",
        "```python\n",
        "plt.savefig('nombre_del_archivo.png')\n",
        "```"
      ]
    },
    {
      "cell_type": "markdown",
      "metadata": {
        "id": "9RLsaOc1962b"
      },
      "source": [
        "---\n",
        "### Ejercicio 3\n",
        "\n",
        "Con los datos levantados en las variables ```t_labo``` e ```y_labo```, realizar el ajuste de la función:\n",
        "\n",
        "$$y(t) = a + b \\; t^2$$\n",
        "\n",
        "Donde $a = y_0$ y $b = -\\frac{g}{2}$.\n",
        "\n",
        "Agregar al gráfico del Ejercicio 3 este nuevo ajuste, junto con su label 'Ajuste'.\n",
        "\n",
        "Guardar la imagen, e imprimir la gravedad en pantalla con su error.\n",
        "\n",
        "---"
      ]
    },
    {
      "cell_type": "markdown",
      "metadata": {
        "id": "37lw9cFC962d"
      },
      "source": [
        "### Acá termina nuestra clase.\n",
        "\n",
        "Si aún hay tiempo abajo tenemos armado algunos párrafos sobre distintas cosas piolas que podemos hacer. La elección esta en ustedes. (Si, se convirtió en un elija su propia aventura, no se la esperaba nadie esa)\n",
        "\n",
        "* Pandas y DataFrames\n",
        "* Histogramas\n",
        "* Sistemas de ecuaciones diferenciales\n",
        "* Algebra Lineal\n",
        "* Calculo Simbólico\n",
        "* Integración Numérica\n",
        "* Funciones Locas\n"
      ]
    },
    {
      "cell_type": "markdown",
      "metadata": {
        "id": "HcgRMSPQ962d"
      },
      "source": [
        "---\n",
        "# Pandas y DataFrames\n",
        "\n",
        "[Pandas](https://pandas.pydata.org/) es una librería bastante utilizada para Análisis de Datos y tiene [demasiadas](https://pandas.pydata.org/docs/user_guide/index.html) cosas disponibles, demasiadas. Aca en el curso no vamos a cubrir casi nada, sólo veremos algunas cosas.\n",
        "\n",
        "Pandas, tal como NumPy y SymPy, trae un nuevo tipo de dato muy genial, los DataFrames. Recomendado es el [tutorial](https://pandas.pydata.org/docs/getting_started/index.html) de 10 minutos que aporta la misma página de Pandas, en los que hace un paneo sobre las cosas básicas de la librería. Hay un [ejemplo práctico](https://github.com/fifabsas/talleresfifabsas/blob/master/python/Extras/Pandas_ejemplo.ipynb) hecho por la FIFA en el que se trabaja un poco los datos de inscripción de una jornada anterior del cursito este.\n",
        "\n",
        "Los DataFrames, el nuevo tipo de dato introducido, son básicamente tablas de datos donde cada columna tiene un nombre descriptivo. Podemos operar con las columnas por su nombre, y también elegir filas como haciamos con arrays antes.\n",
        "\n",
        "\n",
        "Vamos a trabajar con un csv que pueden descargar de nuestro repositorio:\n",
        "\n",
        "[Datos de los jugadores](https://github.com/fifabsas/talleresfifabsas/blob/master/python/2_Numerico/datos_jugadores.csv)"
      ]
    },
    {
      "cell_type": "code",
      "execution_count": null,
      "metadata": {
        "id": "dWDVUYHiscn9"
      },
      "outputs": [],
      "source": [
        "# Importamos pandas con un sobrenombre, como haciamos con numpy\n",
        "\n",
        "import pandas as pd\n",
        "\n",
        "import numpy as np\n",
        "import matplotlib.pyplot as plt"
      ]
    },
    {
      "cell_type": "code",
      "execution_count": null,
      "metadata": {
        "id": "MLSXXan1sik_",
        "colab": {
          "base_uri": "https://localhost:8080/"
        },
        "outputId": "b1d81be7-edd0-406c-d42b-e00497334a4f"
      },
      "outputs": [
        {
          "output_type": "display_data",
          "data": {
            "text/plain": [
              "               Equipo Puesto          Jugador  Edad  Nacimiento dia_mes  \\\n",
              "0               Tigre    MED    Aaron Molinas    22    8/2/2000  02-ago   \n",
              "1            Banfield    DEF     Aarón Quirós    21  10/31/2001  31-oct   \n",
              "2               Tigre    DEF    Abel Luciatti    30   2/18/1993  18-feb   \n",
              "3               Velez    DEL     Abiel Osorio    20   6/13/2002  13-jun   \n",
              "4         San Lorenzo    DEL     Adam Bareiro    26   7/26/1996  26-jul   \n",
              "..                ...    ...              ...   ...         ...     ...   \n",
              "639       Atl Tucuman    DEF  Wilson Ibarrola    26    7/2/1996  02-jul   \n",
              "640     Sarmiento (J)    MED   Yair Arismendi    25    4/5/1998  05-abr   \n",
              "641             Union    MED  Yeison Gordillo    30   6/25/1992  25-jun   \n",
              "642       Atl Tucuman    DEF  Yonathan Cabral    30   5/10/1992  10-may   \n",
              "643  Estudiantes (LP)    DEF      Zaid Romero    23  12/15/1999  15-dic   \n",
              "\n",
              "     nro_mes   año  Altura_cm       Ciudad_nac   Pais_nac  \n",
              "0          8  2000      175.0              NaN  Argentina  \n",
              "1         10  2001        NaN              NaN  Argentina  \n",
              "2          2  1993      178.0            Morón  Argentina  \n",
              "3          6  2002      182.0              NaN  Argentina  \n",
              "4          7  1996      184.0         Asuncion   Paraguay  \n",
              "..       ...   ...        ...              ...        ...  \n",
              "639        7  1996      172.0              NaN   Paraguay  \n",
              "640        4  1998        NaN              NaN  Argentina  \n",
              "641        6  1992      176.0  Miranda (Cauca)   Colombia  \n",
              "642        5  1992      188.0  Isidro Casanova  Argentina  \n",
              "643       12  1999      193.0          Mendoza  Argentina  \n",
              "\n",
              "[644 rows x 11 columns]"
            ],
            "text/html": [
              "\n",
              "  <div id=\"df-12df6ff3-ecb2-44e3-b84f-2682563f01de\" class=\"colab-df-container\">\n",
              "    <div>\n",
              "<style scoped>\n",
              "    .dataframe tbody tr th:only-of-type {\n",
              "        vertical-align: middle;\n",
              "    }\n",
              "\n",
              "    .dataframe tbody tr th {\n",
              "        vertical-align: top;\n",
              "    }\n",
              "\n",
              "    .dataframe thead th {\n",
              "        text-align: right;\n",
              "    }\n",
              "</style>\n",
              "<table border=\"1\" class=\"dataframe\">\n",
              "  <thead>\n",
              "    <tr style=\"text-align: right;\">\n",
              "      <th></th>\n",
              "      <th>Equipo</th>\n",
              "      <th>Puesto</th>\n",
              "      <th>Jugador</th>\n",
              "      <th>Edad</th>\n",
              "      <th>Nacimiento</th>\n",
              "      <th>dia_mes</th>\n",
              "      <th>nro_mes</th>\n",
              "      <th>año</th>\n",
              "      <th>Altura_cm</th>\n",
              "      <th>Ciudad_nac</th>\n",
              "      <th>Pais_nac</th>\n",
              "    </tr>\n",
              "  </thead>\n",
              "  <tbody>\n",
              "    <tr>\n",
              "      <th>0</th>\n",
              "      <td>Tigre</td>\n",
              "      <td>MED</td>\n",
              "      <td>Aaron Molinas</td>\n",
              "      <td>22</td>\n",
              "      <td>8/2/2000</td>\n",
              "      <td>02-ago</td>\n",
              "      <td>8</td>\n",
              "      <td>2000</td>\n",
              "      <td>175.0</td>\n",
              "      <td>NaN</td>\n",
              "      <td>Argentina</td>\n",
              "    </tr>\n",
              "    <tr>\n",
              "      <th>1</th>\n",
              "      <td>Banfield</td>\n",
              "      <td>DEF</td>\n",
              "      <td>Aarón Quirós</td>\n",
              "      <td>21</td>\n",
              "      <td>10/31/2001</td>\n",
              "      <td>31-oct</td>\n",
              "      <td>10</td>\n",
              "      <td>2001</td>\n",
              "      <td>NaN</td>\n",
              "      <td>NaN</td>\n",
              "      <td>Argentina</td>\n",
              "    </tr>\n",
              "    <tr>\n",
              "      <th>2</th>\n",
              "      <td>Tigre</td>\n",
              "      <td>DEF</td>\n",
              "      <td>Abel Luciatti</td>\n",
              "      <td>30</td>\n",
              "      <td>2/18/1993</td>\n",
              "      <td>18-feb</td>\n",
              "      <td>2</td>\n",
              "      <td>1993</td>\n",
              "      <td>178.0</td>\n",
              "      <td>Morón</td>\n",
              "      <td>Argentina</td>\n",
              "    </tr>\n",
              "    <tr>\n",
              "      <th>3</th>\n",
              "      <td>Velez</td>\n",
              "      <td>DEL</td>\n",
              "      <td>Abiel Osorio</td>\n",
              "      <td>20</td>\n",
              "      <td>6/13/2002</td>\n",
              "      <td>13-jun</td>\n",
              "      <td>6</td>\n",
              "      <td>2002</td>\n",
              "      <td>182.0</td>\n",
              "      <td>NaN</td>\n",
              "      <td>Argentina</td>\n",
              "    </tr>\n",
              "    <tr>\n",
              "      <th>4</th>\n",
              "      <td>San Lorenzo</td>\n",
              "      <td>DEL</td>\n",
              "      <td>Adam Bareiro</td>\n",
              "      <td>26</td>\n",
              "      <td>7/26/1996</td>\n",
              "      <td>26-jul</td>\n",
              "      <td>7</td>\n",
              "      <td>1996</td>\n",
              "      <td>184.0</td>\n",
              "      <td>Asuncion</td>\n",
              "      <td>Paraguay</td>\n",
              "    </tr>\n",
              "    <tr>\n",
              "      <th>...</th>\n",
              "      <td>...</td>\n",
              "      <td>...</td>\n",
              "      <td>...</td>\n",
              "      <td>...</td>\n",
              "      <td>...</td>\n",
              "      <td>...</td>\n",
              "      <td>...</td>\n",
              "      <td>...</td>\n",
              "      <td>...</td>\n",
              "      <td>...</td>\n",
              "      <td>...</td>\n",
              "    </tr>\n",
              "    <tr>\n",
              "      <th>639</th>\n",
              "      <td>Atl Tucuman</td>\n",
              "      <td>DEF</td>\n",
              "      <td>Wilson Ibarrola</td>\n",
              "      <td>26</td>\n",
              "      <td>7/2/1996</td>\n",
              "      <td>02-jul</td>\n",
              "      <td>7</td>\n",
              "      <td>1996</td>\n",
              "      <td>172.0</td>\n",
              "      <td>NaN</td>\n",
              "      <td>Paraguay</td>\n",
              "    </tr>\n",
              "    <tr>\n",
              "      <th>640</th>\n",
              "      <td>Sarmiento (J)</td>\n",
              "      <td>MED</td>\n",
              "      <td>Yair Arismendi</td>\n",
              "      <td>25</td>\n",
              "      <td>4/5/1998</td>\n",
              "      <td>05-abr</td>\n",
              "      <td>4</td>\n",
              "      <td>1998</td>\n",
              "      <td>NaN</td>\n",
              "      <td>NaN</td>\n",
              "      <td>Argentina</td>\n",
              "    </tr>\n",
              "    <tr>\n",
              "      <th>641</th>\n",
              "      <td>Union</td>\n",
              "      <td>MED</td>\n",
              "      <td>Yeison Gordillo</td>\n",
              "      <td>30</td>\n",
              "      <td>6/25/1992</td>\n",
              "      <td>25-jun</td>\n",
              "      <td>6</td>\n",
              "      <td>1992</td>\n",
              "      <td>176.0</td>\n",
              "      <td>Miranda (Cauca)</td>\n",
              "      <td>Colombia</td>\n",
              "    </tr>\n",
              "    <tr>\n",
              "      <th>642</th>\n",
              "      <td>Atl Tucuman</td>\n",
              "      <td>DEF</td>\n",
              "      <td>Yonathan Cabral</td>\n",
              "      <td>30</td>\n",
              "      <td>5/10/1992</td>\n",
              "      <td>10-may</td>\n",
              "      <td>5</td>\n",
              "      <td>1992</td>\n",
              "      <td>188.0</td>\n",
              "      <td>Isidro Casanova</td>\n",
              "      <td>Argentina</td>\n",
              "    </tr>\n",
              "    <tr>\n",
              "      <th>643</th>\n",
              "      <td>Estudiantes (LP)</td>\n",
              "      <td>DEF</td>\n",
              "      <td>Zaid Romero</td>\n",
              "      <td>23</td>\n",
              "      <td>12/15/1999</td>\n",
              "      <td>15-dic</td>\n",
              "      <td>12</td>\n",
              "      <td>1999</td>\n",
              "      <td>193.0</td>\n",
              "      <td>Mendoza</td>\n",
              "      <td>Argentina</td>\n",
              "    </tr>\n",
              "  </tbody>\n",
              "</table>\n",
              "<p>644 rows × 11 columns</p>\n",
              "</div>\n",
              "    <div class=\"colab-df-buttons\">\n",
              "\n",
              "  <div class=\"colab-df-container\">\n",
              "    <button class=\"colab-df-convert\" onclick=\"convertToInteractive('df-12df6ff3-ecb2-44e3-b84f-2682563f01de')\"\n",
              "            title=\"Convert this dataframe to an interactive table.\"\n",
              "            style=\"display:none;\">\n",
              "\n",
              "  <svg xmlns=\"http://www.w3.org/2000/svg\" height=\"24px\" viewBox=\"0 -960 960 960\">\n",
              "    <path d=\"M120-120v-720h720v720H120Zm60-500h600v-160H180v160Zm220 220h160v-160H400v160Zm0 220h160v-160H400v160ZM180-400h160v-160H180v160Zm440 0h160v-160H620v160ZM180-180h160v-160H180v160Zm440 0h160v-160H620v160Z\"/>\n",
              "  </svg>\n",
              "    </button>\n",
              "\n",
              "  <style>\n",
              "    .colab-df-container {\n",
              "      display:flex;\n",
              "      gap: 12px;\n",
              "    }\n",
              "\n",
              "    .colab-df-convert {\n",
              "      background-color: #E8F0FE;\n",
              "      border: none;\n",
              "      border-radius: 50%;\n",
              "      cursor: pointer;\n",
              "      display: none;\n",
              "      fill: #1967D2;\n",
              "      height: 32px;\n",
              "      padding: 0 0 0 0;\n",
              "      width: 32px;\n",
              "    }\n",
              "\n",
              "    .colab-df-convert:hover {\n",
              "      background-color: #E2EBFA;\n",
              "      box-shadow: 0px 1px 2px rgba(60, 64, 67, 0.3), 0px 1px 3px 1px rgba(60, 64, 67, 0.15);\n",
              "      fill: #174EA6;\n",
              "    }\n",
              "\n",
              "    .colab-df-buttons div {\n",
              "      margin-bottom: 4px;\n",
              "    }\n",
              "\n",
              "    [theme=dark] .colab-df-convert {\n",
              "      background-color: #3B4455;\n",
              "      fill: #D2E3FC;\n",
              "    }\n",
              "\n",
              "    [theme=dark] .colab-df-convert:hover {\n",
              "      background-color: #434B5C;\n",
              "      box-shadow: 0px 1px 3px 1px rgba(0, 0, 0, 0.15);\n",
              "      filter: drop-shadow(0px 1px 2px rgba(0, 0, 0, 0.3));\n",
              "      fill: #FFFFFF;\n",
              "    }\n",
              "  </style>\n",
              "\n",
              "    <script>\n",
              "      const buttonEl =\n",
              "        document.querySelector('#df-12df6ff3-ecb2-44e3-b84f-2682563f01de button.colab-df-convert');\n",
              "      buttonEl.style.display =\n",
              "        google.colab.kernel.accessAllowed ? 'block' : 'none';\n",
              "\n",
              "      async function convertToInteractive(key) {\n",
              "        const element = document.querySelector('#df-12df6ff3-ecb2-44e3-b84f-2682563f01de');\n",
              "        const dataTable =\n",
              "          await google.colab.kernel.invokeFunction('convertToInteractive',\n",
              "                                                    [key], {});\n",
              "        if (!dataTable) return;\n",
              "\n",
              "        const docLinkHtml = 'Like what you see? Visit the ' +\n",
              "          '<a target=\"_blank\" href=https://colab.research.google.com/notebooks/data_table.ipynb>data table notebook</a>'\n",
              "          + ' to learn more about interactive tables.';\n",
              "        element.innerHTML = '';\n",
              "        dataTable['output_type'] = 'display_data';\n",
              "        await google.colab.output.renderOutput(dataTable, element);\n",
              "        const docLink = document.createElement('div');\n",
              "        docLink.innerHTML = docLinkHtml;\n",
              "        element.appendChild(docLink);\n",
              "      }\n",
              "    </script>\n",
              "  </div>\n",
              "\n",
              "\n",
              "<div id=\"df-65c1f865-5359-4243-95a4-0e7ad2526574\">\n",
              "  <button class=\"colab-df-quickchart\" onclick=\"quickchart('df-65c1f865-5359-4243-95a4-0e7ad2526574')\"\n",
              "            title=\"Suggest charts\"\n",
              "            style=\"display:none;\">\n",
              "\n",
              "<svg xmlns=\"http://www.w3.org/2000/svg\" height=\"24px\"viewBox=\"0 0 24 24\"\n",
              "     width=\"24px\">\n",
              "    <g>\n",
              "        <path d=\"M19 3H5c-1.1 0-2 .9-2 2v14c0 1.1.9 2 2 2h14c1.1 0 2-.9 2-2V5c0-1.1-.9-2-2-2zM9 17H7v-7h2v7zm4 0h-2V7h2v10zm4 0h-2v-4h2v4z\"/>\n",
              "    </g>\n",
              "</svg>\n",
              "  </button>\n",
              "\n",
              "<style>\n",
              "  .colab-df-quickchart {\n",
              "      --bg-color: #E8F0FE;\n",
              "      --fill-color: #1967D2;\n",
              "      --hover-bg-color: #E2EBFA;\n",
              "      --hover-fill-color: #174EA6;\n",
              "      --disabled-fill-color: #AAA;\n",
              "      --disabled-bg-color: #DDD;\n",
              "  }\n",
              "\n",
              "  [theme=dark] .colab-df-quickchart {\n",
              "      --bg-color: #3B4455;\n",
              "      --fill-color: #D2E3FC;\n",
              "      --hover-bg-color: #434B5C;\n",
              "      --hover-fill-color: #FFFFFF;\n",
              "      --disabled-bg-color: #3B4455;\n",
              "      --disabled-fill-color: #666;\n",
              "  }\n",
              "\n",
              "  .colab-df-quickchart {\n",
              "    background-color: var(--bg-color);\n",
              "    border: none;\n",
              "    border-radius: 50%;\n",
              "    cursor: pointer;\n",
              "    display: none;\n",
              "    fill: var(--fill-color);\n",
              "    height: 32px;\n",
              "    padding: 0;\n",
              "    width: 32px;\n",
              "  }\n",
              "\n",
              "  .colab-df-quickchart:hover {\n",
              "    background-color: var(--hover-bg-color);\n",
              "    box-shadow: 0 1px 2px rgba(60, 64, 67, 0.3), 0 1px 3px 1px rgba(60, 64, 67, 0.15);\n",
              "    fill: var(--button-hover-fill-color);\n",
              "  }\n",
              "\n",
              "  .colab-df-quickchart-complete:disabled,\n",
              "  .colab-df-quickchart-complete:disabled:hover {\n",
              "    background-color: var(--disabled-bg-color);\n",
              "    fill: var(--disabled-fill-color);\n",
              "    box-shadow: none;\n",
              "  }\n",
              "\n",
              "  .colab-df-spinner {\n",
              "    border: 2px solid var(--fill-color);\n",
              "    border-color: transparent;\n",
              "    border-bottom-color: var(--fill-color);\n",
              "    animation:\n",
              "      spin 1s steps(1) infinite;\n",
              "  }\n",
              "\n",
              "  @keyframes spin {\n",
              "    0% {\n",
              "      border-color: transparent;\n",
              "      border-bottom-color: var(--fill-color);\n",
              "      border-left-color: var(--fill-color);\n",
              "    }\n",
              "    20% {\n",
              "      border-color: transparent;\n",
              "      border-left-color: var(--fill-color);\n",
              "      border-top-color: var(--fill-color);\n",
              "    }\n",
              "    30% {\n",
              "      border-color: transparent;\n",
              "      border-left-color: var(--fill-color);\n",
              "      border-top-color: var(--fill-color);\n",
              "      border-right-color: var(--fill-color);\n",
              "    }\n",
              "    40% {\n",
              "      border-color: transparent;\n",
              "      border-right-color: var(--fill-color);\n",
              "      border-top-color: var(--fill-color);\n",
              "    }\n",
              "    60% {\n",
              "      border-color: transparent;\n",
              "      border-right-color: var(--fill-color);\n",
              "    }\n",
              "    80% {\n",
              "      border-color: transparent;\n",
              "      border-right-color: var(--fill-color);\n",
              "      border-bottom-color: var(--fill-color);\n",
              "    }\n",
              "    90% {\n",
              "      border-color: transparent;\n",
              "      border-bottom-color: var(--fill-color);\n",
              "    }\n",
              "  }\n",
              "</style>\n",
              "\n",
              "  <script>\n",
              "    async function quickchart(key) {\n",
              "      const quickchartButtonEl =\n",
              "        document.querySelector('#' + key + ' button');\n",
              "      quickchartButtonEl.disabled = true;  // To prevent multiple clicks.\n",
              "      quickchartButtonEl.classList.add('colab-df-spinner');\n",
              "      try {\n",
              "        const charts = await google.colab.kernel.invokeFunction(\n",
              "            'suggestCharts', [key], {});\n",
              "      } catch (error) {\n",
              "        console.error('Error during call to suggestCharts:', error);\n",
              "      }\n",
              "      quickchartButtonEl.classList.remove('colab-df-spinner');\n",
              "      quickchartButtonEl.classList.add('colab-df-quickchart-complete');\n",
              "    }\n",
              "    (() => {\n",
              "      let quickchartButtonEl =\n",
              "        document.querySelector('#df-65c1f865-5359-4243-95a4-0e7ad2526574 button');\n",
              "      quickchartButtonEl.style.display =\n",
              "        google.colab.kernel.accessAllowed ? 'block' : 'none';\n",
              "    })();\n",
              "  </script>\n",
              "</div>\n",
              "\n",
              "  <div id=\"id_8b25ce48-69c3-415f-a42d-5089f04d6036\">\n",
              "    <style>\n",
              "      .colab-df-generate {\n",
              "        background-color: #E8F0FE;\n",
              "        border: none;\n",
              "        border-radius: 50%;\n",
              "        cursor: pointer;\n",
              "        display: none;\n",
              "        fill: #1967D2;\n",
              "        height: 32px;\n",
              "        padding: 0 0 0 0;\n",
              "        width: 32px;\n",
              "      }\n",
              "\n",
              "      .colab-df-generate:hover {\n",
              "        background-color: #E2EBFA;\n",
              "        box-shadow: 0px 1px 2px rgba(60, 64, 67, 0.3), 0px 1px 3px 1px rgba(60, 64, 67, 0.15);\n",
              "        fill: #174EA6;\n",
              "      }\n",
              "\n",
              "      [theme=dark] .colab-df-generate {\n",
              "        background-color: #3B4455;\n",
              "        fill: #D2E3FC;\n",
              "      }\n",
              "\n",
              "      [theme=dark] .colab-df-generate:hover {\n",
              "        background-color: #434B5C;\n",
              "        box-shadow: 0px 1px 3px 1px rgba(0, 0, 0, 0.15);\n",
              "        filter: drop-shadow(0px 1px 2px rgba(0, 0, 0, 0.3));\n",
              "        fill: #FFFFFF;\n",
              "      }\n",
              "    </style>\n",
              "    <button class=\"colab-df-generate\" onclick=\"generateWithVariable('df')\"\n",
              "            title=\"Generate code using this dataframe.\"\n",
              "            style=\"display:none;\">\n",
              "\n",
              "  <svg xmlns=\"http://www.w3.org/2000/svg\" height=\"24px\"viewBox=\"0 0 24 24\"\n",
              "       width=\"24px\">\n",
              "    <path d=\"M7,19H8.4L18.45,9,17,7.55,7,17.6ZM5,21V16.75L18.45,3.32a2,2,0,0,1,2.83,0l1.4,1.43a1.91,1.91,0,0,1,.58,1.4,1.91,1.91,0,0,1-.58,1.4L9.25,21ZM18.45,9,17,7.55Zm-12,3A5.31,5.31,0,0,0,4.9,8.1,5.31,5.31,0,0,0,1,6.5,5.31,5.31,0,0,0,4.9,4.9,5.31,5.31,0,0,0,6.5,1,5.31,5.31,0,0,0,8.1,4.9,5.31,5.31,0,0,0,12,6.5,5.46,5.46,0,0,0,6.5,12Z\"/>\n",
              "  </svg>\n",
              "    </button>\n",
              "    <script>\n",
              "      (() => {\n",
              "      const buttonEl =\n",
              "        document.querySelector('#id_8b25ce48-69c3-415f-a42d-5089f04d6036 button.colab-df-generate');\n",
              "      buttonEl.style.display =\n",
              "        google.colab.kernel.accessAllowed ? 'block' : 'none';\n",
              "\n",
              "      buttonEl.onclick = () => {\n",
              "        google.colab.notebook.generateWithVariable('df');\n",
              "      }\n",
              "      })();\n",
              "    </script>\n",
              "  </div>\n",
              "\n",
              "    </div>\n",
              "  </div>\n"
            ],
            "application/vnd.google.colaboratory.intrinsic+json": {
              "type": "dataframe",
              "variable_name": "df",
              "summary": "{\n  \"name\": \"df\",\n  \"rows\": 644,\n  \"fields\": [\n    {\n      \"column\": \"Equipo\",\n      \"properties\": {\n        \"dtype\": \"category\",\n        \"num_unique_values\": 28,\n        \"samples\": [\n          \"Barracas Central\",\n          \"Central Cba (SdE)\",\n          \"Gimnasia (LP)\"\n        ],\n        \"semantic_type\": \"\",\n        \"description\": \"\"\n      }\n    },\n    {\n      \"column\": \"Puesto\",\n      \"properties\": {\n        \"dtype\": \"category\",\n        \"num_unique_values\": 4,\n        \"samples\": [\n          \"DEF\",\n          \"ARQ\",\n          \"MED\"\n        ],\n        \"semantic_type\": \"\",\n        \"description\": \"\"\n      }\n    },\n    {\n      \"column\": \"Jugador\",\n      \"properties\": {\n        \"dtype\": \"string\",\n        \"num_unique_values\": 640,\n        \"samples\": [\n          \"Rodrigo Ins\\u00faa\",\n          \"Gustavo Canto\",\n          \"Ivo Mammini\"\n        ],\n        \"semantic_type\": \"\",\n        \"description\": \"\"\n      }\n    },\n    {\n      \"column\": \"Edad\",\n      \"properties\": {\n        \"dtype\": \"number\",\n        \"std\": 4,\n        \"min\": 17,\n        \"max\": 41,\n        \"num_unique_values\": 25,\n        \"samples\": [\n          24,\n          33,\n          22\n        ],\n        \"semantic_type\": \"\",\n        \"description\": \"\"\n      }\n    },\n    {\n      \"column\": \"Nacimiento\",\n      \"properties\": {\n        \"dtype\": \"object\",\n        \"num_unique_values\": 601,\n        \"samples\": [\n          \"5/17/1990\",\n          \"8/29/1990\",\n          \"2/23/2001\"\n        ],\n        \"semantic_type\": \"\",\n        \"description\": \"\"\n      }\n    },\n    {\n      \"column\": \"dia_mes\",\n      \"properties\": {\n        \"dtype\": \"category\",\n        \"num_unique_values\": 289,\n        \"samples\": [\n          \"05-jun\",\n          \"28-nov\",\n          \"01-jul\"\n        ],\n        \"semantic_type\": \"\",\n        \"description\": \"\"\n      }\n    },\n    {\n      \"column\": \"nro_mes\",\n      \"properties\": {\n        \"dtype\": \"number\",\n        \"std\": 3,\n        \"min\": 1,\n        \"max\": 12,\n        \"num_unique_values\": 12,\n        \"samples\": [\n          9,\n          11,\n          8\n        ],\n        \"semantic_type\": \"\",\n        \"description\": \"\"\n      }\n    },\n    {\n      \"column\": \"a\\u00f1o\",\n      \"properties\": {\n        \"dtype\": \"number\",\n        \"std\": 4,\n        \"min\": 1981,\n        \"max\": 2006,\n        \"num_unique_values\": 25,\n        \"samples\": [\n          1997,\n          1991,\n          2000\n        ],\n        \"semantic_type\": \"\",\n        \"description\": \"\"\n      }\n    },\n    {\n      \"column\": \"Altura_cm\",\n      \"properties\": {\n        \"dtype\": \"number\",\n        \"std\": 6.550231347128226,\n        \"min\": 156.0,\n        \"max\": 194.0,\n        \"num_unique_values\": 35,\n        \"samples\": [\n          164.0,\n          183.0,\n          171.0\n        ],\n        \"semantic_type\": \"\",\n        \"description\": \"\"\n      }\n    },\n    {\n      \"column\": \"Ciudad_nac\",\n      \"properties\": {\n        \"dtype\": \"category\",\n        \"num_unique_values\": 206,\n        \"samples\": [\n          \"Salto\",\n          \"El Dorado\",\n          \"Labarden\"\n        ],\n        \"semantic_type\": \"\",\n        \"description\": \"\"\n      }\n    },\n    {\n      \"column\": \"Pais_nac\",\n      \"properties\": {\n        \"dtype\": \"category\",\n        \"num_unique_values\": 11,\n        \"samples\": [\n          \"Espana\",\n          \"Argentina\",\n          \"Portugal\"\n        ],\n        \"semantic_type\": \"\",\n        \"description\": \"\"\n      }\n    }\n  ]\n}"
            }
          },
          "metadata": {}
        }
      ],
      "source": [
        "# Para cargar un csv usamos read_csv() de pandas.\n",
        "# El argumento es el nombre del archivo\n",
        "df = pd.read_csv('datos_jugadores.csv')\n",
        "\n",
        "# df es un \"DataFrame\", como si fuera una tabla de Excel cargada en Python.\n",
        "\n",
        "display(df) # Display es como un \"print\" especial para cosas que no son texto."
      ]
    },
    {
      "cell_type": "code",
      "execution_count": null,
      "metadata": {
        "id": "MXZyvrqczLUs",
        "colab": {
          "base_uri": "https://localhost:8080/"
        },
        "outputId": "3ee7538b-05e7-4282-a7c9-e1ae88937cee"
      },
      "outputs": [
        {
          "output_type": "stream",
          "name": "stdout",
          "text": [
            "(644, 11)\n",
            "Index(['Equipo', 'Puesto', 'Jugador', 'Edad', 'Nacimiento', 'dia_mes',\n",
            "       'nro_mes', 'año', 'Altura_cm', 'Ciudad_nac', 'Pais_nac'],\n",
            "      dtype='object')\n"
          ]
        }
      ],
      "source": [
        "# Obtener cantidad de filas y columnas total:\n",
        "print(df.shape)\n",
        "\n",
        "# Obtener nombres de las columnas:\n",
        "print(df.columns)"
      ]
    },
    {
      "cell_type": "markdown",
      "metadata": {
        "id": "pxc5IhQ4tN90"
      },
      "source": [
        "Nos gustaría operar de alguna manera con esta tabla, para hacer algun tipo de análisis de los datos.\n",
        "\n",
        "Preguntas posibles:\n",
        "- Cuál es la distribución de edad/altura/año de nacimiento?\n",
        "- Cuantos jugadores de cada País/Puesto/mes de nacimiento hay?\n",
        "- Hay dos jugadores que compartan cumpleaños en un mismo equipo?"
      ]
    },
    {
      "cell_type": "markdown",
      "metadata": {
        "id": "IQ7ZnQ6VwwaM"
      },
      "source": [
        "## Cuál es la distribución de edad?\n",
        "\n",
        "Para esta pregunta vamos a armar un histograma de los valores de edad."
      ]
    },
    {
      "cell_type": "code",
      "execution_count": null,
      "metadata": {
        "id": "JF5HB7TTw4xw",
        "colab": {
          "base_uri": "https://localhost:8080/"
        },
        "outputId": "8a5bcec0-7834-4496-8ab0-35c2269c1360"
      },
      "outputs": [
        {
          "output_type": "execute_result",
          "data": {
            "text/plain": [
              "<Axes: >"
            ]
          },
          "metadata": {},
          "execution_count": 34
        },
        {
          "output_type": "display_data",
          "data": {
            "text/plain": [
              "<Figure size 640x480 with 1 Axes>"
            ],
            "image/png": "[encoded data removed]"
          },
          "metadata": {}
        }
      ],
      "source": [
        "# Para seleccionar una columna usamos:\n",
        "altura = df['Altura_cm']\n",
        "\n",
        "altura.hist()"
      ]
    },
    {
      "cell_type": "code",
      "execution_count": null,
      "metadata": {
        "id": "pMGWoi9Xxd-y",
        "colab": {
          "base_uri": "https://localhost:8080/"
        },
        "outputId": "e107ba36-51fd-4248-c21c-2ef0c8e66e45"
      },
      "outputs": [
        {
          "output_type": "display_data",
          "data": {
            "text/plain": [
              "<Figure size 640x480 with 1 Axes>"
            ],
            "image/png": "[encoded data removed]"
          },
          "metadata": {}
        }
      ],
      "source": [
        "# Dejemos un poco más lindo el gráfico\n",
        "\n",
        "altura.hist(rwidth=0.9, edgecolor='black', color='lightblue')\n",
        "\n",
        "# Label de los ejes\n",
        "plt.xlabel('Altura [cm]', fontsize=13)\n",
        "plt.ylabel('Ocurrencias', fontsize=13)\n",
        "\n",
        "# Apagamos la grid que viene por defecto y despues colocamos la nuestra\n",
        "plt.grid()\n",
        "plt.grid(ls='--', axis='y', color='gray')\n",
        "\n",
        "plt.title('Distribución de altura de los jugadores')\n",
        "\n",
        "plt.show()"
      ]
    },
    {
      "cell_type": "markdown",
      "metadata": {
        "id": "3fjrpaOUx8ge"
      },
      "source": [
        "Como hacemos si queremos crear una columna nueva? Por ejemplo, el logaritmo de la altura?"
      ]
    },
    {
      "cell_type": "code",
      "execution_count": null,
      "metadata": {
        "id": "63Qh-KE6x7T0",
        "colab": {
          "base_uri": "https://localhost:8080/"
        },
        "outputId": "3d580fe9-d3a8-44a0-8478-d57bb7ae6c3a"
      },
      "outputs": [
        {
          "output_type": "display_data",
          "data": {
            "text/plain": [
              "<Figure size 640x480 with 1 Axes>"
            ],
            "image/png": "[encoded data removed]"
          },
          "metadata": {}
        }
      ],
      "source": [
        "df['Altura_log'] = np.log(df['Altura_cm'])\n",
        "\n",
        "# Dejemos un poco más lindo el gráfico\n",
        "df['Altura_log'].hist(rwidth=0.9, edgecolor='black', color='lightblue')\n",
        "\n",
        "# Label de los ejes\n",
        "plt.xlabel('log(Altura)', fontsize=13)\n",
        "plt.ylabel('Ocurrencias', fontsize=13)\n",
        "\n",
        "# Apagamos la grid que viene por defecto y despues colocamos la nuestra\n",
        "plt.grid()\n",
        "plt.grid(ls='--', axis='y', color='gray')\n",
        "\n",
        "plt.title('Distribución de altura de los jugadores')\n",
        "\n",
        "plt.show()"
      ]
    },
    {
      "cell_type": "markdown",
      "metadata": {
        "id": "pJ_DNmFVu3hd"
      },
      "source": [
        "## Cuántos jugadores de cada pais hay?"
      ]
    },
    {
      "cell_type": "code",
      "execution_count": null,
      "metadata": {
        "id": "q4KT0Q2Vu7_C",
        "colab": {
          "base_uri": "https://localhost:8080/"
        },
        "outputId": "258ae242-7cf4-44e6-e173-8153f7aa3e49"
      },
      "outputs": [
        {
          "output_type": "display_data",
          "data": {
            "text/plain": [
              "<pandas.core.groupby.generic.DataFrameGroupBy object at 0x7f43887eb430>"
            ]
          },
          "metadata": {}
        }
      ],
      "source": [
        "# Podemos usar la función groupby de pandas para agrupar todas las filas\n",
        "# con el mismo país de nacimiento.\n",
        "\n",
        "df_gb = df.groupby('Pais_nac')\n",
        "\n",
        "display(df_gb)"
      ]
    },
    {
      "cell_type": "markdown",
      "metadata": {
        "id": "zjKOnIczvLLc"
      },
      "source": [
        "Vemos que esto asi solo no nos dice absolutamente nada. Una vez que tenemos agrupado por una columna nuestro DataFrame, podemos hacer cálculos como el promedio, la suma de los valores, la cantidad de veces que aparece una fila con el valor que agrupamos, el máximo, etc. A estas se las conoce como funciones de agregación."
      ]
    },
    {
      "cell_type": "code",
      "execution_count": null,
      "metadata": {
        "id": "qqy0Cb1lvY1X",
        "colab": {
          "base_uri": "https://localhost:8080/"
        },
        "outputId": "642ef7ec-68c4-40bc-ecbd-e03b4832e4dc"
      },
      "outputs": [
        {
          "output_type": "execute_result",
          "data": {
            "text/plain": [
              "Pais_nac\n",
              "Argentina    544\n",
              "Chile          5\n",
              "Colombia      22\n",
              "Ecuador        3\n",
              "Espana         3\n",
              "Mexico         1\n",
              "Paraguay      28\n",
              "Peru           2\n",
              "Portugal       1\n",
              "Uruguay       33\n",
              "Venezuela      2\n",
              "Name: Equipo, dtype: int64"
            ]
          },
          "metadata": {},
          "execution_count": 38
        }
      ],
      "source": [
        "# Para contar la cantidad de filas seleccionamos una columna cualquiera y usamos 'count'.\n",
        "\n",
        "df_gb['Equipo'].count()"
      ]
    },
    {
      "cell_type": "code",
      "execution_count": null,
      "metadata": {
        "id": "m7_DkU3AwdP4",
        "colab": {
          "base_uri": "https://localhost:8080/"
        },
        "outputId": "33f908f8-475d-4289-ec07-6bb32c60db01"
      },
      "outputs": [
        {
          "output_type": "execute_result",
          "data": {
            "text/plain": [
              "Pais_nac\n",
              "Argentina    194.0\n",
              "Chile        180.0\n",
              "Colombia     190.0\n",
              "Ecuador      176.0\n",
              "Espana       192.0\n",
              "Mexico       178.0\n",
              "Paraguay     188.0\n",
              "Peru         185.0\n",
              "Portugal     176.0\n",
              "Uruguay      190.0\n",
              "Venezuela    186.0\n",
              "Name: Altura_cm, dtype: float64"
            ]
          },
          "metadata": {},
          "execution_count": 39
        }
      ],
      "source": [
        "# Si quisieramos el máximo de altura, por ejemplo:\n",
        "\n",
        "df_gb['Altura_cm'].max()"
      ]
    },
    {
      "cell_type": "markdown",
      "metadata": {
        "id": "Smzezd51uyNC"
      },
      "source": [
        "## Hay dos jugadores que compartan cumpleaños en un mismo equipo?"
      ]
    },
    {
      "cell_type": "code",
      "execution_count": null,
      "metadata": {
        "id": "y8nQrB--s_CL",
        "colab": {
          "base_uri": "https://localhost:8080/"
        },
        "outputId": "ceb99e11-f9db-4abf-9142-4cc146796703"
      },
      "outputs": [
        {
          "output_type": "display_data",
          "data": {
            "text/plain": [
              "Equipo      dia_mes\n",
              "Argentinos  01-dic     1\n",
              "            02-feb     1\n",
              "            04-jul     1\n",
              "            07-nov     1\n",
              "            08-ago     1\n",
              "                      ..\n",
              "Velez       25-feb     1\n",
              "            26-jun     1\n",
              "            28-abr     1\n",
              "            30-ene     1\n",
              "            31-ene     1\n",
              "Name: Puesto, Length: 622, dtype: int64"
            ]
          },
          "metadata": {}
        }
      ],
      "source": [
        "# Para responder esto, podemos contar cuantas veces se repite\n",
        "# el mismo valor de \"Equipo\" y \"dia_mes\". Para hacer esto, podemos aprovechar\n",
        "# a usar devuelta el groupby, y contar cuantas veces está esa combinaciones\n",
        "# de valores\n",
        "\n",
        "df_gb = df.groupby(['Equipo', 'dia_mes'])['Puesto'].count()\n",
        "\n",
        "display(df_gb)"
      ]
    },
    {
      "cell_type": "code",
      "execution_count": null,
      "metadata": {
        "id": "T5RkU99ItxHE",
        "colab": {
          "base_uri": "https://localhost:8080/"
        },
        "outputId": "c2f1376a-a3d6-4206-e4b9-4343d7329a27"
      },
      "outputs": [
        {
          "output_type": "display_data",
          "data": {
            "text/plain": [
              "Equipo             dia_mes\n",
              "Argentinos         25-ene     2\n",
              "Atl Tucuman        10-may     2\n",
              "                   17-feb     2\n",
              "Banfield           01-feb     2\n",
              "Belgrano           29-ago     2\n",
              "Boca Juniors       04-jul     2\n",
              "                   22-feb     2\n",
              "                   23-jul     2\n",
              "                   24-abr     2\n",
              "Central Cba (SdE)  13-ene     2\n",
              "                   27-oct     2\n",
              "Colon              05-sep     2\n",
              "                   13-ene     2\n",
              "Def y Justicia     08-feb     2\n",
              "Estudiantes (LP)   29-mar     2\n",
              "Gimnasia (LP)      05-may     2\n",
              "Godoy Cruz         02-mar     2\n",
              "                   16-feb     2\n",
              "Lanus              22-mar     2\n",
              "River Plate        29-mar     2\n",
              "Tigre              07-feb     2\n",
              "Union              30-jul     2\n",
              "Name: Puesto, dtype: int64"
            ]
          },
          "metadata": {}
        }
      ],
      "source": [
        "# Ahora podemos filtrar usando esta sintaxis\n",
        "\n",
        "df_filtered = df_gb[df_gb > 1]\n",
        "\n",
        "display(df_filtered)"
      ]
    },
    {
      "cell_type": "code",
      "execution_count": null,
      "metadata": {
        "id": "Hyd3CN5Ey4TH",
        "colab": {
          "base_uri": "https://localhost:8080/",
          "height": 896
        },
        "outputId": "fc395f53-00ca-46c6-fbec-84415f6dc729"
      },
      "outputs": [
        {
          "output_type": "display_data",
          "data": {
            "text/plain": [
              "                Equipo Puesto               Jugador  Edad Nacimiento dia_mes  \\\n",
              "0                Tigre    MED         Aaron Molinas    22   8/2/2000  02-ago   \n",
              "67       Independiente    DEL       Braian Martínez    23  8/18/1999  18-ago   \n",
              "146           Belgrano    DEF            Erik Godoy    29  8/16/1993  16-ago   \n",
              "202           Platense    MED           Franco Diaz    22  8/28/2000  28-ago   \n",
              "219           Belgrano    MED   Gabriel Compagnucci    31  8/29/1991  29-ago   \n",
              "246     Def y Justicia    MED    Gonzalo Castellani    35  8/10/1987  10-ago   \n",
              "248  Central Cba (SdE)    DEF          Gonzalo Goñi    24  8/16/1998  16-ago   \n",
              "265            Newells    DEF       Guillermo Ortíz    30   8/9/1992  09-ago   \n",
              "279        Atl Tucuman    MED  Ignacio Maestro Puch    19  8/13/2003  13-ago   \n",
              "282           Platense    MED         Ignacio Schor    22   8/4/2000  04-ago   \n",
              "343    Rosario Central    DEF       Juan Cruz Komar    26  8/13/1996  13-ago   \n",
              "368       Talleres (C)    DEF       Julio Buffarini    34  8/18/1988  18-ago   \n",
              "410            Huracan    ARQ          Lucas Chaves    27   8/9/1995  09-ago   \n",
              "416              Velez    DEL          Lucas Janson    28  8/16/1994  16-ago   \n",
              "424         Argentinos    DEF        Lucas Villalba    28  8/19/1994  19-ago   \n",
              "442           Belgrano    ARQ      Manuel Vicentini    32  8/29/1990  29-ago   \n",
              "459              Tigre    DEF         Martín Ortega    23  8/20/1999  20-ago   \n",
              "467       Talleres (C)    DEF        Matías Catalán    30  8/19/1992  19-ago   \n",
              "487  Central Cba (SdE)    MED          Mauro Pittón    28   8/8/1994  08-ago   \n",
              "502         Argentinos    DEF         Miguel Torrén    34  8/12/1988  12-ago   \n",
              "504           Banfield    DEL        Milton Gimenez    26  8/12/1996  12-ago   \n",
              "545            Newells    MED           Pablo Pérez    37  8/10/1985  10-ago   \n",
              "571         Argentinos    DEL        Rodrigo Cabral    22   8/8/2000  08-ago   \n",
              "590          Instituto    DEL    Santiago Rodríguez    25  8/23/1997  23-ago   \n",
              "598              Union    ARQ      Sebastián Moyano    32  8/26/1990  26-ago   \n",
              "629            Huracan    MED       Valentín Burgoa    22  8/16/2000  16-ago   \n",
              "635              Velez    DEL            Walter Bou    29  8/25/1993  25-ago   \n",
              "\n",
              "     nro_mes   año  Altura_cm             Ciudad_nac   Pais_nac  Altura_log  \n",
              "0          8  2000      175.0                    NaN  Argentina    5.164786  \n",
              "67         8  1999      170.0                    NaN  Argentina    5.135798  \n",
              "146        8  1993      185.0           Buenos Aires  Argentina    5.220356  \n",
              "202        8  2000      180.0                    NaN  Argentina    5.192957  \n",
              "219        8  1991      178.0             Monte Buey  Argentina    5.181784  \n",
              "246        8  1987      183.0           Buenos Aires  Argentina    5.209486  \n",
              "248        8  1998      187.0             Pedro Luro  Argentina    5.231109  \n",
              "265        8  1992      183.0                Rosario  Argentina    5.209486  \n",
              "279        8  2003      180.0  San Miguel de Tucuman  Argentina    5.192957  \n",
              "282        8  2000      183.0           Buenos Aires  Argentina    5.209486  \n",
              "343        8  1996      190.0                Rosario  Argentina    5.247024  \n",
              "368        8  1988      172.0          Gral. Cabrera  Argentina    5.147494  \n",
              "410        8  1995      179.0        Martín Coronado  Argentina    5.187386  \n",
              "416        8  1994      171.0                    NaN  Argentina    5.141664  \n",
              "424        8  1994      177.0                    NaN  Argentina    5.176150  \n",
              "442        8  1990      187.0               Santa Fé  Argentina    5.231109  \n",
              "459        8  1999      183.0                    NaN  Argentina    5.209486  \n",
              "467        8  1992      172.0          Mar del Plata  Argentina    5.147494  \n",
              "487        8  1994      174.0                    NaN  Argentina    5.159055  \n",
              "502        8  1988      179.0               Santa Fé  Argentina    5.187386  \n",
              "504        8  1996      184.0            Grand Bourg  Argentina    5.214936  \n",
              "545        8  1985      179.0                Rosario  Argentina    5.187386  \n",
              "571        8  2000      170.0               Mercedes  Argentina    5.135798  \n",
              "590        8  1997      171.0               San Luis  Argentina    5.141664  \n",
              "598        8  1990      188.0                Mendoza  Argentina    5.236442  \n",
              "629        8  2000      175.0             Guaymallén  Argentina    5.164786  \n",
              "635        8  1993      176.0              Concordia  Argentina    5.170484  "
            ],
            "text/html": [
              "\n",
              "  <div id=\"df-3835f0f7-ccc8-4fae-9588-794f6ad21f01\" class=\"colab-df-container\">\n",
              "    <div>\n",
              "<style scoped>\n",
              "    .dataframe tbody tr th:only-of-type {\n",
              "        vertical-align: middle;\n",
              "    }\n",
              "\n",
              "    .dataframe tbody tr th {\n",
              "        vertical-align: top;\n",
              "    }\n",
              "\n",
              "    .dataframe thead th {\n",
              "        text-align: right;\n",
              "    }\n",
              "</style>\n",
              "<table border=\"1\" class=\"dataframe\">\n",
              "  <thead>\n",
              "    <tr style=\"text-align: right;\">\n",
              "      <th></th>\n",
              "      <th>Equipo</th>\n",
              "      <th>Puesto</th>\n",
              "      <th>Jugador</th>\n",
              "      <th>Edad</th>\n",
              "      <th>Nacimiento</th>\n",
              "      <th>dia_mes</th>\n",
              "      <th>nro_mes</th>\n",
              "      <th>año</th>\n",
              "      <th>Altura_cm</th>\n",
              "      <th>Ciudad_nac</th>\n",
              "      <th>Pais_nac</th>\n",
              "      <th>Altura_log</th>\n",
              "    </tr>\n",
              "  </thead>\n",
              "  <tbody>\n",
              "    <tr>\n",
              "      <th>0</th>\n",
              "      <td>Tigre</td>\n",
              "      <td>MED</td>\n",
              "      <td>Aaron Molinas</td>\n",
              "      <td>22</td>\n",
              "      <td>8/2/2000</td>\n",
              "      <td>02-ago</td>\n",
              "      <td>8</td>\n",
              "      <td>2000</td>\n",
              "      <td>175.0</td>\n",
              "      <td>NaN</td>\n",
              "      <td>Argentina</td>\n",
              "      <td>5.164786</td>\n",
              "    </tr>\n",
              "    <tr>\n",
              "      <th>67</th>\n",
              "      <td>Independiente</td>\n",
              "      <td>DEL</td>\n",
              "      <td>Braian Martínez</td>\n",
              "      <td>23</td>\n",
              "      <td>8/18/1999</td>\n",
              "      <td>18-ago</td>\n",
              "      <td>8</td>\n",
              "      <td>1999</td>\n",
              "      <td>170.0</td>\n",
              "      <td>NaN</td>\n",
              "      <td>Argentina</td>\n",
              "      <td>5.135798</td>\n",
              "    </tr>\n",
              "    <tr>\n",
              "      <th>146</th>\n",
              "      <td>Belgrano</td>\n",
              "      <td>DEF</td>\n",
              "      <td>Erik Godoy</td>\n",
              "      <td>29</td>\n",
              "      <td>8/16/1993</td>\n",
              "      <td>16-ago</td>\n",
              "      <td>8</td>\n",
              "      <td>1993</td>\n",
              "      <td>185.0</td>\n",
              "      <td>Buenos Aires</td>\n",
              "      <td>Argentina</td>\n",
              "      <td>5.220356</td>\n",
              "    </tr>\n",
              "    <tr>\n",
              "      <th>202</th>\n",
              "      <td>Platense</td>\n",
              "      <td>MED</td>\n",
              "      <td>Franco Diaz</td>\n",
              "      <td>22</td>\n",
              "      <td>8/28/2000</td>\n",
              "      <td>28-ago</td>\n",
              "      <td>8</td>\n",
              "      <td>2000</td>\n",
              "      <td>180.0</td>\n",
              "      <td>NaN</td>\n",
              "      <td>Argentina</td>\n",
              "      <td>5.192957</td>\n",
              "    </tr>\n",
              "    <tr>\n",
              "      <th>219</th>\n",
              "      <td>Belgrano</td>\n",
              "      <td>MED</td>\n",
              "      <td>Gabriel Compagnucci</td>\n",
              "      <td>31</td>\n",
              "      <td>8/29/1991</td>\n",
              "      <td>29-ago</td>\n",
              "      <td>8</td>\n",
              "      <td>1991</td>\n",
              "      <td>178.0</td>\n",
              "      <td>Monte Buey</td>\n",
              "      <td>Argentina</td>\n",
              "      <td>5.181784</td>\n",
              "    </tr>\n",
              "    <tr>\n",
              "      <th>246</th>\n",
              "      <td>Def y Justicia</td>\n",
              "      <td>MED</td>\n",
              "      <td>Gonzalo Castellani</td>\n",
              "      <td>35</td>\n",
              "      <td>8/10/1987</td>\n",
              "      <td>10-ago</td>\n",
              "      <td>8</td>\n",
              "      <td>1987</td>\n",
              "      <td>183.0</td>\n",
              "      <td>Buenos Aires</td>\n",
              "      <td>Argentina</td>\n",
              "      <td>5.209486</td>\n",
              "    </tr>\n",
              "    <tr>\n",
              "      <th>248</th>\n",
              "      <td>Central Cba (SdE)</td>\n",
              "      <td>DEF</td>\n",
              "      <td>Gonzalo Goñi</td>\n",
              "      <td>24</td>\n",
              "      <td>8/16/1998</td>\n",
              "      <td>16-ago</td>\n",
              "      <td>8</td>\n",
              "      <td>1998</td>\n",
              "      <td>187.0</td>\n",
              "      <td>Pedro Luro</td>\n",
              "      <td>Argentina</td>\n",
              "      <td>5.231109</td>\n",
              "    </tr>\n",
              "    <tr>\n",
              "      <th>265</th>\n",
              "      <td>Newells</td>\n",
              "      <td>DEF</td>\n",
              "      <td>Guillermo Ortíz</td>\n",
              "      <td>30</td>\n",
              "      <td>8/9/1992</td>\n",
              "      <td>09-ago</td>\n",
              "      <td>8</td>\n",
              "      <td>1992</td>\n",
              "      <td>183.0</td>\n",
              "      <td>Rosario</td>\n",
              "      <td>Argentina</td>\n",
              "      <td>5.209486</td>\n",
              "    </tr>\n",
              "    <tr>\n",
              "      <th>279</th>\n",
              "      <td>Atl Tucuman</td>\n",
              "      <td>MED</td>\n",
              "      <td>Ignacio Maestro Puch</td>\n",
              "      <td>19</td>\n",
              "      <td>8/13/2003</td>\n",
              "      <td>13-ago</td>\n",
              "      <td>8</td>\n",
              "      <td>2003</td>\n",
              "      <td>180.0</td>\n",
              "      <td>San Miguel de Tucuman</td>\n",
              "      <td>Argentina</td>\n",
              "      <td>5.192957</td>\n",
              "    </tr>\n",
              "    <tr>\n",
              "      <th>282</th>\n",
              "      <td>Platense</td>\n",
              "      <td>MED</td>\n",
              "      <td>Ignacio Schor</td>\n",
              "      <td>22</td>\n",
              "      <td>8/4/2000</td>\n",
              "      <td>04-ago</td>\n",
              "      <td>8</td>\n",
              "      <td>2000</td>\n",
              "      <td>183.0</td>\n",
              "      <td>Buenos Aires</td>\n",
              "      <td>Argentina</td>\n",
              "      <td>5.209486</td>\n",
              "    </tr>\n",
              "    <tr>\n",
              "      <th>343</th>\n",
              "      <td>Rosario Central</td>\n",
              "      <td>DEF</td>\n",
              "      <td>Juan Cruz Komar</td>\n",
              "      <td>26</td>\n",
              "      <td>8/13/1996</td>\n",
              "      <td>13-ago</td>\n",
              "      <td>8</td>\n",
              "      <td>1996</td>\n",
              "      <td>190.0</td>\n",
              "      <td>Rosario</td>\n",
              "      <td>Argentina</td>\n",
              "      <td>5.247024</td>\n",
              "    </tr>\n",
              "    <tr>\n",
              "      <th>368</th>\n",
              "      <td>Talleres (C)</td>\n",
              "      <td>DEF</td>\n",
              "      <td>Julio Buffarini</td>\n",
              "      <td>34</td>\n",
              "      <td>8/18/1988</td>\n",
              "      <td>18-ago</td>\n",
              "      <td>8</td>\n",
              "      <td>1988</td>\n",
              "      <td>172.0</td>\n",
              "      <td>Gral. Cabrera</td>\n",
              "      <td>Argentina</td>\n",
              "      <td>5.147494</td>\n",
              "    </tr>\n",
              "    <tr>\n",
              "      <th>410</th>\n",
              "      <td>Huracan</td>\n",
              "      <td>ARQ</td>\n",
              "      <td>Lucas Chaves</td>\n",
              "      <td>27</td>\n",
              "      <td>8/9/1995</td>\n",
              "      <td>09-ago</td>\n",
              "      <td>8</td>\n",
              "      <td>1995</td>\n",
              "      <td>179.0</td>\n",
              "      <td>Martín Coronado</td>\n",
              "      <td>Argentina</td>\n",
              "      <td>5.187386</td>\n",
              "    </tr>\n",
              "    <tr>\n",
              "      <th>416</th>\n",
              "      <td>Velez</td>\n",
              "      <td>DEL</td>\n",
              "      <td>Lucas Janson</td>\n",
              "      <td>28</td>\n",
              "      <td>8/16/1994</td>\n",
              "      <td>16-ago</td>\n",
              "      <td>8</td>\n",
              "      <td>1994</td>\n",
              "      <td>171.0</td>\n",
              "      <td>NaN</td>\n",
              "      <td>Argentina</td>\n",
              "      <td>5.141664</td>\n",
              "    </tr>\n",
              "    <tr>\n",
              "      <th>424</th>\n",
              "      <td>Argentinos</td>\n",
              "      <td>DEF</td>\n",
              "      <td>Lucas Villalba</td>\n",
              "      <td>28</td>\n",
              "      <td>8/19/1994</td>\n",
              "      <td>19-ago</td>\n",
              "      <td>8</td>\n",
              "      <td>1994</td>\n",
              "      <td>177.0</td>\n",
              "      <td>NaN</td>\n",
              "      <td>Argentina</td>\n",
              "      <td>5.176150</td>\n",
              "    </tr>\n",
              "    <tr>\n",
              "      <th>442</th>\n",
              "      <td>Belgrano</td>\n",
              "      <td>ARQ</td>\n",
              "      <td>Manuel Vicentini</td>\n",
              "      <td>32</td>\n",
              "      <td>8/29/1990</td>\n",
              "      <td>29-ago</td>\n",
              "      <td>8</td>\n",
              "      <td>1990</td>\n",
              "      <td>187.0</td>\n",
              "      <td>Santa Fé</td>\n",
              "      <td>Argentina</td>\n",
              "      <td>5.231109</td>\n",
              "    </tr>\n",
              "    <tr>\n",
              "      <th>459</th>\n",
              "      <td>Tigre</td>\n",
              "      <td>DEF</td>\n",
              "      <td>Martín Ortega</td>\n",
              "      <td>23</td>\n",
              "      <td>8/20/1999</td>\n",
              "      <td>20-ago</td>\n",
              "      <td>8</td>\n",
              "      <td>1999</td>\n",
              "      <td>183.0</td>\n",
              "      <td>NaN</td>\n",
              "      <td>Argentina</td>\n",
              "      <td>5.209486</td>\n",
              "    </tr>\n",
              "    <tr>\n",
              "      <th>467</th>\n",
              "      <td>Talleres (C)</td>\n",
              "      <td>DEF</td>\n",
              "      <td>Matías Catalán</td>\n",
              "      <td>30</td>\n",
              "      <td>8/19/1992</td>\n",
              "      <td>19-ago</td>\n",
              "      <td>8</td>\n",
              "      <td>1992</td>\n",
              "      <td>172.0</td>\n",
              "      <td>Mar del Plata</td>\n",
              "      <td>Argentina</td>\n",
              "      <td>5.147494</td>\n",
              "    </tr>\n",
              "    <tr>\n",
              "      <th>487</th>\n",
              "      <td>Central Cba (SdE)</td>\n",
              "      <td>MED</td>\n",
              "      <td>Mauro Pittón</td>\n",
              "      <td>28</td>\n",
              "      <td>8/8/1994</td>\n",
              "      <td>08-ago</td>\n",
              "      <td>8</td>\n",
              "      <td>1994</td>\n",
              "      <td>174.0</td>\n",
              "      <td>NaN</td>\n",
              "      <td>Argentina</td>\n",
              "      <td>5.159055</td>\n",
              "    </tr>\n",
              "    <tr>\n",
              "      <th>502</th>\n",
              "      <td>Argentinos</td>\n",
              "      <td>DEF</td>\n",
              "      <td>Miguel Torrén</td>\n",
              "      <td>34</td>\n",
              "      <td>8/12/1988</td>\n",
              "      <td>12-ago</td>\n",
              "      <td>8</td>\n",
              "      <td>1988</td>\n",
              "      <td>179.0</td>\n",
              "      <td>Santa Fé</td>\n",
              "      <td>Argentina</td>\n",
              "      <td>5.187386</td>\n",
              "    </tr>\n",
              "    <tr>\n",
              "      <th>504</th>\n",
              "      <td>Banfield</td>\n",
              "      <td>DEL</td>\n",
              "      <td>Milton Gimenez</td>\n",
              "      <td>26</td>\n",
              "      <td>8/12/1996</td>\n",
              "      <td>12-ago</td>\n",
              "      <td>8</td>\n",
              "      <td>1996</td>\n",
              "      <td>184.0</td>\n",
              "      <td>Grand Bourg</td>\n",
              "      <td>Argentina</td>\n",
              "      <td>5.214936</td>\n",
              "    </tr>\n",
              "    <tr>\n",
              "      <th>545</th>\n",
              "      <td>Newells</td>\n",
              "      <td>MED</td>\n",
              "      <td>Pablo Pérez</td>\n",
              "      <td>37</td>\n",
              "      <td>8/10/1985</td>\n",
              "      <td>10-ago</td>\n",
              "      <td>8</td>\n",
              "      <td>1985</td>\n",
              "      <td>179.0</td>\n",
              "      <td>Rosario</td>\n",
              "      <td>Argentina</td>\n",
              "      <td>5.187386</td>\n",
              "    </tr>\n",
              "    <tr>\n",
              "      <th>571</th>\n",
              "      <td>Argentinos</td>\n",
              "      <td>DEL</td>\n",
              "      <td>Rodrigo Cabral</td>\n",
              "      <td>22</td>\n",
              "      <td>8/8/2000</td>\n",
              "      <td>08-ago</td>\n",
              "      <td>8</td>\n",
              "      <td>2000</td>\n",
              "      <td>170.0</td>\n",
              "      <td>Mercedes</td>\n",
              "      <td>Argentina</td>\n",
              "      <td>5.135798</td>\n",
              "    </tr>\n",
              "    <tr>\n",
              "      <th>590</th>\n",
              "      <td>Instituto</td>\n",
              "      <td>DEL</td>\n",
              "      <td>Santiago Rodríguez</td>\n",
              "      <td>25</td>\n",
              "      <td>8/23/1997</td>\n",
              "      <td>23-ago</td>\n",
              "      <td>8</td>\n",
              "      <td>1997</td>\n",
              "      <td>171.0</td>\n",
              "      <td>San Luis</td>\n",
              "      <td>Argentina</td>\n",
              "      <td>5.141664</td>\n",
              "    </tr>\n",
              "    <tr>\n",
              "      <th>598</th>\n",
              "      <td>Union</td>\n",
              "      <td>ARQ</td>\n",
              "      <td>Sebastián Moyano</td>\n",
              "      <td>32</td>\n",
              "      <td>8/26/1990</td>\n",
              "      <td>26-ago</td>\n",
              "      <td>8</td>\n",
              "      <td>1990</td>\n",
              "      <td>188.0</td>\n",
              "      <td>Mendoza</td>\n",
              "      <td>Argentina</td>\n",
              "      <td>5.236442</td>\n",
              "    </tr>\n",
              "    <tr>\n",
              "      <th>629</th>\n",
              "      <td>Huracan</td>\n",
              "      <td>MED</td>\n",
              "      <td>Valentín Burgoa</td>\n",
              "      <td>22</td>\n",
              "      <td>8/16/2000</td>\n",
              "      <td>16-ago</td>\n",
              "      <td>8</td>\n",
              "      <td>2000</td>\n",
              "      <td>175.0</td>\n",
              "      <td>Guaymallén</td>\n",
              "      <td>Argentina</td>\n",
              "      <td>5.164786</td>\n",
              "    </tr>\n",
              "    <tr>\n",
              "      <th>635</th>\n",
              "      <td>Velez</td>\n",
              "      <td>DEL</td>\n",
              "      <td>Walter Bou</td>\n",
              "      <td>29</td>\n",
              "      <td>8/25/1993</td>\n",
              "      <td>25-ago</td>\n",
              "      <td>8</td>\n",
              "      <td>1993</td>\n",
              "      <td>176.0</td>\n",
              "      <td>Concordia</td>\n",
              "      <td>Argentina</td>\n",
              "      <td>5.170484</td>\n",
              "    </tr>\n",
              "  </tbody>\n",
              "</table>\n",
              "</div>\n",
              "    <div class=\"colab-df-buttons\">\n",
              "\n",
              "  <div class=\"colab-df-container\">\n",
              "    <button class=\"colab-df-convert\" onclick=\"convertToInteractive('df-3835f0f7-ccc8-4fae-9588-794f6ad21f01')\"\n",
              "            title=\"Convert this dataframe to an interactive table.\"\n",
              "            style=\"display:none;\">\n",
              "\n",
              "  <svg xmlns=\"http://www.w3.org/2000/svg\" height=\"24px\" viewBox=\"0 -960 960 960\">\n",
              "    <path d=\"M120-120v-720h720v720H120Zm60-500h600v-160H180v160Zm220 220h160v-160H400v160Zm0 220h160v-160H400v160ZM180-400h160v-160H180v160Zm440 0h160v-160H620v160ZM180-180h160v-160H180v160Zm440 0h160v-160H620v160Z\"/>\n",
              "  </svg>\n",
              "    </button>\n",
              "\n",
              "  <style>\n",
              "    .colab-df-container {\n",
              "      display:flex;\n",
              "      gap: 12px;\n",
              "    }\n",
              "\n",
              "    .colab-df-convert {\n",
              "      background-color: #E8F0FE;\n",
              "      border: none;\n",
              "      border-radius: 50%;\n",
              "      cursor: pointer;\n",
              "      display: none;\n",
              "      fill: #1967D2;\n",
              "      height: 32px;\n",
              "      padding: 0 0 0 0;\n",
              "      width: 32px;\n",
              "    }\n",
              "\n",
              "    .colab-df-convert:hover {\n",
              "      background-color: #E2EBFA;\n",
              "      box-shadow: 0px 1px 2px rgba(60, 64, 67, 0.3), 0px 1px 3px 1px rgba(60, 64, 67, 0.15);\n",
              "      fill: #174EA6;\n",
              "    }\n",
              "\n",
              "    .colab-df-buttons div {\n",
              "      margin-bottom: 4px;\n",
              "    }\n",
              "\n",
              "    [theme=dark] .colab-df-convert {\n",
              "      background-color: #3B4455;\n",
              "      fill: #D2E3FC;\n",
              "    }\n",
              "\n",
              "    [theme=dark] .colab-df-convert:hover {\n",
              "      background-color: #434B5C;\n",
              "      box-shadow: 0px 1px 3px 1px rgba(0, 0, 0, 0.15);\n",
              "      filter: drop-shadow(0px 1px 2px rgba(0, 0, 0, 0.3));\n",
              "      fill: #FFFFFF;\n",
              "    }\n",
              "  </style>\n",
              "\n",
              "    <script>\n",
              "      const buttonEl =\n",
              "        document.querySelector('#df-3835f0f7-ccc8-4fae-9588-794f6ad21f01 button.colab-df-convert');\n",
              "      buttonEl.style.display =\n",
              "        google.colab.kernel.accessAllowed ? 'block' : 'none';\n",
              "\n",
              "      async function convertToInteractive(key) {\n",
              "        const element = document.querySelector('#df-3835f0f7-ccc8-4fae-9588-794f6ad21f01');\n",
              "        const dataTable =\n",
              "          await google.colab.kernel.invokeFunction('convertToInteractive',\n",
              "                                                    [key], {});\n",
              "        if (!dataTable) return;\n",
              "\n",
              "        const docLinkHtml = 'Like what you see? Visit the ' +\n",
              "          '<a target=\"_blank\" href=https://colab.research.google.com/notebooks/data_table.ipynb>data table notebook</a>'\n",
              "          + ' to learn more about interactive tables.';\n",
              "        element.innerHTML = '';\n",
              "        dataTable['output_type'] = 'display_data';\n",
              "        await google.colab.output.renderOutput(dataTable, element);\n",
              "        const docLink = document.createElement('div');\n",
              "        docLink.innerHTML = docLinkHtml;\n",
              "        element.appendChild(docLink);\n",
              "      }\n",
              "    </script>\n",
              "  </div>\n",
              "\n",
              "\n",
              "<div id=\"df-90fbd3ed-901b-470f-bc0c-3b6bfd854f08\">\n",
              "  <button class=\"colab-df-quickchart\" onclick=\"quickchart('df-90fbd3ed-901b-470f-bc0c-3b6bfd854f08')\"\n",
              "            title=\"Suggest charts\"\n",
              "            style=\"display:none;\">\n",
              "\n",
              "<svg xmlns=\"http://www.w3.org/2000/svg\" height=\"24px\"viewBox=\"0 0 24 24\"\n",
              "     width=\"24px\">\n",
              "    <g>\n",
              "        <path d=\"M19 3H5c-1.1 0-2 .9-2 2v14c0 1.1.9 2 2 2h14c1.1 0 2-.9 2-2V5c0-1.1-.9-2-2-2zM9 17H7v-7h2v7zm4 0h-2V7h2v10zm4 0h-2v-4h2v4z\"/>\n",
              "    </g>\n",
              "</svg>\n",
              "  </button>\n",
              "\n",
              "<style>\n",
              "  .colab-df-quickchart {\n",
              "      --bg-color: #E8F0FE;\n",
              "      --fill-color: #1967D2;\n",
              "      --hover-bg-color: #E2EBFA;\n",
              "      --hover-fill-color: #174EA6;\n",
              "      --disabled-fill-color: #AAA;\n",
              "      --disabled-bg-color: #DDD;\n",
              "  }\n",
              "\n",
              "  [theme=dark] .colab-df-quickchart {\n",
              "      --bg-color: #3B4455;\n",
              "      --fill-color: #D2E3FC;\n",
              "      --hover-bg-color: #434B5C;\n",
              "      --hover-fill-color: #FFFFFF;\n",
              "      --disabled-bg-color: #3B4455;\n",
              "      --disabled-fill-color: #666;\n",
              "  }\n",
              "\n",
              "  .colab-df-quickchart {\n",
              "    background-color: var(--bg-color);\n",
              "    border: none;\n",
              "    border-radius: 50%;\n",
              "    cursor: pointer;\n",
              "    display: none;\n",
              "    fill: var(--fill-color);\n",
              "    height: 32px;\n",
              "    padding: 0;\n",
              "    width: 32px;\n",
              "  }\n",
              "\n",
              "  .colab-df-quickchart:hover {\n",
              "    background-color: var(--hover-bg-color);\n",
              "    box-shadow: 0 1px 2px rgba(60, 64, 67, 0.3), 0 1px 3px 1px rgba(60, 64, 67, 0.15);\n",
              "    fill: var(--button-hover-fill-color);\n",
              "  }\n",
              "\n",
              "  .colab-df-quickchart-complete:disabled,\n",
              "  .colab-df-quickchart-complete:disabled:hover {\n",
              "    background-color: var(--disabled-bg-color);\n",
              "    fill: var(--disabled-fill-color);\n",
              "    box-shadow: none;\n",
              "  }\n",
              "\n",
              "  .colab-df-spinner {\n",
              "    border: 2px solid var(--fill-color);\n",
              "    border-color: transparent;\n",
              "    border-bottom-color: var(--fill-color);\n",
              "    animation:\n",
              "      spin 1s steps(1) infinite;\n",
              "  }\n",
              "\n",
              "  @keyframes spin {\n",
              "    0% {\n",
              "      border-color: transparent;\n",
              "      border-bottom-color: var(--fill-color);\n",
              "      border-left-color: var(--fill-color);\n",
              "    }\n",
              "    20% {\n",
              "      border-color: transparent;\n",
              "      border-left-color: var(--fill-color);\n",
              "      border-top-color: var(--fill-color);\n",
              "    }\n",
              "    30% {\n",
              "      border-color: transparent;\n",
              "      border-left-color: var(--fill-color);\n",
              "      border-top-color: var(--fill-color);\n",
              "      border-right-color: var(--fill-color);\n",
              "    }\n",
              "    40% {\n",
              "      border-color: transparent;\n",
              "      border-right-color: var(--fill-color);\n",
              "      border-top-color: var(--fill-color);\n",
              "    }\n",
              "    60% {\n",
              "      border-color: transparent;\n",
              "      border-right-color: var(--fill-color);\n",
              "    }\n",
              "    80% {\n",
              "      border-color: transparent;\n",
              "      border-right-color: var(--fill-color);\n",
              "      border-bottom-color: var(--fill-color);\n",
              "    }\n",
              "    90% {\n",
              "      border-color: transparent;\n",
              "      border-bottom-color: var(--fill-color);\n",
              "    }\n",
              "  }\n",
              "</style>\n",
              "\n",
              "  <script>\n",
              "    async function quickchart(key) {\n",
              "      const quickchartButtonEl =\n",
              "        document.querySelector('#' + key + ' button');\n",
              "      quickchartButtonEl.disabled = true;  // To prevent multiple clicks.\n",
              "      quickchartButtonEl.classList.add('colab-df-spinner');\n",
              "      try {\n",
              "        const charts = await google.colab.kernel.invokeFunction(\n",
              "            'suggestCharts', [key], {});\n",
              "      } catch (error) {\n",
              "        console.error('Error during call to suggestCharts:', error);\n",
              "      }\n",
              "      quickchartButtonEl.classList.remove('colab-df-spinner');\n",
              "      quickchartButtonEl.classList.add('colab-df-quickchart-complete');\n",
              "    }\n",
              "    (() => {\n",
              "      let quickchartButtonEl =\n",
              "        document.querySelector('#df-90fbd3ed-901b-470f-bc0c-3b6bfd854f08 button');\n",
              "      quickchartButtonEl.style.display =\n",
              "        google.colab.kernel.accessAllowed ? 'block' : 'none';\n",
              "    })();\n",
              "  </script>\n",
              "</div>\n",
              "\n",
              "  <div id=\"id_dc155ac3-3d4f-4375-b784-5e670c5e9f75\">\n",
              "    <style>\n",
              "      .colab-df-generate {\n",
              "        background-color: #E8F0FE;\n",
              "        border: none;\n",
              "        border-radius: 50%;\n",
              "        cursor: pointer;\n",
              "        display: none;\n",
              "        fill: #1967D2;\n",
              "        height: 32px;\n",
              "        padding: 0 0 0 0;\n",
              "        width: 32px;\n",
              "      }\n",
              "\n",
              "      .colab-df-generate:hover {\n",
              "        background-color: #E2EBFA;\n",
              "        box-shadow: 0px 1px 2px rgba(60, 64, 67, 0.3), 0px 1px 3px 1px rgba(60, 64, 67, 0.15);\n",
              "        fill: #174EA6;\n",
              "      }\n",
              "\n",
              "      [theme=dark] .colab-df-generate {\n",
              "        background-color: #3B4455;\n",
              "        fill: #D2E3FC;\n",
              "      }\n",
              "\n",
              "      [theme=dark] .colab-df-generate:hover {\n",
              "        background-color: #434B5C;\n",
              "        box-shadow: 0px 1px 3px 1px rgba(0, 0, 0, 0.15);\n",
              "        filter: drop-shadow(0px 1px 2px rgba(0, 0, 0, 0.3));\n",
              "        fill: #FFFFFF;\n",
              "      }\n",
              "    </style>\n",
              "    <button class=\"colab-df-generate\" onclick=\"generateWithVariable('df_filtered')\"\n",
              "            title=\"Generate code using this dataframe.\"\n",
              "            style=\"display:none;\">\n",
              "\n",
              "  <svg xmlns=\"http://www.w3.org/2000/svg\" height=\"24px\"viewBox=\"0 0 24 24\"\n",
              "       width=\"24px\">\n",
              "    <path d=\"M7,19H8.4L18.45,9,17,7.55,7,17.6ZM5,21V16.75L18.45,3.32a2,2,0,0,1,2.83,0l1.4,1.43a1.91,1.91,0,0,1,.58,1.4,1.91,1.91,0,0,1-.58,1.4L9.25,21ZM18.45,9,17,7.55Zm-12,3A5.31,5.31,0,0,0,4.9,8.1,5.31,5.31,0,0,0,1,6.5,5.31,5.31,0,0,0,4.9,4.9,5.31,5.31,0,0,0,6.5,1,5.31,5.31,0,0,0,8.1,4.9,5.31,5.31,0,0,0,12,6.5,5.46,5.46,0,0,0,6.5,12Z\"/>\n",
              "  </svg>\n",
              "    </button>\n",
              "    <script>\n",
              "      (() => {\n",
              "      const buttonEl =\n",
              "        document.querySelector('#id_dc155ac3-3d4f-4375-b784-5e670c5e9f75 button.colab-df-generate');\n",
              "      buttonEl.style.display =\n",
              "        google.colab.kernel.accessAllowed ? 'block' : 'none';\n",
              "\n",
              "      buttonEl.onclick = () => {\n",
              "        google.colab.notebook.generateWithVariable('df_filtered');\n",
              "      }\n",
              "      })();\n",
              "    </script>\n",
              "  </div>\n",
              "\n",
              "    </div>\n",
              "  </div>\n"
            ],
            "application/vnd.google.colaboratory.intrinsic+json": {
              "type": "dataframe",
              "variable_name": "df_filtered",
              "summary": "{\n  \"name\": \"df_filtered\",\n  \"rows\": 27,\n  \"fields\": [\n    {\n      \"column\": \"Equipo\",\n      \"properties\": {\n        \"dtype\": \"string\",\n        \"num_unique_values\": 16,\n        \"samples\": [\n          \"Tigre\",\n          \"Independiente\",\n          \"Central Cba (SdE)\"\n        ],\n        \"semantic_type\": \"\",\n        \"description\": \"\"\n      }\n    },\n    {\n      \"column\": \"Puesto\",\n      \"properties\": {\n        \"dtype\": \"category\",\n        \"num_unique_values\": 4,\n        \"samples\": [\n          \"DEL\",\n          \"ARQ\",\n          \"MED\"\n        ],\n        \"semantic_type\": \"\",\n        \"description\": \"\"\n      }\n    },\n    {\n      \"column\": \"Jugador\",\n      \"properties\": {\n        \"dtype\": \"string\",\n        \"num_unique_values\": 27,\n        \"samples\": [\n          \"Ignacio Maestro Puch\",\n          \"Lucas Janson\",\n          \"Ignacio Schor\"\n        ],\n        \"semantic_type\": \"\",\n        \"description\": \"\"\n      }\n    },\n    {\n      \"column\": \"Edad\",\n      \"properties\": {\n        \"dtype\": \"number\",\n        \"std\": 4,\n        \"min\": 19,\n        \"max\": 37,\n        \"num_unique_values\": 15,\n        \"samples\": [\n          34,\n          28,\n          22\n        ],\n        \"semantic_type\": \"\",\n        \"description\": \"\"\n      }\n    },\n    {\n      \"column\": \"Nacimiento\",\n      \"properties\": {\n        \"dtype\": \"object\",\n        \"num_unique_values\": 27,\n        \"samples\": [\n          \"8/13/2003\",\n          \"8/16/1994\",\n          \"8/4/2000\"\n        ],\n        \"semantic_type\": \"\",\n        \"description\": \"\"\n      }\n    },\n    {\n      \"column\": \"dia_mes\",\n      \"properties\": {\n        \"dtype\": \"string\",\n        \"num_unique_values\": 16,\n        \"samples\": [\n          \"02-ago\",\n          \"18-ago\",\n          \"10-ago\"\n        ],\n        \"semantic_type\": \"\",\n        \"description\": \"\"\n      }\n    },\n    {\n      \"column\": \"nro_mes\",\n      \"properties\": {\n        \"dtype\": \"number\",\n        \"std\": 0,\n        \"min\": 8,\n        \"max\": 8,\n        \"num_unique_values\": 1,\n        \"samples\": [\n          8\n        ],\n        \"semantic_type\": \"\",\n        \"description\": \"\"\n      }\n    },\n    {\n      \"column\": \"a\\u00f1o\",\n      \"properties\": {\n        \"dtype\": \"number\",\n        \"std\": 4,\n        \"min\": 1985,\n        \"max\": 2003,\n        \"num_unique_values\": 15,\n        \"samples\": [\n          1988\n        ],\n        \"semantic_type\": \"\",\n        \"description\": \"\"\n      }\n    },\n    {\n      \"column\": \"Altura_cm\",\n      \"properties\": {\n        \"dtype\": \"number\",\n        \"std\": 5.935071290647756,\n        \"min\": 170.0,\n        \"max\": 190.0,\n        \"num_unique_values\": 16,\n        \"samples\": [\n          175.0\n        ],\n        \"semantic_type\": \"\",\n        \"description\": \"\"\n      }\n    },\n    {\n      \"column\": \"Ciudad_nac\",\n      \"properties\": {\n        \"dtype\": \"string\",\n        \"num_unique_values\": 15,\n        \"samples\": [\n          \"Grand Bourg\"\n        ],\n        \"semantic_type\": \"\",\n        \"description\": \"\"\n      }\n    },\n    {\n      \"column\": \"Pais_nac\",\n      \"properties\": {\n        \"dtype\": \"category\",\n        \"num_unique_values\": 1,\n        \"samples\": [\n          \"Argentina\"\n        ],\n        \"semantic_type\": \"\",\n        \"description\": \"\"\n      }\n    },\n    {\n      \"column\": \"Altura_log\",\n      \"properties\": {\n        \"dtype\": \"number\",\n        \"std\": 0.03315348678366484,\n        \"min\": 5.135798437050262,\n        \"max\": 5.247024072160486,\n        \"num_unique_values\": 16,\n        \"samples\": [\n          5.1647859739235145\n        ],\n        \"semantic_type\": \"\",\n        \"description\": \"\"\n      }\n    }\n  ]\n}"
            }
          },
          "metadata": {}
        }
      ],
      "source": [
        "# Como hacemos un filtro un poco mas complicado?\n",
        "\n",
        "# Elijamos las personas que nacieron en Agosto, en Argentina y su altura es mayor que 150 cm\n",
        "\n",
        "df_filtered = df[(df['nro_mes'] == 8) & (df['Altura_cm'] > 150) & (df['Pais_nac'] == 'Argentina')]\n",
        "\n",
        "display(df_filtered)"
      ]
    },
    {
      "cell_type": "code",
      "execution_count": null,
      "metadata": {
        "id": "sextO4P4y6i4",
        "colab": {
          "base_uri": "https://localhost:8080/",
          "height": 896
        },
        "outputId": "2c8c3d1e-0a88-4c4b-8aed-ebc283c35474"
      },
      "outputs": [
        {
          "output_type": "display_data",
          "data": {
            "text/plain": [
              "                Equipo Puesto               Jugador  Edad Nacimiento  \\\n",
              "0                Tigre    MED         Aaron Molinas    22   8/2/2000   \n",
              "67       Independiente    DEL       Braian Martínez    23  8/18/1999   \n",
              "146           Belgrano    DEF            Erik Godoy    29  8/16/1993   \n",
              "202           Platense    MED           Franco Diaz    22  8/28/2000   \n",
              "219           Belgrano    MED   Gabriel Compagnucci    31  8/29/1991   \n",
              "246     Def y Justicia    MED    Gonzalo Castellani    35  8/10/1987   \n",
              "248  Central Cba (SdE)    DEF          Gonzalo Goñi    24  8/16/1998   \n",
              "265            Newells    DEF       Guillermo Ortíz    30   8/9/1992   \n",
              "279        Atl Tucuman    MED  Ignacio Maestro Puch    19  8/13/2003   \n",
              "282           Platense    MED         Ignacio Schor    22   8/4/2000   \n",
              "343    Rosario Central    DEF       Juan Cruz Komar    26  8/13/1996   \n",
              "368       Talleres (C)    DEF       Julio Buffarini    34  8/18/1988   \n",
              "410            Huracan    ARQ          Lucas Chaves    27   8/9/1995   \n",
              "416              Velez    DEL          Lucas Janson    28  8/16/1994   \n",
              "424         Argentinos    DEF        Lucas Villalba    28  8/19/1994   \n",
              "442           Belgrano    ARQ      Manuel Vicentini    32  8/29/1990   \n",
              "459              Tigre    DEF         Martín Ortega    23  8/20/1999   \n",
              "467       Talleres (C)    DEF        Matías Catalán    30  8/19/1992   \n",
              "487  Central Cba (SdE)    MED          Mauro Pittón    28   8/8/1994   \n",
              "502         Argentinos    DEF         Miguel Torrén    34  8/12/1988   \n",
              "504           Banfield    DEL        Milton Gimenez    26  8/12/1996   \n",
              "545            Newells    MED           Pablo Pérez    37  8/10/1985   \n",
              "571         Argentinos    DEL        Rodrigo Cabral    22   8/8/2000   \n",
              "590          Instituto    DEL    Santiago Rodríguez    25  8/23/1997   \n",
              "598              Union    ARQ      Sebastián Moyano    32  8/26/1990   \n",
              "629            Huracan    MED       Valentín Burgoa    22  8/16/2000   \n",
              "635              Velez    DEL            Walter Bou    29  8/25/1993   \n",
              "\n",
              "                dia_mes  nro_mes   año  Altura_cm             Ciudad_nac  \\\n",
              "0    Esto es una prueba        8  2000      175.0                    NaN   \n",
              "67               18-ago        8  1999      170.0                    NaN   \n",
              "146              16-ago        8  1993      185.0           Buenos Aires   \n",
              "202              28-ago        8  2000      180.0                    NaN   \n",
              "219              29-ago        8  1991      178.0             Monte Buey   \n",
              "246              10-ago        8  1987      183.0           Buenos Aires   \n",
              "248              16-ago        8  1998      187.0             Pedro Luro   \n",
              "265              09-ago        8  1992      183.0                Rosario   \n",
              "279              13-ago        8  2003      180.0  San Miguel de Tucuman   \n",
              "282              04-ago        8  2000      183.0           Buenos Aires   \n",
              "343              13-ago        8  1996      190.0                Rosario   \n",
              "368              18-ago        8  1988      172.0          Gral. Cabrera   \n",
              "410              09-ago        8  1995      179.0        Martín Coronado   \n",
              "416              16-ago        8  1994      171.0                    NaN   \n",
              "424              19-ago        8  1994      177.0                    NaN   \n",
              "442              29-ago        8  1990      187.0               Santa Fé   \n",
              "459              20-ago        8  1999      183.0                    NaN   \n",
              "467              19-ago        8  1992      172.0          Mar del Plata   \n",
              "487              08-ago        8  1994      174.0                    NaN   \n",
              "502              12-ago        8  1988      179.0               Santa Fé   \n",
              "504              12-ago        8  1996      184.0            Grand Bourg   \n",
              "545              10-ago        8  1985      179.0                Rosario   \n",
              "571              08-ago        8  2000      170.0               Mercedes   \n",
              "590              23-ago        8  1997      171.0               San Luis   \n",
              "598              26-ago        8  1990      188.0                Mendoza   \n",
              "629              16-ago        8  2000      175.0             Guaymallén   \n",
              "635              25-ago        8  1993      176.0              Concordia   \n",
              "\n",
              "      Pais_nac  Altura_log  \n",
              "0    Argentina    5.164786  \n",
              "67   Argentina    5.135798  \n",
              "146  Argentina    5.220356  \n",
              "202  Argentina    5.192957  \n",
              "219  Argentina    5.181784  \n",
              "246  Argentina    5.209486  \n",
              "248  Argentina    5.231109  \n",
              "265  Argentina    5.209486  \n",
              "279  Argentina    5.192957  \n",
              "282  Argentina    5.209486  \n",
              "343  Argentina    5.247024  \n",
              "368  Argentina    5.147494  \n",
              "410  Argentina    5.187386  \n",
              "416  Argentina    5.141664  \n",
              "424  Argentina    5.176150  \n",
              "442  Argentina    5.231109  \n",
              "459  Argentina    5.209486  \n",
              "467  Argentina    5.147494  \n",
              "487  Argentina    5.159055  \n",
              "502  Argentina    5.187386  \n",
              "504  Argentina    5.214936  \n",
              "545  Argentina    5.187386  \n",
              "571  Argentina    5.135798  \n",
              "590  Argentina    5.141664  \n",
              "598  Argentina    5.236442  \n",
              "629  Argentina    5.164786  \n",
              "635  Argentina    5.170484  "
            ],
            "text/html": [
              "\n",
              "  <div id=\"df-312a161b-ccfc-4861-b3b5-147170769996\" class=\"colab-df-container\">\n",
              "    <div>\n",
              "<style scoped>\n",
              "    .dataframe tbody tr th:only-of-type {\n",
              "        vertical-align: middle;\n",
              "    }\n",
              "\n",
              "    .dataframe tbody tr th {\n",
              "        vertical-align: top;\n",
              "    }\n",
              "\n",
              "    .dataframe thead th {\n",
              "        text-align: right;\n",
              "    }\n",
              "</style>\n",
              "<table border=\"1\" class=\"dataframe\">\n",
              "  <thead>\n",
              "    <tr style=\"text-align: right;\">\n",
              "      <th></th>\n",
              "      <th>Equipo</th>\n",
              "      <th>Puesto</th>\n",
              "      <th>Jugador</th>\n",
              "      <th>Edad</th>\n",
              "      <th>Nacimiento</th>\n",
              "      <th>dia_mes</th>\n",
              "      <th>nro_mes</th>\n",
              "      <th>año</th>\n",
              "      <th>Altura_cm</th>\n",
              "      <th>Ciudad_nac</th>\n",
              "      <th>Pais_nac</th>\n",
              "      <th>Altura_log</th>\n",
              "    </tr>\n",
              "  </thead>\n",
              "  <tbody>\n",
              "    <tr>\n",
              "      <th>0</th>\n",
              "      <td>Tigre</td>\n",
              "      <td>MED</td>\n",
              "      <td>Aaron Molinas</td>\n",
              "      <td>22</td>\n",
              "      <td>8/2/2000</td>\n",
              "      <td>Esto es una prueba</td>\n",
              "      <td>8</td>\n",
              "      <td>2000</td>\n",
              "      <td>175.0</td>\n",
              "      <td>NaN</td>\n",
              "      <td>Argentina</td>\n",
              "      <td>5.164786</td>\n",
              "    </tr>\n",
              "    <tr>\n",
              "      <th>67</th>\n",
              "      <td>Independiente</td>\n",
              "      <td>DEL</td>\n",
              "      <td>Braian Martínez</td>\n",
              "      <td>23</td>\n",
              "      <td>8/18/1999</td>\n",
              "      <td>18-ago</td>\n",
              "      <td>8</td>\n",
              "      <td>1999</td>\n",
              "      <td>170.0</td>\n",
              "      <td>NaN</td>\n",
              "      <td>Argentina</td>\n",
              "      <td>5.135798</td>\n",
              "    </tr>\n",
              "    <tr>\n",
              "      <th>146</th>\n",
              "      <td>Belgrano</td>\n",
              "      <td>DEF</td>\n",
              "      <td>Erik Godoy</td>\n",
              "      <td>29</td>\n",
              "      <td>8/16/1993</td>\n",
              "      <td>16-ago</td>\n",
              "      <td>8</td>\n",
              "      <td>1993</td>\n",
              "      <td>185.0</td>\n",
              "      <td>Buenos Aires</td>\n",
              "      <td>Argentina</td>\n",
              "      <td>5.220356</td>\n",
              "    </tr>\n",
              "    <tr>\n",
              "      <th>202</th>\n",
              "      <td>Platense</td>\n",
              "      <td>MED</td>\n",
              "      <td>Franco Diaz</td>\n",
              "      <td>22</td>\n",
              "      <td>8/28/2000</td>\n",
              "      <td>28-ago</td>\n",
              "      <td>8</td>\n",
              "      <td>2000</td>\n",
              "      <td>180.0</td>\n",
              "      <td>NaN</td>\n",
              "      <td>Argentina</td>\n",
              "      <td>5.192957</td>\n",
              "    </tr>\n",
              "    <tr>\n",
              "      <th>219</th>\n",
              "      <td>Belgrano</td>\n",
              "      <td>MED</td>\n",
              "      <td>Gabriel Compagnucci</td>\n",
              "      <td>31</td>\n",
              "      <td>8/29/1991</td>\n",
              "      <td>29-ago</td>\n",
              "      <td>8</td>\n",
              "      <td>1991</td>\n",
              "      <td>178.0</td>\n",
              "      <td>Monte Buey</td>\n",
              "      <td>Argentina</td>\n",
              "      <td>5.181784</td>\n",
              "    </tr>\n",
              "    <tr>\n",
              "      <th>246</th>\n",
              "      <td>Def y Justicia</td>\n",
              "      <td>MED</td>\n",
              "      <td>Gonzalo Castellani</td>\n",
              "      <td>35</td>\n",
              "      <td>8/10/1987</td>\n",
              "      <td>10-ago</td>\n",
              "      <td>8</td>\n",
              "      <td>1987</td>\n",
              "      <td>183.0</td>\n",
              "      <td>Buenos Aires</td>\n",
              "      <td>Argentina</td>\n",
              "      <td>5.209486</td>\n",
              "    </tr>\n",
              "    <tr>\n",
              "      <th>248</th>\n",
              "      <td>Central Cba (SdE)</td>\n",
              "      <td>DEF</td>\n",
              "      <td>Gonzalo Goñi</td>\n",
              "      <td>24</td>\n",
              "      <td>8/16/1998</td>\n",
              "      <td>16-ago</td>\n",
              "      <td>8</td>\n",
              "      <td>1998</td>\n",
              "      <td>187.0</td>\n",
              "      <td>Pedro Luro</td>\n",
              "      <td>Argentina</td>\n",
              "      <td>5.231109</td>\n",
              "    </tr>\n",
              "    <tr>\n",
              "      <th>265</th>\n",
              "      <td>Newells</td>\n",
              "      <td>DEF</td>\n",
              "      <td>Guillermo Ortíz</td>\n",
              "      <td>30</td>\n",
              "      <td>8/9/1992</td>\n",
              "      <td>09-ago</td>\n",
              "      <td>8</td>\n",
              "      <td>1992</td>\n",
              "      <td>183.0</td>\n",
              "      <td>Rosario</td>\n",
              "      <td>Argentina</td>\n",
              "      <td>5.209486</td>\n",
              "    </tr>\n",
              "    <tr>\n",
              "      <th>279</th>\n",
              "      <td>Atl Tucuman</td>\n",
              "      <td>MED</td>\n",
              "      <td>Ignacio Maestro Puch</td>\n",
              "      <td>19</td>\n",
              "      <td>8/13/2003</td>\n",
              "      <td>13-ago</td>\n",
              "      <td>8</td>\n",
              "      <td>2003</td>\n",
              "      <td>180.0</td>\n",
              "      <td>San Miguel de Tucuman</td>\n",
              "      <td>Argentina</td>\n",
              "      <td>5.192957</td>\n",
              "    </tr>\n",
              "    <tr>\n",
              "      <th>282</th>\n",
              "      <td>Platense</td>\n",
              "      <td>MED</td>\n",
              "      <td>Ignacio Schor</td>\n",
              "      <td>22</td>\n",
              "      <td>8/4/2000</td>\n",
              "      <td>04-ago</td>\n",
              "      <td>8</td>\n",
              "      <td>2000</td>\n",
              "      <td>183.0</td>\n",
              "      <td>Buenos Aires</td>\n",
              "      <td>Argentina</td>\n",
              "      <td>5.209486</td>\n",
              "    </tr>\n",
              "    <tr>\n",
              "      <th>343</th>\n",
              "      <td>Rosario Central</td>\n",
              "      <td>DEF</td>\n",
              "      <td>Juan Cruz Komar</td>\n",
              "      <td>26</td>\n",
              "      <td>8/13/1996</td>\n",
              "      <td>13-ago</td>\n",
              "      <td>8</td>\n",
              "      <td>1996</td>\n",
              "      <td>190.0</td>\n",
              "      <td>Rosario</td>\n",
              "      <td>Argentina</td>\n",
              "      <td>5.247024</td>\n",
              "    </tr>\n",
              "    <tr>\n",
              "      <th>368</th>\n",
              "      <td>Talleres (C)</td>\n",
              "      <td>DEF</td>\n",
              "      <td>Julio Buffarini</td>\n",
              "      <td>34</td>\n",
              "      <td>8/18/1988</td>\n",
              "      <td>18-ago</td>\n",
              "      <td>8</td>\n",
              "      <td>1988</td>\n",
              "      <td>172.0</td>\n",
              "      <td>Gral. Cabrera</td>\n",
              "      <td>Argentina</td>\n",
              "      <td>5.147494</td>\n",
              "    </tr>\n",
              "    <tr>\n",
              "      <th>410</th>\n",
              "      <td>Huracan</td>\n",
              "      <td>ARQ</td>\n",
              "      <td>Lucas Chaves</td>\n",
              "      <td>27</td>\n",
              "      <td>8/9/1995</td>\n",
              "      <td>09-ago</td>\n",
              "      <td>8</td>\n",
              "      <td>1995</td>\n",
              "      <td>179.0</td>\n",
              "      <td>Martín Coronado</td>\n",
              "      <td>Argentina</td>\n",
              "      <td>5.187386</td>\n",
              "    </tr>\n",
              "    <tr>\n",
              "      <th>416</th>\n",
              "      <td>Velez</td>\n",
              "      <td>DEL</td>\n",
              "      <td>Lucas Janson</td>\n",
              "      <td>28</td>\n",
              "      <td>8/16/1994</td>\n",
              "      <td>16-ago</td>\n",
              "      <td>8</td>\n",
              "      <td>1994</td>\n",
              "      <td>171.0</td>\n",
              "      <td>NaN</td>\n",
              "      <td>Argentina</td>\n",
              "      <td>5.141664</td>\n",
              "    </tr>\n",
              "    <tr>\n",
              "      <th>424</th>\n",
              "      <td>Argentinos</td>\n",
              "      <td>DEF</td>\n",
              "      <td>Lucas Villalba</td>\n",
              "      <td>28</td>\n",
              "      <td>8/19/1994</td>\n",
              "      <td>19-ago</td>\n",
              "      <td>8</td>\n",
              "      <td>1994</td>\n",
              "      <td>177.0</td>\n",
              "      <td>NaN</td>\n",
              "      <td>Argentina</td>\n",
              "      <td>5.176150</td>\n",
              "    </tr>\n",
              "    <tr>\n",
              "      <th>442</th>\n",
              "      <td>Belgrano</td>\n",
              "      <td>ARQ</td>\n",
              "      <td>Manuel Vicentini</td>\n",
              "      <td>32</td>\n",
              "      <td>8/29/1990</td>\n",
              "      <td>29-ago</td>\n",
              "      <td>8</td>\n",
              "      <td>1990</td>\n",
              "      <td>187.0</td>\n",
              "      <td>Santa Fé</td>\n",
              "      <td>Argentina</td>\n",
              "      <td>5.231109</td>\n",
              "    </tr>\n",
              "    <tr>\n",
              "      <th>459</th>\n",
              "      <td>Tigre</td>\n",
              "      <td>DEF</td>\n",
              "      <td>Martín Ortega</td>\n",
              "      <td>23</td>\n",
              "      <td>8/20/1999</td>\n",
              "      <td>20-ago</td>\n",
              "      <td>8</td>\n",
              "      <td>1999</td>\n",
              "      <td>183.0</td>\n",
              "      <td>NaN</td>\n",
              "      <td>Argentina</td>\n",
              "      <td>5.209486</td>\n",
              "    </tr>\n",
              "    <tr>\n",
              "      <th>467</th>\n",
              "      <td>Talleres (C)</td>\n",
              "      <td>DEF</td>\n",
              "      <td>Matías Catalán</td>\n",
              "      <td>30</td>\n",
              "      <td>8/19/1992</td>\n",
              "      <td>19-ago</td>\n",
              "      <td>8</td>\n",
              "      <td>1992</td>\n",
              "      <td>172.0</td>\n",
              "      <td>Mar del Plata</td>\n",
              "      <td>Argentina</td>\n",
              "      <td>5.147494</td>\n",
              "    </tr>\n",
              "    <tr>\n",
              "      <th>487</th>\n",
              "      <td>Central Cba (SdE)</td>\n",
              "      <td>MED</td>\n",
              "      <td>Mauro Pittón</td>\n",
              "      <td>28</td>\n",
              "      <td>8/8/1994</td>\n",
              "      <td>08-ago</td>\n",
              "      <td>8</td>\n",
              "      <td>1994</td>\n",
              "      <td>174.0</td>\n",
              "      <td>NaN</td>\n",
              "      <td>Argentina</td>\n",
              "      <td>5.159055</td>\n",
              "    </tr>\n",
              "    <tr>\n",
              "      <th>502</th>\n",
              "      <td>Argentinos</td>\n",
              "      <td>DEF</td>\n",
              "      <td>Miguel Torrén</td>\n",
              "      <td>34</td>\n",
              "      <td>8/12/1988</td>\n",
              "      <td>12-ago</td>\n",
              "      <td>8</td>\n",
              "      <td>1988</td>\n",
              "      <td>179.0</td>\n",
              "      <td>Santa Fé</td>\n",
              "      <td>Argentina</td>\n",
              "      <td>5.187386</td>\n",
              "    </tr>\n",
              "    <tr>\n",
              "      <th>504</th>\n",
              "      <td>Banfield</td>\n",
              "      <td>DEL</td>\n",
              "      <td>Milton Gimenez</td>\n",
              "      <td>26</td>\n",
              "      <td>8/12/1996</td>\n",
              "      <td>12-ago</td>\n",
              "      <td>8</td>\n",
              "      <td>1996</td>\n",
              "      <td>184.0</td>\n",
              "      <td>Grand Bourg</td>\n",
              "      <td>Argentina</td>\n",
              "      <td>5.214936</td>\n",
              "    </tr>\n",
              "    <tr>\n",
              "      <th>545</th>\n",
              "      <td>Newells</td>\n",
              "      <td>MED</td>\n",
              "      <td>Pablo Pérez</td>\n",
              "      <td>37</td>\n",
              "      <td>8/10/1985</td>\n",
              "      <td>10-ago</td>\n",
              "      <td>8</td>\n",
              "      <td>1985</td>\n",
              "      <td>179.0</td>\n",
              "      <td>Rosario</td>\n",
              "      <td>Argentina</td>\n",
              "      <td>5.187386</td>\n",
              "    </tr>\n",
              "    <tr>\n",
              "      <th>571</th>\n",
              "      <td>Argentinos</td>\n",
              "      <td>DEL</td>\n",
              "      <td>Rodrigo Cabral</td>\n",
              "      <td>22</td>\n",
              "      <td>8/8/2000</td>\n",
              "      <td>08-ago</td>\n",
              "      <td>8</td>\n",
              "      <td>2000</td>\n",
              "      <td>170.0</td>\n",
              "      <td>Mercedes</td>\n",
              "      <td>Argentina</td>\n",
              "      <td>5.135798</td>\n",
              "    </tr>\n",
              "    <tr>\n",
              "      <th>590</th>\n",
              "      <td>Instituto</td>\n",
              "      <td>DEL</td>\n",
              "      <td>Santiago Rodríguez</td>\n",
              "      <td>25</td>\n",
              "      <td>8/23/1997</td>\n",
              "      <td>23-ago</td>\n",
              "      <td>8</td>\n",
              "      <td>1997</td>\n",
              "      <td>171.0</td>\n",
              "      <td>San Luis</td>\n",
              "      <td>Argentina</td>\n",
              "      <td>5.141664</td>\n",
              "    </tr>\n",
              "    <tr>\n",
              "      <th>598</th>\n",
              "      <td>Union</td>\n",
              "      <td>ARQ</td>\n",
              "      <td>Sebastián Moyano</td>\n",
              "      <td>32</td>\n",
              "      <td>8/26/1990</td>\n",
              "      <td>26-ago</td>\n",
              "      <td>8</td>\n",
              "      <td>1990</td>\n",
              "      <td>188.0</td>\n",
              "      <td>Mendoza</td>\n",
              "      <td>Argentina</td>\n",
              "      <td>5.236442</td>\n",
              "    </tr>\n",
              "    <tr>\n",
              "      <th>629</th>\n",
              "      <td>Huracan</td>\n",
              "      <td>MED</td>\n",
              "      <td>Valentín Burgoa</td>\n",
              "      <td>22</td>\n",
              "      <td>8/16/2000</td>\n",
              "      <td>16-ago</td>\n",
              "      <td>8</td>\n",
              "      <td>2000</td>\n",
              "      <td>175.0</td>\n",
              "      <td>Guaymallén</td>\n",
              "      <td>Argentina</td>\n",
              "      <td>5.164786</td>\n",
              "    </tr>\n",
              "    <tr>\n",
              "      <th>635</th>\n",
              "      <td>Velez</td>\n",
              "      <td>DEL</td>\n",
              "      <td>Walter Bou</td>\n",
              "      <td>29</td>\n",
              "      <td>8/25/1993</td>\n",
              "      <td>25-ago</td>\n",
              "      <td>8</td>\n",
              "      <td>1993</td>\n",
              "      <td>176.0</td>\n",
              "      <td>Concordia</td>\n",
              "      <td>Argentina</td>\n",
              "      <td>5.170484</td>\n",
              "    </tr>\n",
              "  </tbody>\n",
              "</table>\n",
              "</div>\n",
              "    <div class=\"colab-df-buttons\">\n",
              "\n",
              "  <div class=\"colab-df-container\">\n",
              "    <button class=\"colab-df-convert\" onclick=\"convertToInteractive('df-312a161b-ccfc-4861-b3b5-147170769996')\"\n",
              "            title=\"Convert this dataframe to an interactive table.\"\n",
              "            style=\"display:none;\">\n",
              "\n",
              "  <svg xmlns=\"http://www.w3.org/2000/svg\" height=\"24px\" viewBox=\"0 -960 960 960\">\n",
              "    <path d=\"M120-120v-720h720v720H120Zm60-500h600v-160H180v160Zm220 220h160v-160H400v160Zm0 220h160v-160H400v160ZM180-400h160v-160H180v160Zm440 0h160v-160H620v160ZM180-180h160v-160H180v160Zm440 0h160v-160H620v160Z\"/>\n",
              "  </svg>\n",
              "    </button>\n",
              "\n",
              "  <style>\n",
              "    .colab-df-container {\n",
              "      display:flex;\n",
              "      gap: 12px;\n",
              "    }\n",
              "\n",
              "    .colab-df-convert {\n",
              "      background-color: #E8F0FE;\n",
              "      border: none;\n",
              "      border-radius: 50%;\n",
              "      cursor: pointer;\n",
              "      display: none;\n",
              "      fill: #1967D2;\n",
              "      height: 32px;\n",
              "      padding: 0 0 0 0;\n",
              "      width: 32px;\n",
              "    }\n",
              "\n",
              "    .colab-df-convert:hover {\n",
              "      background-color: #E2EBFA;\n",
              "      box-shadow: 0px 1px 2px rgba(60, 64, 67, 0.3), 0px 1px 3px 1px rgba(60, 64, 67, 0.15);\n",
              "      fill: #174EA6;\n",
              "    }\n",
              "\n",
              "    .colab-df-buttons div {\n",
              "      margin-bottom: 4px;\n",
              "    }\n",
              "\n",
              "    [theme=dark] .colab-df-convert {\n",
              "      background-color: #3B4455;\n",
              "      fill: #D2E3FC;\n",
              "    }\n",
              "\n",
              "    [theme=dark] .colab-df-convert:hover {\n",
              "      background-color: #434B5C;\n",
              "      box-shadow: 0px 1px 3px 1px rgba(0, 0, 0, 0.15);\n",
              "      filter: drop-shadow(0px 1px 2px rgba(0, 0, 0, 0.3));\n",
              "      fill: #FFFFFF;\n",
              "    }\n",
              "  </style>\n",
              "\n",
              "    <script>\n",
              "      const buttonEl =\n",
              "        document.querySelector('#df-312a161b-ccfc-4861-b3b5-147170769996 button.colab-df-convert');\n",
              "      buttonEl.style.display =\n",
              "        google.colab.kernel.accessAllowed ? 'block' : 'none';\n",
              "\n",
              "      async function convertToInteractive(key) {\n",
              "        const element = document.querySelector('#df-312a161b-ccfc-4861-b3b5-147170769996');\n",
              "        const dataTable =\n",
              "          await google.colab.kernel.invokeFunction('convertToInteractive',\n",
              "                                                    [key], {});\n",
              "        if (!dataTable) return;\n",
              "\n",
              "        const docLinkHtml = 'Like what you see? Visit the ' +\n",
              "          '<a target=\"_blank\" href=https://colab.research.google.com/notebooks/data_table.ipynb>data table notebook</a>'\n",
              "          + ' to learn more about interactive tables.';\n",
              "        element.innerHTML = '';\n",
              "        dataTable['output_type'] = 'display_data';\n",
              "        await google.colab.output.renderOutput(dataTable, element);\n",
              "        const docLink = document.createElement('div');\n",
              "        docLink.innerHTML = docLinkHtml;\n",
              "        element.appendChild(docLink);\n",
              "      }\n",
              "    </script>\n",
              "  </div>\n",
              "\n",
              "\n",
              "<div id=\"df-68bbb508-5cc5-4773-bcb4-510521259123\">\n",
              "  <button class=\"colab-df-quickchart\" onclick=\"quickchart('df-68bbb508-5cc5-4773-bcb4-510521259123')\"\n",
              "            title=\"Suggest charts\"\n",
              "            style=\"display:none;\">\n",
              "\n",
              "<svg xmlns=\"http://www.w3.org/2000/svg\" height=\"24px\"viewBox=\"0 0 24 24\"\n",
              "     width=\"24px\">\n",
              "    <g>\n",
              "        <path d=\"M19 3H5c-1.1 0-2 .9-2 2v14c0 1.1.9 2 2 2h14c1.1 0 2-.9 2-2V5c0-1.1-.9-2-2-2zM9 17H7v-7h2v7zm4 0h-2V7h2v10zm4 0h-2v-4h2v4z\"/>\n",
              "    </g>\n",
              "</svg>\n",
              "  </button>\n",
              "\n",
              "<style>\n",
              "  .colab-df-quickchart {\n",
              "      --bg-color: #E8F0FE;\n",
              "      --fill-color: #1967D2;\n",
              "      --hover-bg-color: #E2EBFA;\n",
              "      --hover-fill-color: #174EA6;\n",
              "      --disabled-fill-color: #AAA;\n",
              "      --disabled-bg-color: #DDD;\n",
              "  }\n",
              "\n",
              "  [theme=dark] .colab-df-quickchart {\n",
              "      --bg-color: #3B4455;\n",
              "      --fill-color: #D2E3FC;\n",
              "      --hover-bg-color: #434B5C;\n",
              "      --hover-fill-color: #FFFFFF;\n",
              "      --disabled-bg-color: #3B4455;\n",
              "      --disabled-fill-color: #666;\n",
              "  }\n",
              "\n",
              "  .colab-df-quickchart {\n",
              "    background-color: var(--bg-color);\n",
              "    border: none;\n",
              "    border-radius: 50%;\n",
              "    cursor: pointer;\n",
              "    display: none;\n",
              "    fill: var(--fill-color);\n",
              "    height: 32px;\n",
              "    padding: 0;\n",
              "    width: 32px;\n",
              "  }\n",
              "\n",
              "  .colab-df-quickchart:hover {\n",
              "    background-color: var(--hover-bg-color);\n",
              "    box-shadow: 0 1px 2px rgba(60, 64, 67, 0.3), 0 1px 3px 1px rgba(60, 64, 67, 0.15);\n",
              "    fill: var(--button-hover-fill-color);\n",
              "  }\n",
              "\n",
              "  .colab-df-quickchart-complete:disabled,\n",
              "  .colab-df-quickchart-complete:disabled:hover {\n",
              "    background-color: var(--disabled-bg-color);\n",
              "    fill: var(--disabled-fill-color);\n",
              "    box-shadow: none;\n",
              "  }\n",
              "\n",
              "  .colab-df-spinner {\n",
              "    border: 2px solid var(--fill-color);\n",
              "    border-color: transparent;\n",
              "    border-bottom-color: var(--fill-color);\n",
              "    animation:\n",
              "      spin 1s steps(1) infinite;\n",
              "  }\n",
              "\n",
              "  @keyframes spin {\n",
              "    0% {\n",
              "      border-color: transparent;\n",
              "      border-bottom-color: var(--fill-color);\n",
              "      border-left-color: var(--fill-color);\n",
              "    }\n",
              "    20% {\n",
              "      border-color: transparent;\n",
              "      border-left-color: var(--fill-color);\n",
              "      border-top-color: var(--fill-color);\n",
              "    }\n",
              "    30% {\n",
              "      border-color: transparent;\n",
              "      border-left-color: var(--fill-color);\n",
              "      border-top-color: var(--fill-color);\n",
              "      border-right-color: var(--fill-color);\n",
              "    }\n",
              "    40% {\n",
              "      border-color: transparent;\n",
              "      border-right-color: var(--fill-color);\n",
              "      border-top-color: var(--fill-color);\n",
              "    }\n",
              "    60% {\n",
              "      border-color: transparent;\n",
              "      border-right-color: var(--fill-color);\n",
              "    }\n",
              "    80% {\n",
              "      border-color: transparent;\n",
              "      border-right-color: var(--fill-color);\n",
              "      border-bottom-color: var(--fill-color);\n",
              "    }\n",
              "    90% {\n",
              "      border-color: transparent;\n",
              "      border-bottom-color: var(--fill-color);\n",
              "    }\n",
              "  }\n",
              "</style>\n",
              "\n",
              "  <script>\n",
              "    async function quickchart(key) {\n",
              "      const quickchartButtonEl =\n",
              "        document.querySelector('#' + key + ' button');\n",
              "      quickchartButtonEl.disabled = true;  // To prevent multiple clicks.\n",
              "      quickchartButtonEl.classList.add('colab-df-spinner');\n",
              "      try {\n",
              "        const charts = await google.colab.kernel.invokeFunction(\n",
              "            'suggestCharts', [key], {});\n",
              "      } catch (error) {\n",
              "        console.error('Error during call to suggestCharts:', error);\n",
              "      }\n",
              "      quickchartButtonEl.classList.remove('colab-df-spinner');\n",
              "      quickchartButtonEl.classList.add('colab-df-quickchart-complete');\n",
              "    }\n",
              "    (() => {\n",
              "      let quickchartButtonEl =\n",
              "        document.querySelector('#df-68bbb508-5cc5-4773-bcb4-510521259123 button');\n",
              "      quickchartButtonEl.style.display =\n",
              "        google.colab.kernel.accessAllowed ? 'block' : 'none';\n",
              "    })();\n",
              "  </script>\n",
              "</div>\n",
              "\n",
              "  <div id=\"id_3dff2d31-bd33-42c2-9a53-5afb3c10e03b\">\n",
              "    <style>\n",
              "      .colab-df-generate {\n",
              "        background-color: #E8F0FE;\n",
              "        border: none;\n",
              "        border-radius: 50%;\n",
              "        cursor: pointer;\n",
              "        display: none;\n",
              "        fill: #1967D2;\n",
              "        height: 32px;\n",
              "        padding: 0 0 0 0;\n",
              "        width: 32px;\n",
              "      }\n",
              "\n",
              "      .colab-df-generate:hover {\n",
              "        background-color: #E2EBFA;\n",
              "        box-shadow: 0px 1px 2px rgba(60, 64, 67, 0.3), 0px 1px 3px 1px rgba(60, 64, 67, 0.15);\n",
              "        fill: #174EA6;\n",
              "      }\n",
              "\n",
              "      [theme=dark] .colab-df-generate {\n",
              "        background-color: #3B4455;\n",
              "        fill: #D2E3FC;\n",
              "      }\n",
              "\n",
              "      [theme=dark] .colab-df-generate:hover {\n",
              "        background-color: #434B5C;\n",
              "        box-shadow: 0px 1px 3px 1px rgba(0, 0, 0, 0.15);\n",
              "        filter: drop-shadow(0px 1px 2px rgba(0, 0, 0, 0.3));\n",
              "        fill: #FFFFFF;\n",
              "      }\n",
              "    </style>\n",
              "    <button class=\"colab-df-generate\" onclick=\"generateWithVariable('df_filtered')\"\n",
              "            title=\"Generate code using this dataframe.\"\n",
              "            style=\"display:none;\">\n",
              "\n",
              "  <svg xmlns=\"http://www.w3.org/2000/svg\" height=\"24px\"viewBox=\"0 0 24 24\"\n",
              "       width=\"24px\">\n",
              "    <path d=\"M7,19H8.4L18.45,9,17,7.55,7,17.6ZM5,21V16.75L18.45,3.32a2,2,0,0,1,2.83,0l1.4,1.43a1.91,1.91,0,0,1,.58,1.4,1.91,1.91,0,0,1-.58,1.4L9.25,21ZM18.45,9,17,7.55Zm-12,3A5.31,5.31,0,0,0,4.9,8.1,5.31,5.31,0,0,0,1,6.5,5.31,5.31,0,0,0,4.9,4.9,5.31,5.31,0,0,0,6.5,1,5.31,5.31,0,0,0,8.1,4.9,5.31,5.31,0,0,0,12,6.5,5.46,5.46,0,0,0,6.5,12Z\"/>\n",
              "  </svg>\n",
              "    </button>\n",
              "    <script>\n",
              "      (() => {\n",
              "      const buttonEl =\n",
              "        document.querySelector('#id_3dff2d31-bd33-42c2-9a53-5afb3c10e03b button.colab-df-generate');\n",
              "      buttonEl.style.display =\n",
              "        google.colab.kernel.accessAllowed ? 'block' : 'none';\n",
              "\n",
              "      buttonEl.onclick = () => {\n",
              "        google.colab.notebook.generateWithVariable('df_filtered');\n",
              "      }\n",
              "      })();\n",
              "    </script>\n",
              "  </div>\n",
              "\n",
              "    </div>\n",
              "  </div>\n"
            ],
            "application/vnd.google.colaboratory.intrinsic+json": {
              "type": "dataframe",
              "variable_name": "df_filtered",
              "summary": "{\n  \"name\": \"df_filtered\",\n  \"rows\": 27,\n  \"fields\": [\n    {\n      \"column\": \"Equipo\",\n      \"properties\": {\n        \"dtype\": \"string\",\n        \"num_unique_values\": 16,\n        \"samples\": [\n          \"Tigre\",\n          \"Independiente\",\n          \"Central Cba (SdE)\"\n        ],\n        \"semantic_type\": \"\",\n        \"description\": \"\"\n      }\n    },\n    {\n      \"column\": \"Puesto\",\n      \"properties\": {\n        \"dtype\": \"category\",\n        \"num_unique_values\": 4,\n        \"samples\": [\n          \"DEL\",\n          \"ARQ\",\n          \"MED\"\n        ],\n        \"semantic_type\": \"\",\n        \"description\": \"\"\n      }\n    },\n    {\n      \"column\": \"Jugador\",\n      \"properties\": {\n        \"dtype\": \"string\",\n        \"num_unique_values\": 27,\n        \"samples\": [\n          \"Ignacio Maestro Puch\",\n          \"Lucas Janson\",\n          \"Ignacio Schor\"\n        ],\n        \"semantic_type\": \"\",\n        \"description\": \"\"\n      }\n    },\n    {\n      \"column\": \"Edad\",\n      \"properties\": {\n        \"dtype\": \"number\",\n        \"std\": 4,\n        \"min\": 19,\n        \"max\": 37,\n        \"num_unique_values\": 15,\n        \"samples\": [\n          34,\n          28,\n          22\n        ],\n        \"semantic_type\": \"\",\n        \"description\": \"\"\n      }\n    },\n    {\n      \"column\": \"Nacimiento\",\n      \"properties\": {\n        \"dtype\": \"object\",\n        \"num_unique_values\": 27,\n        \"samples\": [\n          \"8/13/2003\",\n          \"8/16/1994\",\n          \"8/4/2000\"\n        ],\n        \"semantic_type\": \"\",\n        \"description\": \"\"\n      }\n    },\n    {\n      \"column\": \"dia_mes\",\n      \"properties\": {\n        \"dtype\": \"string\",\n        \"num_unique_values\": 16,\n        \"samples\": [\n          \"Esto es una prueba\",\n          \"18-ago\",\n          \"10-ago\"\n        ],\n        \"semantic_type\": \"\",\n        \"description\": \"\"\n      }\n    },\n    {\n      \"column\": \"nro_mes\",\n      \"properties\": {\n        \"dtype\": \"number\",\n        \"std\": 0,\n        \"min\": 8,\n        \"max\": 8,\n        \"num_unique_values\": 1,\n        \"samples\": [\n          8\n        ],\n        \"semantic_type\": \"\",\n        \"description\": \"\"\n      }\n    },\n    {\n      \"column\": \"a\\u00f1o\",\n      \"properties\": {\n        \"dtype\": \"number\",\n        \"std\": 4,\n        \"min\": 1985,\n        \"max\": 2003,\n        \"num_unique_values\": 15,\n        \"samples\": [\n          1988\n        ],\n        \"semantic_type\": \"\",\n        \"description\": \"\"\n      }\n    },\n    {\n      \"column\": \"Altura_cm\",\n      \"properties\": {\n        \"dtype\": \"number\",\n        \"std\": 5.935071290647756,\n        \"min\": 170.0,\n        \"max\": 190.0,\n        \"num_unique_values\": 16,\n        \"samples\": [\n          175.0\n        ],\n        \"semantic_type\": \"\",\n        \"description\": \"\"\n      }\n    },\n    {\n      \"column\": \"Ciudad_nac\",\n      \"properties\": {\n        \"dtype\": \"string\",\n        \"num_unique_values\": 15,\n        \"samples\": [\n          \"Grand Bourg\"\n        ],\n        \"semantic_type\": \"\",\n        \"description\": \"\"\n      }\n    },\n    {\n      \"column\": \"Pais_nac\",\n      \"properties\": {\n        \"dtype\": \"category\",\n        \"num_unique_values\": 1,\n        \"samples\": [\n          \"Argentina\"\n        ],\n        \"semantic_type\": \"\",\n        \"description\": \"\"\n      }\n    },\n    {\n      \"column\": \"Altura_log\",\n      \"properties\": {\n        \"dtype\": \"number\",\n        \"std\": 0.03315348678366484,\n        \"min\": 5.135798437050262,\n        \"max\": 5.247024072160486,\n        \"num_unique_values\": 16,\n        \"samples\": [\n          5.1647859739235145\n        ],\n        \"semantic_type\": \"\",\n        \"description\": \"\"\n      }\n    }\n  ]\n}"
            }
          },
          "metadata": {}
        }
      ],
      "source": [
        "# Si quiero acceder a la fecha de nacimiento, del primer jugador de los que tenemos filtrados, como puedo hacer?\n",
        "\n",
        "# Primero el numero de fila, luego la columna a la que queremos entrar\n",
        "df_filtered.loc[0, 'dia_mes'] = 'Esto es una prueba'\n",
        "\n",
        "display(df_filtered)"
      ]
    },
    {
      "cell_type": "markdown",
      "metadata": {
        "id": "Z9ebY5arG7r1"
      },
      "source": [
        "## Lambda functions\n",
        "En Python existe otra forma de declarar funciones además de la que vimos anteriormente, que es utilizando la palabra `lambda`. La función `promediar_dos_numeros` que vimos más temprano se escribiría de la siguiente forma\n",
        "\n",
        "```python\n",
        "promedio = lambda num1, num2: (num1 + num2) / 2\n",
        "\n",
        "```\n",
        "\n",
        "Los `lambda` son funciones \"anónimas\", y fueron introducidas a Python para código que sigue un estilo de programación llamado \"funcional\". Generalmente, la idea no es asignarla a una variable, sino usarla directamente dentro de otra función. Por ejemplo, la función `filter`:\n",
        "\n",
        "```python\n",
        "pares = list(filter(lambda x: x % 2 == 0, range(10)))\n",
        "```\n",
        "\n",
        "Lo introducimos por completitud, por si se la encuentran leyendo el código de otra persona, pero lo recomendado es definir funciones \"normales\" con `def`."
      ]
    },
    {
      "cell_type": "markdown",
      "metadata": {
        "id": "TCo6ZF4g962g"
      },
      "source": [
        "---\n",
        "\n",
        "# Histogramas\n",
        "\n",
        "Una cosita más que nos va a ser útil a la hora de dejar el Oriyin sin instalar es poder hacer histogramas. Con _pyplot_ eso lo podemos obtener de la función _hist_.\n",
        "\n",
        "Recordemos que en un histograma dividimos una serie de datos en rangos y contamos cuántos de nuestros datos caen en cada rango. A esos rangos se los llama _bins_.\n",
        "\n",
        "_hist_ toma como argumentos un array de números, en cuántos _bins_ queremos dividir a nuestro eje x y algunas otras opciones de color como constante de normalización y color de las barras.\n",
        "\n",
        "Hagamos un histograma simple de un set gaussiano. Para eso, creemos datos sintéticos usando ```random.normal``` de _NumPy_ . Esto de crear datos lo hacemos acá a modo de ejemplo, en la vida real uno importaria algun dataset de las formas que ya hemos visto."
      ]
    },
    {
      "cell_type": "code",
      "execution_count": null,
      "metadata": {
        "id": "KQj6HJf1962h",
        "colab": {
          "base_uri": "https://localhost:8080/",
          "height": 604
        },
        "outputId": "d57e77cf-407a-404c-cf35-04a223442b96"
      },
      "outputs": [
        {
          "output_type": "stream",
          "name": "stdout",
          "text": [
            "n:\n",
            "[  2.   0.   2.  12.  24.  55. 101. 190. 245. 279. 291. 291. 220. 137.\n",
            "  77.  46.  18.   6.   1.   3.]\n",
            "\n",
            "bins:\n",
            "[ 42.26532864  47.92479703  53.58426543  59.24373383  64.90320223\n",
            "  70.56267062  76.22213902  81.88160742  87.54107581  93.20054421\n",
            "  98.86001261 104.51948101 110.1789494  115.8384178  121.4978862\n",
            " 127.1573546  132.81682299 138.47629139 144.13575979 149.79522819\n",
            " 155.45469658]\n"
          ]
        },
        {
          "output_type": "display_data",
          "data": {
            "text/plain": [
              "<Figure size 640x480 with 1 Axes>"
            ],
            "image/png": "[encoded data removed]"
          },
          "metadata": {}
        }
      ],
      "source": [
        "import numpy as np\n",
        "import matplotlib.pyplot as plt\n",
        "\n",
        "# Distribución gaussiana centrada en 100, con 15 de desviación estándar\n",
        "data = np.random.normal(100, 15, 2000)\n",
        "\n",
        "n, bins, patches = plt.hist(data, bins=20, edgecolor='black', facecolor='royalblue', alpha=0.75)\n",
        "# n la variable n se encuentran los datos del histograma\n",
        "# bins es un vector con los bordes de los rangos de datos\n",
        "# patches no nos interesa en general\n",
        "\n",
        "# OBS1: Si no saben qué cantidad de bines elegir, pueden dejarle la\n",
        "# eleccion a matplotlib, usando: bins='auto'\n",
        "\n",
        "# OBS2: Si quieren forzar bines específicos, pueden pasarle un array o lista\n",
        "# con los comienzos de cada bin. Ej:\n",
        "#\n",
        "#    Esto da bines de ancho 0.1:\n",
        "#    bins = [1, 1.1, 1.2, 1.3, 1.4, 1.5]\n",
        "#\n",
        "#    Indistintamente pueden usar cosas que ya vimos para generar ararys:\n",
        "#    bins = np.arange(1, 1.6, 0.1)\n",
        "\n",
        "print(f'n:\\n{n}\\n')\n",
        "print(f'bins:\\n{bins}')"
      ]
    },
    {
      "cell_type": "code",
      "execution_count": null,
      "metadata": {
        "id": "K7PJtxW0962h",
        "colab": {
          "base_uri": "https://localhost:8080/",
          "height": 430
        },
        "outputId": "6b23945c-252a-4d53-96e1-c18da6e002d1"
      },
      "outputs": [
        {
          "output_type": "display_data",
          "data": {
            "text/plain": [
              "<Figure size 640x480 with 1 Axes>"
            ],
            "image/png": "[encoded data removed]"
          },
          "metadata": {}
        }
      ],
      "source": [
        "# Si lo quisieramos normalizar el area hay que agregar una opcion mas que es density=True como para\n",
        "# que entienda que queremos ver la \"densidad de probabilidad\", forma cheta para decir: normalizar el area.\n",
        "\n",
        "n, bins, patches = plt.hist(data, bins=20, edgecolor='black', facecolor='royalblue', alpha=0.75, density=True)"
      ]
    },
    {
      "cell_type": "markdown",
      "metadata": {
        "id": "M3zTg3Fy962h"
      },
      "source": [
        "Y ya que estamos, para concientizar acerca de los peligros a la hora de la elección de *bins*, graficamos algunos histogramas superpuestos."
      ]
    },
    {
      "cell_type": "code",
      "execution_count": null,
      "metadata": {
        "id": "q2C6GQa1962h",
        "colab": {
          "base_uri": "https://localhost:8080/"
        },
        "outputId": "9e71749f-fe25-4e18-bb64-5e0fc944fe11"
      },
      "outputs": [
        {
          "output_type": "display_data",
          "data": {
            "text/plain": [
              "<Figure size 640x480 with 1 Axes>"
            ],
            "image/png": "[encoded data removed]"
          },
          "metadata": {}
        }
      ],
      "source": [
        "n, bins, patches = plt.hist(data, bins=100, density=True, edgecolor='black', facecolor='royalblue', alpha=0.75)\n",
        "n, bins, patches = plt.hist(data, bins=20 , density=True, edgecolor='black', facecolor='purple'  , alpha=0.5)\n",
        "n, bins, patches = plt.hist(data, bins=2 , density=True, edgecolor='black', facecolor='indianred'  , alpha=0.3)"
      ]
    },
    {
      "cell_type": "markdown",
      "metadata": {
        "id": "os9gI8VL962h"
      },
      "source": [
        "### Ejercicio 6\n",
        "\n",
        "La función `randn` que usamos nos brinda números aleatorios distribuidos de manera gaussiana (distribución normal).\n",
        "\n",
        "1. Con lo mostrado arriba, cree un histograma con una distribución normal (igual que como hicimos ya) y superpongale una curva teórica de una gausiana.\n",
        "\n",
        "    __AYUDA__: Busquen \"plot normal distribution python\", en particular busquen la librería `scipy`.\n",
        "\n",
        "2. Haga el mismo ejercicio de recién pero con números aleatorios distribuidos de manera _uniforme_\n",
        "\n",
        "3. Lo mismo pero con números con una distribución pareto, o la distribución que prefieran.\n",
        "\n",
        "_Info:_ https://docs.scipy.org/doc/numpy-1.14.0/reference/routines.random.html"
      ]
    },
    {
      "cell_type": "markdown",
      "metadata": {
        "id": "jkcydFNN962i"
      },
      "source": [
        "---\n",
        "## Resolución de un sistema de ecuaciones diferenciales ordinarias (ODE)"
      ]
    },
    {
      "cell_type": "markdown",
      "metadata": {
        "id": "CmCFnDGi962i"
      },
      "source": [
        "Vamos con un caso simple y conocido por la mayoría: el infaltable problema del péndulo. Arrancamos desde donde sabemos todos. (Donde sabemos todos? Si no saben de donde salió esto no se hagan problema, es solo algo físico, no lo podemos evitar)\n",
        "\n",
        "$$ \\frac{d^2\\theta}{dt^2} + \\omega^2 \\theta = 0$$\n",
        "\n",
        "con $\\omega^2 = \\frac{g}{l}$\n",
        "\n",
        "Para resolver numéricamente este problema, proponemos utilizar la función `odeint` de la biblioteca `scipy.integrate` (Otra opción podría ser la función `solve_ivp`, para problemas de valores iniciales), y esa función utiliza un método no taaaaan distinto al [método de Euler](https://es.wikipedia.org/wiki/M%C3%A9todo_de_Euler) para la solución de ODE's, (inserte conocimientos de Cálculo Numérico aquí, sí, dale, cursala antes de recibirte) por lo que, para un problema con derivadas de segundo orden debemos armar un sistema de ecuaciones de primer orden.\n",
        "\n",
        "Sea $\\phi = \\dot{\\theta} \\rightarrow \\dot{\\phi} = \\ddot{\\theta}$\n",
        "\n",
        "Nos queda entonces"
      ]
    },
    {
      "cell_type": "markdown",
      "metadata": {
        "id": "upfUBhg0962i"
      },
      "source": [
        "$$\n",
        "\\begin{align}\n",
        "\\dot{\\theta} = \\phi \\\\\n",
        "\\dot{\\phi} = -\\omega^2 \\theta\n",
        "\\end{align}\n",
        "$$"
      ]
    },
    {
      "cell_type": "markdown",
      "metadata": {
        "id": "dDaJEPfA962i"
      },
      "source": [
        "o bien"
      ]
    },
    {
      "cell_type": "markdown",
      "metadata": {
        "id": "5Zgo72_G962i"
      },
      "source": [
        "$$\n",
        "\\begin{equation}\n",
        "\\begin{pmatrix}\n",
        "\\dot{\\theta} \\\\\n",
        "\\dot{\\phi}\n",
        "\\end{pmatrix}\n",
        "=\n",
        " \\begin{pmatrix}\n",
        "  0 & 1  \\\\\n",
        "  -\\omega^2 & 0\n",
        " \\end{pmatrix}\n",
        "\\begin{pmatrix}\n",
        "\\theta \\\\\n",
        "\\phi\n",
        "\\end{pmatrix}\n",
        "\\end{equation}\n",
        "$$"
      ]
    },
    {
      "cell_type": "markdown",
      "metadata": {
        "id": "U2iDy-Ds962i"
      },
      "source": [
        "o también\n",
        "\n",
        "$$ \\dot{\\vec{X}} = A \\vec{X} $$\n",
        "\n",
        "Escencialmente, nuestro `odeint` va a intentar resolver ese sistema para distintos $t$ mientras le hayamos dado un valor inicial de donde comenzar. Nada demasiado extraño. Así que lo que la función va a necesitar es una función que tome como primer argumento $\\vec{X}$, segundo argumento $t$ (por ser la variable independiente) y luego los demás parametros que necesite (en este caso sean $g$ y $l$) y opere para obtener $\\dot{\\vec{X}}$."
      ]
    },
    {
      "cell_type": "code",
      "execution_count": null,
      "metadata": {
        "id": "J8BJtVwJ962i"
      },
      "outputs": [],
      "source": [
        "from scipy.integrate import odeint\n",
        "import numpy as np"
      ]
    },
    {
      "cell_type": "code",
      "execution_count": null,
      "metadata": {
        "id": "FZEzyKKf962i",
        "colab": {
          "base_uri": "https://localhost:8080/"
        },
        "outputId": "e41dcc31-155d-43d3-c52e-cc626496285c"
      },
      "outputs": [
        {
          "output_type": "display_data",
          "data": {
            "text/plain": [
              "<Figure size 640x480 with 1 Axes>"
            ],
            "image/png": "[encoded data removed]"
          },
          "metadata": {}
        }
      ],
      "source": [
        "def ecdif(X, t, g, l):\n",
        "    theta, phi = X\n",
        "    omega2 = g/l\n",
        "    return [phi, -omega2 * theta]\n",
        "\n",
        "g = 9.8\n",
        "l = 2\n",
        "X0 = [np.pi/4, 0]  # Inicio a 45 grados con velocidad = 0\n",
        "t = np.linspace(0, 10, 101)\n",
        "solucion = odeint(ecdif, X0, t, args = (g,l))\n",
        "\n",
        "plt.plot(t,solucion[:,0], label = 'theta')\n",
        "plt.plot(t,solucion[:,1], label = 'phi')\n",
        "plt.title('Resolucion del pendulo')\n",
        "plt.xlabel('Tiempo')\n",
        "plt.ylabel('Valores')\n",
        "plt.grid(True)\n",
        "plt.legend(loc = 'best')\n",
        "plt.show()"
      ]
    },
    {
      "cell_type": "markdown",
      "metadata": {
        "id": "ertoUgzD962j"
      },
      "source": [
        "Si quieren ver otro ejemplo que esto, recomendamos el [resuelto](https://github.com/fifabsas/talleresfifabsas/blob/master/python/Extras/Fisica2/oscilador_forzado.py) que hizo un Ex-FIFA del oscilador con forzante sin aproximación y comparado con la solución analítica (sí, esa que sin aproximación no buscó nadie). También recomendamos, a cuento de esto, un pasito más en resolución de ODE's que es una [simulación](https://github.com/fifabsas/talleresfifabsas/blob/master/python/Extras/Fisica1/simulacion.ipynb) de uno de los ejercicios de F1, donde se arma una animación y una visualización más interactiva con la biblioteca `ipywidgets` de tantas otras posibles."
      ]
    },
    {
      "cell_type": "markdown",
      "metadata": {
        "id": "X--JkuZr962j"
      },
      "source": [
        "### Ejercicio\n",
        "1. Resuelvan el oscilador armónico amortiguado con el parámetro $\\gamma$\n",
        "2. Vuelvan a todas esas guías que nadie terminó, busquen los ejercicios con asterisco, métanlos en Python y aprecien el poder del cálculo numérico."
      ]
    },
    {
      "cell_type": "markdown",
      "metadata": {
        "id": "O-H8jqXf962j"
      },
      "source": [
        "---\n",
        "\n",
        "## Un poco de algebra lineal con *NumPy*\n",
        "\n",
        "NumPy trae muchas funciones para resolver problemas típicos de algebra lineal usando a los arrays como vectores. El que nos interesa en general es el de autovalores y autovectores y el sistema de ecuaciones lineales, pero empecemos con un ejemplo más fácil:"
      ]
    },
    {
      "cell_type": "code",
      "execution_count": null,
      "metadata": {
        "id": "QNs8tiWP962j",
        "colab": {
          "base_uri": "https://localhost:8080/"
        },
        "outputId": "a5053e49-df92-40d4-9b84-18822a89a6de"
      },
      "outputs": [
        {
          "output_type": "stream",
          "name": "stdout",
          "text": [
            "1.7320508075688772\n",
            "1.7320508075688772\n",
            "True\n"
          ]
        }
      ],
      "source": [
        "# cargamos el módulo de algebra lineal\n",
        "from numpy import linalg\n",
        "v = np.array([1, 1, 1])\n",
        "w = np.array([2, 2, 2])\n",
        "z = np.array([1, 0, 1])\n",
        "\n",
        "norma =linalg.norm(v)  # la norma 2 / módulo del vector v\n",
        "print(norma)\n",
        "print(np.sqrt(v[0]**2 + v[1]**2 + v[2]**2))  # calculado a mano == sqrt(3)\n",
        "print(norma == np.sqrt(3))  # y numpy sabe que son lo mismo"
      ]
    },
    {
      "cell_type": "markdown",
      "metadata": {
        "id": "tlvBi-C1962j"
      },
      "source": [
        "Ahora si, usemos los vectores que creamos recién para crear una matriz y digamosle a _NumPy_ que calcule los autovectoresy autovalores de esa matriz:"
      ]
    },
    {
      "cell_type": "code",
      "execution_count": null,
      "metadata": {
        "id": "gN8V4XrM962k",
        "colab": {
          "base_uri": "https://localhost:8080/"
        },
        "outputId": "b9dde2c5-3ef4-452f-8fdb-16f2586d2639"
      },
      "outputs": [
        {
          "output_type": "stream",
          "name": "stdout",
          "text": [
            "Los autovalores: [ 3.41421356e+00 -1.23150120e-16  5.85786438e-01]\n",
            "\n",
            "Los autovectores: [[ 4.39732612e-01  7.07106781e-01 -3.03890631e-01]\n",
            " [ 8.79465224e-01 -1.09165123e-16 -6.07781262e-01]\n",
            " [ 1.82143212e-01 -7.07106781e-01  7.33656883e-01]]\n"
          ]
        }
      ],
      "source": [
        "matriz = np.array([v, w, z], dtype=np.float64)\n",
        "#eig devuelve una tupla de arrays con los autovalores en un array 1D y los autovec en un array 2D\n",
        "eigens = linalg.eig(matriz)\n",
        "\n",
        "autvals, autvecs = eigens\n",
        "\n",
        "print('Los autovalores:', autvals)\n",
        "print()\n",
        "print('Los autovectores:', autvecs)\n",
        "\n",
        "#se terminó el problema"
      ]
    },
    {
      "cell_type": "markdown",
      "metadata": {
        "id": "8raIhKR9962k"
      },
      "source": [
        "Y para un sistema de ecuaciones del tipo $Ax = b$:"
      ]
    },
    {
      "cell_type": "code",
      "execution_count": null,
      "metadata": {
        "id": "rOJc7Tr9962k",
        "colab": {
          "base_uri": "https://localhost:8080/"
        },
        "outputId": "b158e8dc-7e6f-436f-f6f8-d2e499ca17d9"
      },
      "outputs": [
        {
          "output_type": "stream",
          "name": "stdout",
          "text": [
            "[0.67857143 0.07142857 0.03571429]\n"
          ]
        }
      ],
      "source": [
        "mat = np.array([[1, 2, 5], [2, 5, 8], [4, 0, 8]], dtype=np.float64)\n",
        "b = np.array([1, 2, 3])\n",
        "x = linalg.solve(mat, b)  # resuelve el sistema A*x = b\n",
        "print(x)\n",
        "\n",
        "# se terminó el problema"
      ]
    },
    {
      "cell_type": "markdown",
      "metadata": {
        "id": "HpYidTEj962k"
      },
      "source": [
        "Por supuesto, también se puede hacer producto matriz con vector, y... oh si, se pueden calcular *inversas*."
      ]
    },
    {
      "cell_type": "code",
      "execution_count": null,
      "metadata": {
        "id": "4p7XCsP8962k",
        "colab": {
          "base_uri": "https://localhost:8080/"
        },
        "outputId": "821688ab-3210-476b-fb19-59fa84d9d835"
      },
      "outputs": [
        {
          "output_type": "stream",
          "name": "stdout",
          "text": [
            "[1. 2. 3.]\n",
            "[[-1.42857143  0.57142857  0.32142857]\n",
            " [-0.57142857  0.42857143 -0.07142857]\n",
            " [ 0.71428571 -0.28571429 -0.03571429]]\n"
          ]
        }
      ],
      "source": [
        "print(np.dot(mat,x))\n",
        "print(linalg.inv(mat))"
      ]
    },
    {
      "cell_type": "markdown",
      "metadata": {
        "id": "3G_G--wB962k"
      },
      "source": [
        "---\n",
        "\n",
        "### Ejercicio\n",
        "\n",
        "Parecen incrédulos. Fabriquen entonces la matriz\n",
        "$$\n",
        "\\begin{equation}\n",
        "A =\n",
        "\\begin{pmatrix}\n",
        "  0 & 1 \\\\\n",
        "  1 & 0  \n",
        "\\end{pmatrix}\n",
        "\\end{equation}\n",
        "$$\n",
        "\n",
        "cuyos autovalores son $\\lambda_1 = 1$ y $\\lambda_2 = -1 $, hallen sus autovalores y autovectores (a mano y con Python) y calculen $Ax$ con\n",
        "$$\n",
        "\\begin{equation}\n",
        "x =\n",
        "\\begin{pmatrix}\n",
        "1\\\\0\n",
        "\\end{pmatrix}\n",
        "\\end{equation}\n",
        "$$"
      ]
    },
    {
      "cell_type": "markdown",
      "metadata": {
        "id": "vAPW4KK4962l"
      },
      "source": [
        "---\n",
        "### Ejercicio\n",
        "\n",
        "Inventen una matriz de 5x5 (con el método que quieran y ¡que no sea la identidad!) y averigüen si es invertible. Si están prestando atención, saben que para resolver este problema les conviene ver la documentación de numpy.linalg.\n",
        "\n",
        "*Ayuda*: ¿Es necesario calcular la inversa? ¿Se acuerdan algo de álgebra lineal?"
      ]
    },
    {
      "cell_type": "markdown",
      "metadata": {
        "id": "CIyR9IN1962l"
      },
      "source": [
        "---\n",
        "\n",
        "# Cálculo simbólico"
      ]
    },
    {
      "cell_type": "markdown",
      "metadata": {
        "id": "eYBAxJJm962l"
      },
      "source": [
        "Ahora no sólo nos vamos a emancipar del *Oriyin*, sino también del bendito *Wolfram Alpha* (Disclaimer: si bien la librería que se usa es muy buena, todavía no llega a tener el nivel de software como Mathematica, Maple, etc).\n",
        "Así es, Python nos va a permitir hacer cálculos simbólicos, como las integrales que nunca supimos calcular. Todo eso y más, en el paquete **SymPy**:\n",
        "\n",
        "Hemos dicho que en general no es una buena práctica, pero este es uno de los pocos casos para los cuales se justifica importar toda la librería."
      ]
    },
    {
      "cell_type": "code",
      "execution_count": null,
      "metadata": {
        "id": "kuI4A5Bi962l"
      },
      "outputs": [],
      "source": [
        "from sympy import *\n",
        "from sympy.abc import *"
      ]
    },
    {
      "cell_type": "markdown",
      "metadata": {
        "id": "W1olTVDy962l"
      },
      "source": [
        "Les daremos ahora un breve tour por algunas de las funciones que nos ofrece *SymPy*. Así como *numpy* nos introdujo el array como tipo de variable, las expresiones algebraicas en *sympy* son del tipo *symbols*. Estas pueden representar números enteros, reales, funciones, etc.\n",
        "\n",
        "A diferencia de las librerías anteriores, en las cuales usualmente escribimos los comandos dentro de un archivo a ejectutar todo junto (*script*); a modo de demostración utilizaremos *SymPy* de forma *interactiva*. Esta es posiblemente la manera en la que usaron *Wolfram Alpha* o *Mathematica* (para quienes lo hayan hecho)."
      ]
    },
    {
      "cell_type": "markdown",
      "metadata": {
        "id": "CxxEcAOg962l"
      },
      "source": [
        "Vimos aquí que una cantidad de variables se definieron como *symbols* de distintos tipos.\n",
        "Veamos ahora algunas de las posibilidades que tenemos:"
      ]
    },
    {
      "cell_type": "code",
      "execution_count": null,
      "metadata": {
        "id": "X5XqCDBK962l",
        "colab": {
          "base_uri": "https://localhost:8080/",
          "height": 37
        },
        "outputId": "3351a1fb-e32a-4c96-ad25-19ac3000a5b3"
      },
      "outputs": [
        {
          "output_type": "execute_result",
          "data": {
            "text/plain": [
              "x**2 + 2*x*y + y**2"
            ],
            "text/latex": "$\\displaystyle x^{2} + 2 x y + y^{2}$"
          },
          "metadata": {},
          "execution_count": 54
        }
      ],
      "source": [
        "expand( (x + y)**2 )"
      ]
    },
    {
      "cell_type": "code",
      "execution_count": null,
      "metadata": {
        "id": "_3BpC6FA962m",
        "colab": {
          "base_uri": "https://localhost:8080/",
          "height": 38
        },
        "outputId": "9092b056-42b7-4497-f283-859f3ec15b22"
      },
      "outputs": [
        {
          "output_type": "execute_result",
          "data": {
            "text/plain": [
              "(x - 1)*(x + 1)*(x**2 - x + 1)*(x**2 + x + 1)"
            ],
            "text/latex": "$\\displaystyle \\left(x - 1\\right) \\left(x + 1\\right) \\left(x^{2} - x + 1\\right) \\left(x^{2} + x + 1\\right)$"
          },
          "metadata": {},
          "execution_count": 55
        }
      ],
      "source": [
        "factor( x**6 - 1 )"
      ]
    },
    {
      "cell_type": "markdown",
      "metadata": {
        "id": "HY6jOTy1962m"
      },
      "source": [
        "Utilizando variables simbólicas de tipo integer, podemos hacer algunas sumatorias, por ejemplo, la famosa $$\\sum_{k=0}^{m}k$$"
      ]
    },
    {
      "cell_type": "code",
      "execution_count": null,
      "metadata": {
        "id": "NdPN4ENj962m",
        "colab": {
          "base_uri": "https://localhost:8080/",
          "height": 53
        },
        "outputId": "3f0656af-a0a7-4578-ad1c-817f555651e5"
      },
      "outputs": [
        {
          "output_type": "execute_result",
          "data": {
            "text/plain": [
              "m*(m + 1)/2"
            ],
            "text/latex": "$\\displaystyle \\frac{m \\left(m + 1\\right)}{2}$"
          },
          "metadata": {},
          "execution_count": 56
        }
      ],
      "source": [
        "Sum(k, (k,0,m) ).doit().factor()  #el comando .doit() evalúa la suma"
      ]
    },
    {
      "cell_type": "markdown",
      "metadata": {
        "id": "1Q3uw70F962m"
      },
      "source": [
        "O incluso algunas series, como $$ \\sum_{n=1}^{\\infty}\\frac{1}{n^2} $$"
      ]
    },
    {
      "cell_type": "code",
      "execution_count": null,
      "metadata": {
        "id": "kwmMpZqV962m",
        "colab": {
          "base_uri": "https://localhost:8080/",
          "height": 54
        },
        "outputId": "4272016a-e3de-4cc4-c3b6-f471f5fb58be"
      },
      "outputs": [
        {
          "output_type": "execute_result",
          "data": {
            "text/plain": [
              "pi**2/6"
            ],
            "text/latex": "$\\displaystyle \\frac{\\pi^{2}}{6}$"
          },
          "metadata": {},
          "execution_count": 57
        }
      ],
      "source": [
        "Sum(1/n**2, (n, 1, oo)).doit()  # el infinito se escribe como oo (dos o minúscula)"
      ]
    },
    {
      "cell_type": "markdown",
      "metadata": {
        "id": "D2cvgvFz962n"
      },
      "source": [
        "---\n",
        "Posiblemente si queremos algo de cálculo simbólico, sea para calcular derivadas e integrales que nos molesten. Veamos algunos ejemplos $\\dfrac{\\text{d}x^n}{\\text{d}x}$"
      ]
    },
    {
      "cell_type": "code",
      "execution_count": null,
      "metadata": {
        "id": "kxObFxZm962n",
        "colab": {
          "base_uri": "https://localhost:8080/",
          "height": 38
        },
        "outputId": "4505ffcc-6488-465c-8f47-bee2316985e2"
      },
      "outputs": [
        {
          "output_type": "execute_result",
          "data": {
            "text/plain": [
              "n*x**(n - 1)"
            ],
            "text/latex": "$\\displaystyle n x^{n - 1}$"
          },
          "metadata": {},
          "execution_count": 58
        }
      ],
      "source": [
        "diff(x**n , x).simplify()"
      ]
    },
    {
      "cell_type": "markdown",
      "metadata": {
        "id": "K53CSEud962n"
      },
      "source": [
        "$$ \\frac{d}{dx}\\big(\\ \\sin(\\tan(8x))\\ \\big)$$"
      ]
    },
    {
      "cell_type": "code",
      "execution_count": null,
      "metadata": {
        "id": "lVIREd40962n",
        "colab": {
          "base_uri": "https://localhost:8080/",
          "height": 38
        },
        "outputId": "52652548-cbdb-4b3d-b11d-85305bec1d9c"
      },
      "outputs": [
        {
          "output_type": "execute_result",
          "data": {
            "text/plain": [
              "(8*tan(8*x)**2 + 8)*cos(tan(8*x))"
            ],
            "text/latex": "$\\displaystyle \\left(8 \\tan^{2}{\\left(8 x \\right)} + 8\\right) \\cos{\\left(\\tan{\\left(8 x \\right)} \\right)}$"
          },
          "metadata": {},
          "execution_count": 59
        }
      ],
      "source": [
        "diff(sin(tan(8*x)), x)"
      ]
    },
    {
      "cell_type": "code",
      "execution_count": null,
      "metadata": {
        "id": "ndyUqaL5962o"
      },
      "outputs": [],
      "source": [
        "out = diff(sin(tan(8*x)), x).simplify()"
      ]
    },
    {
      "cell_type": "code",
      "execution_count": null,
      "metadata": {
        "id": "45pXhy2R962p",
        "colab": {
          "base_uri": "https://localhost:8080/",
          "height": 62
        },
        "outputId": "3a6e6b20-849d-4e41-853c-fbb74624d631"
      },
      "outputs": [
        {
          "output_type": "execute_result",
          "data": {
            "text/plain": [
              "8*cos(tan(8*sqrt(y)))/cos(8*sqrt(y))**2"
            ],
            "text/latex": "$\\displaystyle \\frac{8 \\cos{\\left(\\tan{\\left(8 \\sqrt{y} \\right)} \\right)}}{\\cos^{2}{\\left(8 \\sqrt{y} \\right)}}$"
          },
          "metadata": {},
          "execution_count": 61
        }
      ],
      "source": [
        "# Podemos hacer sustituciones de simbolos por otros simbolos!!\n",
        "out.subs(x, sqrt(y))"
      ]
    },
    {
      "cell_type": "code",
      "execution_count": null,
      "metadata": {
        "id": "98T7KC_p962p",
        "colab": {
          "base_uri": "https://localhost:8080/"
        },
        "outputId": "bbdd4d20-eef8-4686-e4be-89f0ce238e9d"
      },
      "outputs": [
        {
          "output_type": "stream",
          "name": "stdout",
          "text": [
            "8*cos(tan(64))/cos(64)**2 = -36.5316624851842\n"
          ]
        }
      ],
      "source": [
        "# Hasta podemos sustituir por valores numéricos y evaluar la funcion!!\n",
        "print(f\"{out.subs(x, 8)} = {out.subs(x, 8).evalf()}\")"
      ]
    },
    {
      "cell_type": "markdown",
      "metadata": {
        "id": "xf8_cHFd962p"
      },
      "source": [
        "Si alguno desconfia, puede verlo desde [WolframAlfa](https://www.wolframalpha.com/input/?i=%288+%2B+8*tan%2864%29**2%29*log%288%29*cos%28tan%2864%29%29+%2B+sin%28tan%2864%29%29%2F8)"
      ]
    },
    {
      "cell_type": "markdown",
      "metadata": {
        "id": "TqZ6zIq-962p"
      },
      "source": [
        "---\n",
        "Otro ejemplo! Derivadas parciales: $\\dfrac{\\partial^2}{\\partial y \\partial x}\\left( x\\sin{y} \\right)$"
      ]
    },
    {
      "cell_type": "code",
      "execution_count": null,
      "metadata": {
        "id": "ljf-qGec962p",
        "colab": {
          "base_uri": "https://localhost:8080/",
          "height": 38
        },
        "outputId": "0f3dc6db-b757-4d78-893f-beadb4cecbee"
      },
      "outputs": [
        {
          "output_type": "execute_result",
          "data": {
            "text/plain": [
              "cos(y)"
            ],
            "text/latex": "$\\displaystyle \\cos{\\left(y \\right)}$"
          },
          "metadata": {},
          "execution_count": 63
        }
      ],
      "source": [
        "diff(x*sin(y), x, y)  # qué pasa si en lugar de x,y ponemos y,y?"
      ]
    },
    {
      "cell_type": "markdown",
      "metadata": {
        "id": "aOF7nn_m962q"
      },
      "source": [
        "También se pueden hacer integrales indefinidas o definidas con dominio infinito/acotado, obviamente luego se podría reemplazar en la expresión final por algun valor numérico, si así se quisiera\n",
        "$$\\int \\dfrac{1}{1+x^2}\\text{d}x$$"
      ]
    },
    {
      "cell_type": "code",
      "execution_count": null,
      "metadata": {
        "id": "ySbc_4Sc962q",
        "colab": {
          "base_uri": "https://localhost:8080/",
          "height": 38
        },
        "outputId": "ffbf749c-f5c0-445f-bb2e-321adcb4406e"
      },
      "outputs": [
        {
          "output_type": "execute_result",
          "data": {
            "text/plain": [
              "atan(x)"
            ],
            "text/latex": "$\\displaystyle \\operatorname{atan}{\\left(x \\right)}$"
          },
          "metadata": {},
          "execution_count": 64
        }
      ],
      "source": [
        "integrate(1/(1+x**2), x)"
      ]
    },
    {
      "cell_type": "markdown",
      "metadata": {
        "id": "vIiA9_y9962q"
      },
      "source": [
        "$$\\int_{-\\infty}^{+\\infty} \\dfrac{\\sin(x)}{x}\\text{d}x$$"
      ]
    },
    {
      "cell_type": "code",
      "execution_count": null,
      "metadata": {
        "id": "RFle8Vrl962q",
        "colab": {
          "base_uri": "https://localhost:8080/",
          "height": 38
        },
        "outputId": "e26d90d6-8c2c-4e9b-9e09-3fbb23736c56"
      },
      "outputs": [
        {
          "output_type": "execute_result",
          "data": {
            "text/plain": [
              "pi"
            ],
            "text/latex": "$\\displaystyle \\pi$"
          },
          "metadata": {},
          "execution_count": 65
        }
      ],
      "source": [
        "integrate( sin(x)/x, (x,-oo,oo) )"
      ]
    },
    {
      "cell_type": "markdown",
      "metadata": {
        "id": "vJPWRHlX962q"
      },
      "source": [
        "---\n",
        "Algo importantisimo y fabuloso de Sympy (algo que sorprendentemente NO tiene Mathematica ni Matlab) es que a cualquier expresión, podemos envolverla en un `latex()` para que devuelva la misma expresión que renderizó, pero en el formato de $\\LaTeX$. Derecho para mandar al informe o trabajo sin tipearla."
      ]
    },
    {
      "cell_type": "code",
      "execution_count": null,
      "metadata": {
        "id": "Z9-WrUrC962q",
        "colab": {
          "base_uri": "https://localhost:8080/",
          "height": 53
        },
        "outputId": "a13bac5b-0743-40fa-eec8-b058bf6bca65"
      },
      "outputs": [
        {
          "output_type": "execute_result",
          "data": {
            "text/plain": [
              "(8*tan(8*x)**2 + 8)*log(x)*cos(tan(8*x)) + sin(tan(8*x))/x"
            ],
            "text/latex": "$\\displaystyle \\left(8 \\tan^{2}{\\left(8 x \\right)} + 8\\right) \\log{\\left(x \\right)} \\cos{\\left(\\tan{\\left(8 x \\right)} \\right)} + \\frac{\\sin{\\left(\\tan{\\left(8 x \\right)} \\right)}}{x}$"
          },
          "metadata": {},
          "execution_count": 66
        }
      ],
      "source": [
        "out = diff(sin(tan(8*x))*log(x), x)\n",
        "out"
      ]
    },
    {
      "cell_type": "code",
      "execution_count": null,
      "metadata": {
        "id": "2jbmPoSA962q",
        "colab": {
          "base_uri": "https://localhost:8080/"
        },
        "outputId": "d8794f09-f583-47ad-b1f4-e301900bb571"
      },
      "outputs": [
        {
          "output_type": "stream",
          "name": "stdout",
          "text": [
            "Normal: (8*tan(8*x)**2 + 8)*log(x)*cos(tan(8*x)) + sin(tan(8*x))/x\n",
            "LaTeX: \\left(8 \\tan^{2}{\\left(8 x \\right)} + 8\\right) \\log{\\left(x \\right)} \\cos{\\left(\\tan{\\left(8 x \\right)} \\right)} + \\frac{\\sin{\\left(\\tan{\\left(8 x \\right)} \\right)}}{x}\n"
          ]
        }
      ],
      "source": [
        "print(f\"Normal: {out}\")\n",
        "print(f\"LaTeX: {latex(out)}\")"
      ]
    },
    {
      "cell_type": "markdown",
      "metadata": {
        "id": "-RLymUU6962r"
      },
      "source": [
        "### Ejercicio 9"
      ]
    },
    {
      "cell_type": "markdown",
      "metadata": {
        "id": "mgtwvL9L962r"
      },
      "source": [
        "Calculen la siguiente integral:  $$ \\int_{-\\infty}^{+\\infty} e^{-x^2} \\text{d}x $$ (opcional: verificar el resultado a mano!)"
      ]
    },
    {
      "cell_type": "markdown",
      "metadata": {
        "id": "Q-Q3z26J962r"
      },
      "source": [
        "---\n",
        "# Integración numérica\n",
        "Siempre es útil tener a mano una rutina de integración numérica. Puede ser para el caso en el cual la integral analítica sea muy complicada o no estándar. También es fundamental para poder integrar datos obtenidos experimentalmente, sin asumir alguna función que los modele. Para ambos casos, el paquete relevante será `scipy.integrate`"
      ]
    },
    {
      "cell_type": "markdown",
      "metadata": {
        "id": "RC3J0M8Q962r"
      },
      "source": [
        "### A partir de una función predefinida\n",
        "En este caso, la función a importar es `quad`, porque usa un método de [cuadraturas](https://en.wikipedia.org/wiki/Numerical_integration#Quadrature_rules_based_on_interpolating_functions)"
      ]
    },
    {
      "cell_type": "code",
      "execution_count": null,
      "metadata": {
        "id": "SgaxatwB962s"
      },
      "outputs": [],
      "source": [
        "from scipy.integrate import quad"
      ]
    },
    {
      "cell_type": "markdown",
      "metadata": {
        "id": "uNMiXoEJ962s"
      },
      "source": [
        "Definamos una función para ser integrada. A modo de ejemplo, calcularemos\n",
        "\n",
        "$$\\int_a^b \\dfrac{\\text{e}^{-x^2 / 2}}{\\sqrt{2\\pi}}\\text{d}x$$"
      ]
    },
    {
      "cell_type": "code",
      "execution_count": null,
      "metadata": {
        "id": "lYJ_LgaS962s"
      },
      "outputs": [],
      "source": [
        "def integrando(x): return np.exp(-x**2 / 2)/np.sqrt(2*np.pi)"
      ]
    },
    {
      "cell_type": "markdown",
      "metadata": {
        "id": "XG-C7bdB962s"
      },
      "source": [
        "Ahora, llamamos a `quad` para integrar esta función entre $a=-1$ y $b=1$"
      ]
    },
    {
      "cell_type": "code",
      "execution_count": null,
      "metadata": {
        "id": "ySfZTQwC962s",
        "colab": {
          "base_uri": "https://localhost:8080/"
        },
        "outputId": "4c49932f-2115-4674-b0f0-4e5a904d0d30"
      },
      "outputs": [
        {
          "output_type": "stream",
          "name": "stdout",
          "text": [
            "0.682689492137086 7.579375928402476e-15\n"
          ]
        }
      ],
      "source": [
        "a = -1\n",
        "b = 1\n",
        "integral, error = quad(integrando, a, b)\n",
        "print(integral, error)"
      ]
    },
    {
      "cell_type": "markdown",
      "metadata": {
        "id": "vjN2Vtlx962s"
      },
      "source": [
        "Podemos, con este método, incluso obtener la primitiva numéricamente. Por ejemplo\n",
        "\n",
        "$$F(x) = \\int_a^x \\dfrac{\\text{e}^{-t^2 / 2}}{\\sqrt{2\\pi}}\\text{d}t$$"
      ]
    },
    {
      "cell_type": "code",
      "execution_count": null,
      "metadata": {
        "id": "sAEC3Y9E962s"
      },
      "outputs": [],
      "source": [
        "# Definimos este dominio\n",
        "x = np.linspace(-5,5,100)\n",
        "\n",
        "# Ahora obtenemos la primitiva\n",
        "prim = np.zeros(x.size)\n",
        "\n",
        "for i in range(x.size):\n",
        "    prim[i], error = quad(integrando, a, x[i])\n"
      ]
    },
    {
      "cell_type": "markdown",
      "metadata": {
        "id": "fklWsmsQ962s"
      },
      "source": [
        "Veamos la gráfica para este dominio"
      ]
    },
    {
      "cell_type": "code",
      "execution_count": null,
      "metadata": {
        "id": "ms1tun5v962s",
        "colab": {
          "base_uri": "https://localhost:8080/",
          "height": 447
        },
        "outputId": "0294a7d1-03ed-4beb-93e4-af13688735fb"
      },
      "outputs": [
        {
          "output_type": "execute_result",
          "data": {
            "text/plain": [
              "<matplotlib.legend.Legend at 0x7f4386bb67a0>"
            ]
          },
          "metadata": {},
          "execution_count": 72
        },
        {
          "output_type": "display_data",
          "data": {
            "text/plain": [
              "<Figure size 640x480 with 1 Axes>"
            ],
            "image/png": "[encoded data removed]"
          },
          "metadata": {}
        }
      ],
      "source": [
        "plt.figure()\n",
        "\n",
        "plt.plot(x, integrando(x), 'b', label = 'integrando')\n",
        "plt.plot(x, prim, 'r', label = 'primitiva')\n",
        "plt.grid(True)\n",
        "plt.legend()"
      ]
    },
    {
      "cell_type": "markdown",
      "metadata": {
        "id": "gJe4qqAN962t"
      },
      "source": [
        "---\n",
        "# Funciones especiales"
      ]
    },
    {
      "cell_type": "markdown",
      "metadata": {
        "id": "66Niqv2P962t"
      },
      "source": [
        "Tal vez en algún momento de la vida nos encontremos con funciones más exóticas que el seno, coseno y exponenciales, funciones que las conocemos de nombre pero de graficarlas ni hablemos. Por suerte, la biblioteca *scipy* cuenta con abanico muy grande de estas funciones con nombre propio. En la documentación (bloque de ayuda del spyder) podemos encontrar la lista completa de funciones, buscando `scipy.special`"
      ]
    },
    {
      "cell_type": "code",
      "execution_count": null,
      "metadata": {
        "id": "LtHMxZRT962t"
      },
      "outputs": [],
      "source": [
        "import scipy.special as sp"
      ]
    },
    {
      "cell_type": "markdown",
      "metadata": {
        "id": "8l__cNHR962t"
      },
      "source": [
        "Empecemos graficando un ejemplo común en probabilidad, la *función error*:"
      ]
    },
    {
      "cell_type": "code",
      "execution_count": null,
      "metadata": {
        "id": "sLUtQHSu962t",
        "colab": {
          "base_uri": "https://localhost:8080/"
        },
        "outputId": "879bec23-3bfa-4a90-de61-52d1d5b3b4e6"
      },
      "outputs": [
        {
          "output_type": "display_data",
          "data": {
            "text/plain": [
              "<Figure size 640x480 with 1 Axes>"
            ],
            "image/png": "[encoded data removed]"
          },
          "metadata": {}
        }
      ],
      "source": [
        "import numpy as np\n",
        "import matplotlib.pyplot as plt\n",
        "%matplotlib inline\n",
        "\n",
        "x = np.linspace(-5,5,100)  # generamos el dominio\n",
        "y = sp.erf(x)  # llama a la función error de la librería\n",
        "\n",
        "plt.plot(x,y, label='función error')\n",
        "plt.grid(True)\n",
        "plt.legend(loc='best')\n",
        "plt.show()"
      ]
    },
    {
      "cell_type": "markdown",
      "metadata": {
        "id": "w1MvwHrI962t"
      },
      "source": [
        "Dentro de las muchas funciones que nos ofrece la librería, otro ejemplo importante en la física son las *funciones de Bessel* $J_{\\nu}(x)$. Hay una función para cada valor del índice $\\nu$ (que llamamos orden). En la librería, se llaman con el comando `jv(i,x)`, donde la primer entrada corresponde al orden $\\nu$.\n",
        "Como demostración, veamos ahora algunos de sus gráficos:"
      ]
    },
    {
      "cell_type": "code",
      "execution_count": null,
      "metadata": {
        "id": "QDA3Sseq962t",
        "colab": {
          "base_uri": "https://localhost:8080/"
        },
        "outputId": "24471f45-e684-41cb-8597-bfb997b5c987"
      },
      "outputs": [
        {
          "output_type": "execute_result",
          "data": {
            "text/plain": [
              "Text(0.5, 1.0, 'Funciones de Bessel')"
            ]
          },
          "metadata": {},
          "execution_count": 75
        },
        {
          "output_type": "display_data",
          "data": {
            "text/plain": [
              "<Figure size 640x480 with 1 Axes>"
            ],
            "image/png": "[encoded data removed]"
          },
          "metadata": {}
        }
      ],
      "source": [
        "num = 500\n",
        "r = np.linspace(0,10,num)\n",
        "\n",
        "for i in range(5):\n",
        "    y_i = sp.jv(i,r)  # para cada i, grafica la función de orden i\n",
        "    plt.plot(r,y_i,label='orden {}'.format(i))\n",
        "    plt.legend(loc='best')\n",
        "plt.grid(True)\n",
        "plt.xlim(0, 10)\n",
        "plt.title('Funciones de Bessel')"
      ]
    },
    {
      "cell_type": "markdown",
      "metadata": {
        "id": "vD1okFNq962u"
      },
      "source": [
        "### Ejercicio 8"
      ]
    },
    {
      "cell_type": "markdown",
      "metadata": {
        "id": "HYCHhzoQ962u"
      },
      "source": [
        "1. Busquen en la documentación la función *gamma*, y grafiquenla en el intervalo $\\left[-5,5\\right]$\n",
        "2. (Opcional) Googleen a ver qué es lo tan importante de esa función."
      ]
    }
  ],
  "metadata": {
    "anaconda-cloud": {},
    "colab": {
      "provenance": []
    },
    "kernelspec": {
      "display_name": "Python 3",
      "language": "python",
      "name": "python3"
    },
    "language_info": {
      "codemirror_mode": {
        "name": "ipython",
        "version": 3
      },
      "file_extension": ".py",
      "mimetype": "text/x-python",
      "name": "python",
      "nbconvert_exporter": "python",
      "pygments_lexer": "ipython3",
      "version": "3.9.16"
    },
    "vscode": {
      "interpreter": {
        "hash": "a42cd95ca9a57c6387dbbfdd995a278478871c13a93fa5b980ac93bb6d23c0e2"
      }
    }
  },
  "nbformat": 4,
  "nbformat_minor": 0
}